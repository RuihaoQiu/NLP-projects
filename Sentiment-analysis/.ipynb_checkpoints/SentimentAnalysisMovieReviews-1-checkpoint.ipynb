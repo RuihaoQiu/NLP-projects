{
 "cells": [
  {
   "cell_type": "markdown",
   "metadata": {},
   "source": [
    "## Sentiment Analysis on movie reviews from different sources\n",
    "\n",
    "This NLP project is aim to build different classifiers for various datasets:\n",
    "\n",
    "1. Binary classification problem with 5331 positive and 5331 negative snippets from http://www.cs.cornell.edu/people/pabo/movie-review-data </br>\n",
    "2. Binary classification on keras imdb dataset \n",
    "3. Multi-class problem with data from Kaggle competition - Sentiment Analysis on Movie Reviews.\n",
    "https://www.kaggle.com/c/sentiment-analysis-on-movie-reviews/data </br>\n",
    "The dataset is comprised of tab-separated files with phrases from the Rotten Tomatoes dataset with five classes: </br>\n",
    "0 - negative; \n",
    "1 - somewhat negative; \n",
    "2 - neutral; \n",
    "3 - somewhat positive; \n",
    "4 - positive;\n"
   ]
  },
  {
   "cell_type": "code",
   "execution_count": 3,
   "metadata": {},
   "outputs": [],
   "source": [
    "import numpy as np\n",
    "import pandas as pd\n",
    "import math\n",
    "import re\n",
    "import collections\n",
    "import random\n",
    "import string\n",
    "\n",
    "import nltk\n",
    "from nltk.corpus import stopwords\n",
    "from nltk.tokenize import word_tokenize\n",
    "from nltk.tokenize import TreebankWordTokenizer\n",
    "from nltk.stem import SnowballStemmer\n",
    "\n",
    "from sklearn.model_selection import train_test_split, cross_val_score, KFold\n",
    "from sklearn.feature_extraction.text import TfidfVectorizer\n",
    "from sklearn.manifold import TSNE\n",
    "from sklearn.naive_bayes import GaussianNB\n",
    "from sklearn.feature_selection import SelectPercentile, chi2\n",
    "\n",
    "import tensorflow as tf\n",
    "import keras\n",
    "import matplotlib.pyplot as plt"
   ]
  },
  {
   "cell_type": "markdown",
   "metadata": {},
   "source": [
    "### 1. Binary classification"
   ]
  },
  {
   "cell_type": "code",
   "execution_count": 4,
   "metadata": {
    "collapsed": true
   },
   "outputs": [],
   "source": [
    "## input data\n",
    "file_pos = open(\"data/rt-polarity-pos.txt\", \"r\", encoding=\"ISO-8859-1\")\n",
    "data_pos = file_pos.readlines()\n",
    "file_neg = open(\"data/rt-polarity-neg.txt\", \"r\", encoding=\"ISO-8859-1\")\n",
    "data_neg = file_neg.readlines()\n",
    "corpus = data_neg + data_pos\n",
    "y = np.array([0]*5331 + [1]*5331)"
   ]
  },
  {
   "cell_type": "code",
   "execution_count": 5,
   "metadata": {},
   "outputs": [
    {
     "name": "stdout",
     "output_type": "stream",
     "text": [
      "1 simplistic , silly and tedious . \n",
      "2 it's so laddish and juvenile , only teenage boys could possibly find it funny . \n",
      "3 exploitative and largely devoid of the depth or sophistication that would make watching such a graphic treatment of the crimes bearable . \n",
      "4 [garbus] discards the potential for pathological study , exhuming instead , the skewed melodrama of the circumstantial situation . \n",
      "5 a visually flashy but narratively opaque and emotionally vapid exercise in style and mystification . \n"
     ]
    }
   ],
   "source": [
    "## 10 sample of original dataset\n",
    "for i in range(5):\n",
    "    print(i+1, corpus[i], end=\"\") "
   ]
  },
  {
   "cell_type": "code",
   "execution_count": 9,
   "metadata": {},
   "outputs": [
    {
     "name": "stdout",
     "output_type": "stream",
     "text": [
      "['simplistic', 'silly', 'tedious']\n",
      "['laddish', 'juvenile', 'teenage', 'boys', 'could', 'possibly', 'find', 'funny']\n",
      "['exploitative', 'largely', 'devoid', 'depth', 'sophistication', 'would', 'make', 'watching', 'graphic', 'treatment', 'crimes', 'bearable']\n",
      "['garbus', 'discards', 'potential', 'pathological', 'study', 'exhuming', 'instead', 'skewed', 'melodrama', 'circumstantial', 'situation']\n",
      "['visually', 'flashy', 'narratively', 'opaque', 'emotionally', 'vapid', 'exercise', 'style', 'mystification']\n",
      "['simplistic silly tedious'\n",
      " 'laddish juvenile teenage boys could possibly find funny'\n",
      " 'exploitative largely devoid depth sophistication would make watching graphic treatment crimes bearable'\n",
      " 'garbus discards potential pathological study exhuming instead skewed melodrama circumstantial situation'\n",
      " 'visually flashy narratively opaque emotionally vapid exercise style mystification']\n",
      "Length of X: 10662\n"
     ]
    }
   ],
   "source": [
    "## Clean text\n",
    "\n",
    "def clean_sentence(text, rm_stopwords=True):\n",
    "    \n",
    "    # make lower case and tokenize\n",
    "    text=text.lower()\n",
    "    tokens = text.split()\n",
    "    \n",
    "    # Remove all punctuation from words.\n",
    "    table = str.maketrans(\"\",\"\", string.punctuation)\n",
    "    tokens = [w.translate(table) for w in tokens]\n",
    "    \n",
    "    # Remove all words that are not purely comprised of alphabetical characters.\n",
    "    tokens = [w for w in tokens if w.isalpha()]\n",
    "    \n",
    "    # Remove all words that are known stop words.\n",
    "    stop_words = set(stopwords.words('english'))\n",
    "    tokens = [w for w in tokens if not w in stop_words]\n",
    "    \n",
    "    # Get stem of the words\n",
    "#    stemmer = SnowballStemmer('english')\n",
    "#    tokens = [stemmer.stem(w) for w in tokens]\n",
    "    \n",
    "    # Remove all words that have a length <= 1 character.\n",
    "    tokens = [w for w in tokens if len(w) > 1]\n",
    "    return tokens\n",
    "\n",
    "clean_words = []\n",
    "clean_corpus = []\n",
    "for s in corpus:\n",
    "    clean_words.append(clean_sentence(s))\n",
    "    clean_corpus.append(\" \".join(clean_sentence(s)))\n",
    "\n",
    "[print(i) for i in clean_words[:5]]\n",
    "print(np.array(clean_corpus[:5]))\n",
    "print(\"Length of X:\", len(clean_corpus))"
   ]
  },
  {
   "cell_type": "code",
   "execution_count": 11,
   "metadata": {},
   "outputs": [
    {
     "name": "stdout",
     "output_type": "stream",
     "text": [
      "No. train-test samples: 8529 2133\n"
     ]
    }
   ],
   "source": [
    "X = np.array(clean_corpus)\n",
    "X_train, X_test, y_train, y_test = train_test_split(X, y, test_size=0.2, random_state=99, stratify=y)\n",
    "\n",
    "print(\"No. train-test samples:\", y_train.shape[0], y_test.shape[0])"
   ]
  },
  {
   "cell_type": "markdown",
   "metadata": {},
   "source": [
    "### Bag of words model\n",
    "\n",
    "- tfidf + NaiveBayers\n",
    "- tfidf + NeuralNet"
   ]
  },
  {
   "cell_type": "code",
   "execution_count": 12,
   "metadata": {},
   "outputs": [
    {
     "name": "stdout",
     "output_type": "stream",
     "text": [
      "After text vectorization,\n",
      "training set: (8529, 84436) \n",
      "testing set: (2133, 84436)\n",
      "After dimension reduction,\n",
      "training set: (8529, 8443) \n",
      "testing set: (2133, 8443)\n"
     ]
    }
   ],
   "source": [
    "## text vectorization tfidf\n",
    "vectorizer = TfidfVectorizer(max_df=0.9, decode_error='ignore', ngram_range=(1,2), stop_words=\"english\")\n",
    "X_train_transformed = vectorizer.fit_transform(X_train)\n",
    "X_test_transformed = vectorizer.transform(X_test)\n",
    "\n",
    "print(\"After text vectorization,\\ntraining set:\", X_train_transformed.shape, \n",
    "      \"\\ntesting set:\", X_test_transformed.shape)\n",
    "\n",
    "## select 10% features based on chi2 stat\n",
    "def reduce_dim(X_train, X_test, y_train, percentile):\n",
    "    selector = SelectPercentile(chi2, percentile=percentile)\n",
    "    selector.fit(X_train, y_train)\n",
    "    X_train_reduced = selector.transform(X_train).toarray()\n",
    "    X_test_reduced = selector.transform(X_test).toarray()\n",
    "    return X_train_reduced, X_test_reduced\n",
    "\n",
    "X_train_reduced, X_test_reduced = reduce_dim(X_train_transformed, \n",
    "                                             X_test_transformed, \n",
    "                                             y_train, percentile=10)\n",
    "\n",
    "print(\"After dimension reduction,\\ntraining set:\", X_train_reduced.shape, \n",
    "      \"\\ntesting set:\", X_test_reduced.shape)"
   ]
  },
  {
   "cell_type": "code",
   "execution_count": 13,
   "metadata": {},
   "outputs": [
    {
     "name": "stdout",
     "output_type": "stream",
     "text": [
      "Accuracy of train set: 93.54%\n",
      "Accuracy of test set: 69.76%\n"
     ]
    }
   ],
   "source": [
    "## model with Naive Bayes\n",
    "clf = GaussianNB()\n",
    "clf.fit(X_train_reduced, y_train)\n",
    "\n",
    "print(\"Accuracy of train set: {:.2%}\".format(clf.score(X_train_reduced, y_train)))\n",
    "print(\"Accuracy of test set: {:.2%}\".format(clf.score(X_test_reduced, y_test)))"
   ]
  },
  {
   "cell_type": "code",
   "execution_count": 14,
   "metadata": {},
   "outputs": [
    {
     "name": "stdout",
     "output_type": "stream",
     "text": [
      "Input shape:  (8529, 17961)\n",
      "Train on 8529 samples, validate on 2133 samples\n",
      "Epoch 1/10\n",
      " - 6s - loss: 0.6861 - acc: 0.5920 - val_loss: 0.6701 - val_acc: 0.7304\n",
      "Epoch 2/10\n",
      " - 6s - loss: 0.6330 - acc: 0.7595 - val_loss: 0.6091 - val_acc: 0.7464\n",
      "Epoch 3/10\n",
      " - 5s - loss: 0.5363 - acc: 0.8237 - val_loss: 0.5478 - val_acc: 0.7543\n",
      "Epoch 4/10\n",
      " - 5s - loss: 0.4416 - acc: 0.8620 - val_loss: 0.5096 - val_acc: 0.7581\n",
      "Epoch 5/10\n",
      " - 5s - loss: 0.3654 - acc: 0.8887 - val_loss: 0.4920 - val_acc: 0.7623\n",
      "Epoch 6/10\n",
      " - 5s - loss: 0.3041 - acc: 0.9087 - val_loss: 0.4819 - val_acc: 0.7656\n",
      "Epoch 7/10\n",
      " - 5s - loss: 0.2571 - acc: 0.9300 - val_loss: 0.4815 - val_acc: 0.7661\n",
      "Epoch 8/10\n",
      " - 5s - loss: 0.2187 - acc: 0.9415 - val_loss: 0.4870 - val_acc: 0.7628\n",
      "Epoch 9/10\n",
      " - 5s - loss: 0.1900 - acc: 0.9557 - val_loss: 0.4959 - val_acc: 0.7595\n",
      "Epoch 10/10\n",
      " - 5s - loss: 0.1645 - acc: 0.9614 - val_loss: 0.5077 - val_acc: 0.7576\n",
      "Test Accuracy: 75.761838\n"
     ]
    }
   ],
   "source": [
    "## model with neural netword (1 hidden-layer)\n",
    "from keras.preprocessing.text import Tokenizer\n",
    "from keras.models import Sequential\n",
    "from keras.layers import Dense\n",
    "from keras.layers import Dropout\n",
    "\n",
    "## keras tokenizer will also do all the text cleaning\n",
    "tokenizer = Tokenizer()\n",
    "tokenizer.fit_on_texts(X_train)\n",
    "Xtrain = tokenizer.texts_to_matrix(X_train, mode='freq')\n",
    "Xtest = tokenizer.texts_to_matrix(X_test, mode='freq')\n",
    "ytrain = y_train\n",
    "ytest = y_test\n",
    "\n",
    "print(\"Input shape: \", Xtrain.shape)\n",
    "\n",
    "n_words = Xtrain.shape[1]\n",
    "model = Sequential()\n",
    "model.add(Dense(64, input_shape=(n_words,), activation='relu'))\n",
    "model.add(Dropout(0.5))\n",
    "model.add(Dense(1, activation='sigmoid'))\n",
    "model.compile(loss='binary_crossentropy', optimizer='adam', metrics=['accuracy'])\n",
    "model.fit(Xtrain, ytrain, validation_data=(Xtest, ytest), epochs=10, batch_size=64, verbose=2)\n",
    "loss, acc = model.evaluate(Xtest, ytest, verbose=0)\n",
    "print('Test Accuracy: %f' % (acc*100))"
   ]
  },
  {
   "cell_type": "markdown",
   "metadata": {},
   "source": [
    "### Word embedding\n",
    "\n",
    "- Train word embedding + PCA + visualization\n",
    "- embedding + LSTM\n",
    "- embedding + CNN + LSTM"
   ]
  },
  {
   "cell_type": "code",
   "execution_count": 30,
   "metadata": {},
   "outputs": [],
   "source": [
    "## train embedding with gensim word2vec\n",
    "from gensim.models import Word2Vec\n",
    "import random\n",
    "\n",
    "\n",
    "model = Word2Vec(clean_words, size=200, min_count=2)"
   ]
  },
  {
   "cell_type": "code",
   "execution_count": 33,
   "metadata": {},
   "outputs": [
    {
     "name": "stderr",
     "output_type": "stream",
     "text": [
      "/Users/qiuruihao/miniconda2/envs/py3/lib/python3.5/site-packages/ipykernel/__main__.py:5: DeprecationWarning: Call to deprecated `__getitem__` (Method will be removed in 4.0.0, use self.wv.__getitem__() instead).\n"
     ]
    },
    {
     "name": "stdout",
     "output_type": "stream",
     "text": [
      "nearest neighbors of behave: manners appropriately mask crocodile economic defies performed chosen space preposterous \n",
      "nearest neighbors of atmospheric: visually devoid sex men given rare four young true certainly \n",
      "nearest neighbors of signs: mess comic next quality emotional reality part humor director really \n",
      "nearest neighbors of jonah: low poetry thing shows satisfying entertainment pretty scene ii michael \n",
      "nearest neighbors of truths: magic left thoroughly style girls rock side book ending debut \n",
      "nearest neighbors of outdated: jackson sick british drive heavyhanded please effectively laugh christmas effective \n",
      "nearest neighbors of chips: isolation fighting smith cry madonna realism villain justify protagonist antwone \n",
      "nearest neighbors of wondrous: happening mediocre society conventional lively pack portrayal sequence possible winds \n",
      "nearest neighbors of ignites: brutally dickens weak writers blood graphic cheap name black scenario \n",
      "nearest neighbors of sale: vincent wacky divine convey wait vulgar noble understated scooby sly \n"
     ]
    }
   ],
   "source": [
    "import scipy.spatial as sp\n",
    "\n",
    "words = list(model.wv.vocab)\n",
    "\n",
    "final_embeddings = model[model.wv.vocab]\n",
    "\n",
    "## show the 10 nearest neighbors of samples\n",
    "#similarity = 1 - sp.distance.cdist(final_embeddings, final_embeddings, 'cosine')\n",
    "\n",
    "Anorm = final_embeddings / np.linalg.norm(final_embeddings, axis=-1)[:, np.newaxis]\n",
    "similarity = np.dot(Anorm, Anorm.T)\n",
    "\n",
    "random.seed(99)\n",
    "random_list = random.sample(range(len(words)), 10)\n",
    "for i in random_list:\n",
    "    top_sim = (-similarity[i,:]).argsort()[1:11]\n",
    "    print(\"nearest neighbors of {0}: \".format(words[i]), end=\"\")\n",
    "    for k in top_sim:\n",
    "        print(words[k], end=\" \")\n",
    "    print()"
   ]
  },
  {
   "cell_type": "code",
   "execution_count": 34,
   "metadata": {},
   "outputs": [
    {
     "data": {
      "image/png": "[encoded data removed]",
      "text/plain": [
       "<matplotlib.figure.Figure at 0x1b15728d0>"
      ]
     },
     "metadata": {},
     "output_type": "display_data"
    }
   ],
   "source": [
    "from sklearn.decomposition import PCA\n",
    "\n",
    "def plot_with_labels(low_dim_embs, labels):\n",
    "  plt.figure(figsize=(12, 12))\n",
    "  for i, label in enumerate(labels):\n",
    "    x, y = low_dim_embs[i, :]\n",
    "    plt.scatter(x, y)\n",
    "    plt.annotate(\n",
    "        label,\n",
    "        xy=(x, y),\n",
    "        xytext=(5, 2),\n",
    "        textcoords='offset points',\n",
    "        ha='right',\n",
    "        va='bottom')\n",
    "\n",
    "n_plot = 200\n",
    "pca = PCA(n_components=2)\n",
    "result = pca.fit_transform(final_embeddings[:n_plot, :])\n",
    "\n",
    "labels = [words[i] for i in range(n_plot)]\n",
    "plot_with_labels(result, labels)"
   ]
  },
  {
   "cell_type": "code",
   "execution_count": 35,
   "metadata": {},
   "outputs": [
    {
     "name": "stdout",
     "output_type": "stream",
     "text": [
      "Most common words (+UNK) [['UNK', 10103], ('film', 1453), ('movie', 1270), ('one', 727), ('like', 721), ('story', 477), ('much', 386), ('even', 382), ('good', 377), ('comedy', 359)]\n",
      "5 sample sentences:\n",
      "['simplistic', 'silly', 'tedious']\n",
      "[1046, 196, 529]\n",
      "['UNK', 'juvenile', 'teenage', 'boys', 'could', 'possibly', 'find', 'funny']\n",
      "[0, 2926, 1645, 695, 34, 986, 122, 15]\n",
      "['exploitative', 'largely', 'devoid', 'depth', 'sophistication', 'would', 'make', 'watching', 'graphic', 'treatment', 'crimes', 'bearable']\n",
      "[2138, 782, 1089, 562, 4872, 30, 16, 105, 1824, 1015, 1176, 7364]\n",
      "['UNK', 'UNK', 'potential', 'UNK', 'study', 'UNK', 'instead', 'skewed', 'melodrama', 'circumstantial', 'situation']\n",
      "[0, 0, 671, 0, 248, 0, 194, 6252, 318, 9934, 700]\n",
      "['visually', 'flashy', 'narratively', 'opaque', 'emotionally', 'vapid', 'exercise', 'style', 'UNK']\n",
      "[418, 1670, 3844, 3326, 528, 2474, 296, 175, 0]\n"
     ]
    }
   ],
   "source": [
    "## build vocabulary\n",
    "\n",
    "def count_data(words, n_words):\n",
    "  count = [['UNK', -1]]\n",
    "  count.extend(collections.Counter(words).most_common(n_words - 1))\n",
    "  dictionary = dict()\n",
    "  for word, _ in count:\n",
    "    dictionary[word] = len(dictionary)\n",
    "  unk_count = 0\n",
    "  for word in words:\n",
    "    index = dictionary.get(word, 0)\n",
    "    if index == 0:\n",
    "      unk_count += 1\n",
    "  count[0][1] = unk_count\n",
    "  reversed_dictionary = dict(zip(dictionary.values(), dictionary.keys()))\n",
    "  return count, dictionary, reversed_dictionary\n",
    "\n",
    "## words are indexed by overall frequency in the dataset, \n",
    "## so that for instance the integer \"3\" encodes the 3rd most frequent word in the data. \n",
    "def build_data(sep_words):\n",
    "  data = list()\n",
    "  for lst in clean_words:\n",
    "    sent = list()\n",
    "    for w in lst:\n",
    "      if w in dictionary.keys():\n",
    "        sent.append(dictionary[w])\n",
    "      else:\n",
    "        sent.append(dictionary[\"UNK\"])\n",
    "    data.append(sent)\n",
    "  return data\n",
    "\n",
    "vocab_size = 10000\n",
    "all_words = np.concatenate(clean_words)\n",
    "count, dictionary, reverse_dictionary = count_data(all_words, vocab_size)\n",
    "data = build_data(clean_words)\n",
    "\n",
    "print('Most common words (+UNK)', count[:10])\n",
    "print(\"5 sample sentences:\")\n",
    "for i in range(5):\n",
    "    print([reverse_dictionary[j] for j in data[i]], data[i], sep=\"\\n\")"
   ]
  },
  {
   "cell_type": "code",
   "execution_count": 37,
   "metadata": {},
   "outputs": [
    {
     "name": "stdout",
     "output_type": "stream",
     "text": [
      "[[   0    0    0    0    0    0    0    0    0    0    0    0    0    0\n",
      "  3533 1017  406   29 3851  823  475  519  156 1289]\n",
      " [   0    0    0    0    0    0    0    0    0    0    0    0    0    0\n",
      "     0    0 4120    1  622 1046  215 1784 3208 1395]\n",
      " [   0    0    0    0    0    0    0    0    0    0    0  202  278  166\n",
      "   121 2805  290 3774    0  374    0  636  247 3584]\n",
      " [   0    0    0    0    0    0    0    0    0    0    0    0    0  275\n",
      "  1105 5205    2  147  648 1746    0  147  235    0]\n",
      " [   0    0    0    0    0    0    0    0    0    0  561    5 5249  470\n",
      "   345  448 2888 2087   54  821 8794   67  595  593]]\n"
     ]
    }
   ],
   "source": [
    "## embedding + LSTM\n",
    "from keras.layers.embeddings import Embedding\n",
    "from keras.layers import LSTM\n",
    "from keras.preprocessing import sequence\n",
    "np.random.seed(7)\n",
    "\n",
    "X_train, X_test, y_train, y_test = train_test_split(data, y, test_size=0.2, random_state=99, stratify=y)\n",
    "\n",
    "vector_length = 100\n",
    "sentence_length = 24\n",
    "\n",
    "X_train = sequence.pad_sequences(X_train, maxlen=sentence_length)\n",
    "X_test = sequence.pad_sequences(X_test, maxlen=sentence_length)\n",
    "\n",
    "#print(X_train.shape, X_test.shape)\n",
    "print(X_train[:5])"
   ]
  },
  {
   "cell_type": "code",
   "execution_count": 34,
   "metadata": {},
   "outputs": [
    {
     "name": "stdout",
     "output_type": "stream",
     "text": [
      "_________________________________________________________________\n",
      "Layer (type)                 Output Shape              Param #   \n",
      "=================================================================\n",
      "embedding_4 (Embedding)      (None, 24, 100)           1000000   \n",
      "_________________________________________________________________\n",
      "dropout_11 (Dropout)         (None, 24, 100)           0         \n",
      "_________________________________________________________________\n",
      "lstm_4 (LSTM)                (None, 64)                42240     \n",
      "_________________________________________________________________\n",
      "dropout_12 (Dropout)         (None, 64)                0         \n",
      "_________________________________________________________________\n",
      "dense_12 (Dense)             (None, 1)                 65        \n",
      "=================================================================\n",
      "Total params: 1,042,305\n",
      "Trainable params: 1,042,305\n",
      "Non-trainable params: 0\n",
      "_________________________________________________________________\n",
      "None\n",
      "Train on 8529 samples, validate on 2133 samples\n",
      "Epoch 1/3\n",
      "8529/8529 [==============================] - 17s 2ms/step - loss: 0.6289 - acc: 0.6245 - val_loss: 0.5106 - val_acc: 0.7421\n",
      "Epoch 2/3\n",
      "8529/8529 [==============================] - 15s 2ms/step - loss: 0.3936 - acc: 0.8255 - val_loss: 0.5064 - val_acc: 0.7515\n",
      "Epoch 3/3\n",
      "8529/8529 [==============================] - 13s 2ms/step - loss: 0.2485 - acc: 0.9002 - val_loss: 0.5501 - val_acc: 0.7557\n",
      "Accuracy: 75.57%\n"
     ]
    }
   ],
   "source": [
    "model = Sequential()\n",
    "model.add(Embedding(input_dim=vocab_size, output_dim=vector_length, input_length=sentence_length))\n",
    "model.add(Dropout(0.5))\n",
    "model.add(LSTM(64))\n",
    "model.add(Dropout(0.5))\n",
    "model.add(Dense(1, activation='sigmoid'))\n",
    "model.compile(optimizer='adam', loss='binary_crossentropy', metrics=['acc'])\n",
    "print(model.summary())\n",
    "model.fit(X_train, y_train, validation_data=(X_test, y_test), epochs=3, batch_size=32)\n",
    "scores = model.evaluate(X_test, y_test, verbose=0)\n",
    "print(\"Accuracy: %.2f%%\" % (scores[1]*100))"
   ]
  },
  {
   "cell_type": "code",
   "execution_count": 35,
   "metadata": {},
   "outputs": [
    {
     "name": "stdout",
     "output_type": "stream",
     "text": [
      "_________________________________________________________________\n",
      "Layer (type)                 Output Shape              Param #   \n",
      "=================================================================\n",
      "embedding_5 (Embedding)      (None, 24, 100)           1000000   \n",
      "_________________________________________________________________\n",
      "dropout_13 (Dropout)         (None, 24, 100)           0         \n",
      "_________________________________________________________________\n",
      "conv1d_2 (Conv1D)            (None, 24, 32)            9632      \n",
      "_________________________________________________________________\n",
      "max_pooling1d_2 (MaxPooling1 (None, 6, 32)             0         \n",
      "_________________________________________________________________\n",
      "dropout_14 (Dropout)         (None, 6, 32)             0         \n",
      "_________________________________________________________________\n",
      "lstm_5 (LSTM)                (None, 64)                24832     \n",
      "_________________________________________________________________\n",
      "dropout_15 (Dropout)         (None, 64)                0         \n",
      "_________________________________________________________________\n",
      "dense_13 (Dense)             (None, 1)                 65        \n",
      "=================================================================\n",
      "Total params: 1,034,529\n",
      "Trainable params: 1,034,529\n",
      "Non-trainable params: 0\n",
      "_________________________________________________________________\n",
      "None\n",
      "Train on 8529 samples, validate on 2133 samples\n",
      "Epoch 1/5\n",
      "8529/8529 [==============================] - 11s 1ms/step - loss: 0.6815 - acc: 0.5485 - val_loss: 0.5910 - val_acc: 0.6939\n",
      "Epoch 2/5\n",
      "8529/8529 [==============================] - 7s 876us/step - loss: 0.4752 - acc: 0.7789 - val_loss: 0.4824 - val_acc: 0.7675\n",
      "Epoch 3/5\n",
      "8529/8529 [==============================] - 8s 887us/step - loss: 0.3051 - acc: 0.8740 - val_loss: 0.5157 - val_acc: 0.7557\n",
      "Epoch 4/5\n",
      "8529/8529 [==============================] - 9s 1ms/step - loss: 0.2081 - acc: 0.9199 - val_loss: 0.6001 - val_acc: 0.7576\n",
      "Epoch 5/5\n",
      "8529/8529 [==============================] - 8s 983us/step - loss: 0.1432 - acc: 0.9445 - val_loss: 0.7131 - val_acc: 0.7482\n",
      "Accuracy: 74.82%\n"
     ]
    }
   ],
   "source": [
    "## Embedding + LSTM + CNN\n",
    "from keras.layers.convolutional import Conv1D\n",
    "from keras.layers.convolutional import MaxPooling1D\n",
    "\n",
    "model = Sequential()\n",
    "model.add(Embedding(input_dim=vocab_size, output_dim=vector_length, input_length=sentence_length))\n",
    "model.add(Dropout(0.5))\n",
    "model.add(Conv1D(filters=32, kernel_size=3, padding='same', activation='relu'))\n",
    "model.add(MaxPooling1D(pool_size=4))\n",
    "model.add(Dropout(0.5))\n",
    "model.add(LSTM(64))\n",
    "model.add(Dropout(0.5))\n",
    "model.add(Dense(1, activation='sigmoid'))\n",
    "model.compile(optimizer='adam', loss='binary_crossentropy', metrics=['acc'])\n",
    "print(model.summary())\n",
    "model.fit(X_train, y_train, validation_data=(X_test, y_test), epochs=5, batch_size=32)\n",
    "scores = model.evaluate(X_test, y_test, verbose=0)\n",
    "print(\"Accuracy: %.2f%%\" % (scores[1]*100))"
   ]
  },
  {
   "cell_type": "markdown",
   "metadata": {},
   "source": [
    "### 2. Models for Long reviews from keras IMDb dataset"
   ]
  },
  {
   "cell_type": "code",
   "execution_count": 36,
   "metadata": {},
   "outputs": [
    {
     "name": "stdout",
     "output_type": "stream",
     "text": [
      "_________________________________________________________________\n",
      "Layer (type)                 Output Shape              Param #   \n",
      "=================================================================\n",
      "embedding_6 (Embedding)      (None, 500, 32)           160000    \n",
      "_________________________________________________________________\n",
      "dropout_16 (Dropout)         (None, 500, 32)           0         \n",
      "_________________________________________________________________\n",
      "lstm_6 (LSTM)                (None, 100)               53200     \n",
      "_________________________________________________________________\n",
      "dense_14 (Dense)             (None, 1)                 101       \n",
      "=================================================================\n",
      "Total params: 213,301\n",
      "Trainable params: 213,301\n",
      "Non-trainable params: 0\n",
      "_________________________________________________________________\n",
      "None\n",
      "Epoch 1/3\n",
      "25000/25000 [==============================] - 285s 11ms/step - loss: 0.5016 - acc: 0.7423\n",
      "Epoch 2/3\n",
      "25000/25000 [==============================] - 251s 10ms/step - loss: 0.3060 - acc: 0.8751\n",
      "Epoch 3/3\n",
      "25000/25000 [==============================] - 258s 10ms/step - loss: 0.2755 - acc: 0.8906\n",
      "Accuracy: 86.96%\n"
     ]
    }
   ],
   "source": [
    "## load directly from keras\n",
    "from keras.datasets import imdb\n",
    "\n",
    "vocab_size = 5000\n",
    "(X_train, y_train), (X_test, y_test) = imdb.load_data(num_words=vocab_size)\n",
    "\n",
    "sentence_length = 500\n",
    "embed_vecor_length = 32\n",
    "\n",
    "X_train = sequence.pad_sequences(X_train, maxlen=sentence_length)\n",
    "X_test = sequence.pad_sequences(X_test, maxlen=sentence_length)\n",
    "\n",
    "model = Sequential()\n",
    "model.add(Embedding(vocab_size, embed_vecor_length, input_length=sentence_length))\n",
    "model.add(Dropout(0.5))\n",
    "model.add(LSTM(100))\n",
    "model.add(Dense(1, activation='sigmoid'))\n",
    "model.compile(loss='binary_crossentropy', optimizer='adam', metrics=['accuracy'])\n",
    "print(model.summary())\n",
    "model.fit(X_train, y_train, epochs=3, batch_size=64)\n",
    "\n",
    "scores = model.evaluate(X_test, y_test, verbose=0)\n",
    "print(\"Accuracy: %.2f%%\" % (scores[1]*100))"
   ]
  },
  {
   "cell_type": "markdown",
   "metadata": {},
   "source": [
    "### 3. Multi-class classification"
   ]
  },
  {
   "cell_type": "code",
   "execution_count": 37,
   "metadata": {},
   "outputs": [
    {
     "data": {
      "text/html": [
       "<div>\n",
       "<style>\n",
       "    .dataframe thead tr:only-child th {\n",
       "        text-align: right;\n",
       "    }\n",
       "\n",
       "    .dataframe thead th {\n",
       "        text-align: left;\n",
       "    }\n",
       "\n",
       "    .dataframe tbody tr th {\n",
       "        vertical-align: top;\n",
       "    }\n",
       "</style>\n",
       "<table border=\"1\" class=\"dataframe\">\n",
       "  <thead>\n",
       "    <tr style=\"text-align: right;\">\n",
       "      <th></th>\n",
       "      <th>PhraseId</th>\n",
       "      <th>SentenceId</th>\n",
       "      <th>Phrase</th>\n",
       "      <th>Sentiment</th>\n",
       "    </tr>\n",
       "  </thead>\n",
       "  <tbody>\n",
       "    <tr>\n",
       "      <th>0</th>\n",
       "      <td>1</td>\n",
       "      <td>1</td>\n",
       "      <td>A series of escapades demonstrating the adage ...</td>\n",
       "      <td>1</td>\n",
       "    </tr>\n",
       "    <tr>\n",
       "      <th>1</th>\n",
       "      <td>2</td>\n",
       "      <td>1</td>\n",
       "      <td>A series of escapades demonstrating the adage ...</td>\n",
       "      <td>2</td>\n",
       "    </tr>\n",
       "    <tr>\n",
       "      <th>2</th>\n",
       "      <td>3</td>\n",
       "      <td>1</td>\n",
       "      <td>A series</td>\n",
       "      <td>2</td>\n",
       "    </tr>\n",
       "    <tr>\n",
       "      <th>3</th>\n",
       "      <td>4</td>\n",
       "      <td>1</td>\n",
       "      <td>A</td>\n",
       "      <td>2</td>\n",
       "    </tr>\n",
       "    <tr>\n",
       "      <th>4</th>\n",
       "      <td>5</td>\n",
       "      <td>1</td>\n",
       "      <td>series</td>\n",
       "      <td>2</td>\n",
       "    </tr>\n",
       "  </tbody>\n",
       "</table>\n",
       "</div>"
      ],
      "text/plain": [
       "   PhraseId  SentenceId                                             Phrase  \\\n",
       "0         1           1  A series of escapades demonstrating the adage ...   \n",
       "1         2           1  A series of escapades demonstrating the adage ...   \n",
       "2         3           1                                           A series   \n",
       "3         4           1                                                  A   \n",
       "4         5           1                                             series   \n",
       "\n",
       "   Sentiment  \n",
       "0          1  \n",
       "1          2  \n",
       "2          2  \n",
       "3          2  \n",
       "4          2  "
      ]
     },
     "execution_count": 37,
     "metadata": {},
     "output_type": "execute_result"
    }
   ],
   "source": [
    "## import data\n",
    "origin_data = pd.read_csv(\"data/kaggle.tsv\", sep='\\t')\n",
    "\n",
    "X = origin_data[\"Phrase\"].values\n",
    "y = origin_data[\"Sentiment\"].values\n",
    "\n",
    "origin_data.head()"
   ]
  },
  {
   "cell_type": "code",
   "execution_count": 38,
   "metadata": {},
   "outputs": [
    {
     "data": {
      "text/plain": [
       "2    79582\n",
       "3    32927\n",
       "1    27273\n",
       "4     9206\n",
       "0     7072\n",
       "dtype: int64"
      ]
     },
     "execution_count": 38,
     "metadata": {},
     "output_type": "execute_result"
    }
   ],
   "source": [
    "pd.value_counts(y)"
   ]
  },
  {
   "cell_type": "code",
   "execution_count": 39,
   "metadata": {},
   "outputs": [
    {
     "name": "stdout",
     "output_type": "stream",
     "text": [
      "[['a', 'series', 'of', 'escapades', 'demonstrating', 'the', 'adage', 'that', 'what', 'is', 'good', 'for', 'the', 'goose', 'is', 'also', 'good', 'for', 'the', 'gander', 'some', 'of', 'which', 'occasionally', 'amuses', 'but', 'none', 'of', 'which', 'amounts', 'to', 'much', 'of', 'a', 'story'], ['a', 'series', 'of', 'escapades', 'demonstrating', 'the', 'adage', 'that', 'what', 'is', 'good', 'for', 'the', 'goose'], ['a', 'series'], ['a'], ['series'], ['of', 'escapades', 'demonstrating', 'the', 'adage', 'that', 'what', 'is', 'good', 'for', 'the', 'goose'], ['of'], ['escapades', 'demonstrating', 'the', 'adage', 'that', 'what', 'is', 'good', 'for', 'the', 'goose'], ['escapades'], ['demonstrating', 'the', 'adage', 'that', 'what', 'is', 'good', 'for', 'the', 'goose']]\n",
      "['a series of escapades demonstrating the adage that what is good for the goose is also good for the gander some of which occasionally amuses but none of which amounts to much of a story', 'a series of escapades demonstrating the adage that what is good for the goose', 'a series', 'a', 'series', 'of escapades demonstrating the adage that what is good for the goose', 'of', 'escapades demonstrating the adage that what is good for the goose', 'escapades', 'demonstrating the adage that what is good for the goose']\n",
      "Length of X: 156060\n"
     ]
    }
   ],
   "source": [
    "def clean_sentence(text, rm_stopwords=True):\n",
    "    \"\"\"\n",
    "    - Tokenize the words.\n",
    "    - Remove all punctuation from words.\n",
    "    - Remove all words that are not purely comprised of alphabetical characters.\n",
    "    \"\"\"\n",
    "    \n",
    "    text=text.lower()\n",
    "    tokens = text.split()\n",
    "    \n",
    "    table = str.maketrans(\"\",\"\", string.punctuation)\n",
    "    tokens = [w.translate(table) for w in tokens]\n",
    "    \n",
    "    tokens = [w for w in tokens if w.isalpha()]\n",
    "    return tokens\n",
    "\n",
    "clean_corpus = []\n",
    "clean_words = []\n",
    "for s in X:\n",
    "    clean_words.append(clean_sentence(s))\n",
    "    clean_corpus.append(\" \".join(clean_sentence(s)))\n",
    "\n",
    "print(clean_words[:10])\n",
    "print(clean_corpus[:10])\n",
    "print(\"Length of X:\", len(clean_corpus))"
   ]
  },
  {
   "cell_type": "code",
   "execution_count": 42,
   "metadata": {},
   "outputs": [
    {
     "name": "stdout",
     "output_type": "stream",
     "text": [
      "Most common words (+UNK) [['UNK', 123592], ('the', 51220), ('a', 36130), ('of', 32308), ('and', 31763), ('to', 22448), ('s', 17002), ('in', 13745), ('is', 13447), ('that', 12327)]\n",
      "5 sample sentences:\n",
      "['a', 'series', 'of', 'UNK', 'UNK', 'the', 'UNK', 'that', 'what', 'is', 'good', 'for', 'the', 'goose', 'is', 'also', 'good', 'for', 'the', 'UNK', 'some', 'of', 'which', 'occasionally', 'UNK', 'but', 'none', 'of', 'which', 'amounts', 'to', 'much', 'of', 'a', 'story']\n",
      "[2, 304, 3, 0, 0, 1, 0, 9, 52, 8, 49, 13, 1, 3490, 8, 169, 49, 13, 1, 0, 62, 3, 75, 617, 0, 19, 576, 3, 75, 2012, 5, 54, 3, 2, 40]\n",
      "['a', 'series', 'of', 'UNK', 'UNK', 'the', 'UNK', 'that', 'what', 'is', 'good', 'for', 'the', 'goose']\n",
      "[2, 304, 3, 0, 0, 1, 0, 9, 52, 8, 49, 13, 1, 3490]\n",
      "['a', 'series']\n",
      "[2, 304]\n",
      "['a']\n",
      "[2]\n",
      "['series']\n",
      "[304]\n"
     ]
    }
   ],
   "source": [
    "all_words = np.concatenate(clean_words)\n",
    "count, dictionary, reverse_dictionary = count_data(all_words, vocab_size)\n",
    "data = build_data(clean_words)\n",
    "vocab_size = 10000\n",
    "\n",
    "print('Most common words (+UNK)', count[:10])\n",
    "print(\"5 sample sentences:\")\n",
    "for i in range(5):\n",
    "    print([reverse_dictionary[j] for j in data[i]], data[i], sep=\"\\n\")"
   ]
  },
  {
   "cell_type": "code",
   "execution_count": 43,
   "metadata": {},
   "outputs": [
    {
     "name": "stdout",
     "output_type": "stream",
     "text": [
      "Shape of train-test data: (109242, 20) (46818, 20)\n"
     ]
    }
   ],
   "source": [
    "X_train, X_test, y_train, y_test = train_test_split(data, y, test_size=0.3, random_state=99, stratify=y)\n",
    "\n",
    "sent_lens = [len(s) for s in clean_words]\n",
    "sentence_length = np.round((np.mean(sent_lens) + 2*np.std(sent_lens))).astype(int)\n",
    "vector_length = 100\n",
    "\n",
    "X_train = sequence.pad_sequences(X_train, maxlen=sentence_length)\n",
    "X_test = sequence.pad_sequences(X_test, maxlen=sentence_length)\n",
    "\n",
    "print(\"Shape of train-test data:\", X_train.shape, X_test.shape)\n",
    "\n",
    "Y_train = keras.utils.to_categorical(y_train, 5)\n",
    "Y_test   = keras.utils.to_categorical(y_test, 5)"
   ]
  },
  {
   "cell_type": "code",
   "execution_count": 44,
   "metadata": {},
   "outputs": [
    {
     "name": "stdout",
     "output_type": "stream",
     "text": [
      "_________________________________________________________________\n",
      "Layer (type)                 Output Shape              Param #   \n",
      "=================================================================\n",
      "embedding_7 (Embedding)      (None, 20, 100)           1000000   \n",
      "_________________________________________________________________\n",
      "dropout_17 (Dropout)         (None, 20, 100)           0         \n",
      "_________________________________________________________________\n",
      "lstm_7 (LSTM)                (None, 64)                42240     \n",
      "_________________________________________________________________\n",
      "dense_15 (Dense)             (None, 5)                 325       \n",
      "=================================================================\n",
      "Total params: 1,042,565\n",
      "Trainable params: 1,042,565\n",
      "Non-trainable params: 0\n",
      "_________________________________________________________________\n",
      "None\n",
      "Train on 109242 samples, validate on 46818 samples\n",
      "Epoch 1/3\n",
      "109242/109242 [==============================] - 150s 1ms/step - loss: 1.0188 - acc: 0.5922 - val_loss: 0.9251 - val_acc: 0.6292\n",
      "Epoch 2/3\n",
      "109242/109242 [==============================] - 141s 1ms/step - loss: 0.8890 - acc: 0.6443 - val_loss: 0.8868 - val_acc: 0.6477\n",
      "Epoch 3/3\n",
      "109242/109242 [==============================] - 144s 1ms/step - loss: 0.8470 - acc: 0.6615 - val_loss: 0.8717 - val_acc: 0.6512\n",
      "Accuracy: 65.12%\n"
     ]
    }
   ],
   "source": [
    "model = Sequential()\n",
    "model.add(Embedding(input_dim=vocab_size, output_dim=vector_length, input_length=sentence_length))\n",
    "model.add(Dropout(0.5))\n",
    "model.add(LSTM(64))\n",
    "model.add(Dense(5, activation='softmax'))\n",
    "model.compile(optimizer='adam', loss='categorical_crossentropy', metrics=['acc'])\n",
    "print(model.summary())\n",
    "model.fit(X_train, Y_train, validation_data=(X_test, Y_test), epochs=3, batch_size=32)\n",
    "scores = model.evaluate(X_test, Y_test, verbose=0)\n",
    "print(\"Accuracy: %.2f%%\" % (scores[1]*100))"
   ]
  },
  {
   "cell_type": "code",
   "execution_count": null,
   "metadata": {
    "collapsed": true
   },
   "outputs": [],
   "source": [
    "## An alternative way to train a word2vec with tensorflow\n",
    "\n",
    "vocabulary_size = 1000\n",
    "def build_dataset(words, n_words):\n",
    "  count = [['UNK', -1]]\n",
    "  count.extend(collections.Counter(words).most_common(n_words - 1))\n",
    "  dictionary = dict()\n",
    "  for word, _ in count:\n",
    "    dictionary[word] = len(dictionary)\n",
    "  data = list()\n",
    "  unk_count = 0\n",
    "  for word in words:\n",
    "    index = dictionary.get(word, 0)\n",
    "    if index == 0:\n",
    "      unk_count += 1\n",
    "    data.append(index)\n",
    "  count[0][1] = unk_count\n",
    "  reversed_dictionary = dict(zip(dictionary.values(), dictionary.keys()))\n",
    "  return data, count, dictionary, reversed_dictionary\n",
    "\n",
    "data, count, dictionary, reverse_dictionary = build_dataset(\n",
    "    vocabulary, vocabulary_size)\n",
    "\n",
    "print('Most common words (+UNK)', count[:5])\n",
    "print('Sample data', data[:10], [reverse_dictionary[i] for i in data[:10]])\n",
    "\n",
    "data_index = 0\n",
    "\n",
    "def generate_batch(batch_size, num_skips, skip_window):\n",
    "  global data_index\n",
    "  assert batch_size % num_skips == 0\n",
    "  assert num_skips <= 2 * skip_window\n",
    "  batch = np.ndarray(shape=(batch_size), dtype=np.int32)\n",
    "  labels = np.ndarray(shape=(batch_size, 1), dtype=np.int32)\n",
    "  span = 2 * skip_window + 1  # [ skip_window target skip_window ]\n",
    "  buffer = collections.deque(maxlen=span)\n",
    "  if data_index + span > len(data):\n",
    "    data_index = 0\n",
    "  buffer.extend(data[data_index:data_index + span])\n",
    "  data_index += span\n",
    "  for i in range(batch_size // num_skips):\n",
    "    context_words = [w for w in range(span) if w != skip_window]\n",
    "    words_to_use = random.sample(context_words, num_skips)\n",
    "    for j, context_word in enumerate(words_to_use):\n",
    "      batch[i * num_skips + j] = buffer[skip_window]\n",
    "      labels[i * num_skips + j, 0] = buffer[context_word]\n",
    "    if data_index == len(data):\n",
    "      buffer.extend(data[0:span])\n",
    "      data_index = span\n",
    "    else:\n",
    "      buffer.append(data[data_index])\n",
    "      data_index += 1\n",
    "  data_index = (data_index + len(data) - span) % len(data)\n",
    "  return batch, labels\n",
    "\n",
    "batch, labels = generate_batch(batch_size=8, num_skips=2, skip_window=1)\n",
    "for i in range(8):\n",
    "  print(batch[i], reverse_dictionary[batch[i]], '->', labels[i, 0],\n",
    "        reverse_dictionary[labels[i, 0]])\n",
    "\n",
    "print(\"shape of batch:\", batch.shape, \"shape of labels:\", labels.shape)"
   ]
  },
  {
   "cell_type": "code",
   "execution_count": null,
   "metadata": {
    "collapsed": true
   },
   "outputs": [],
   "source": [
    "batch_size = 64\n",
    "embedding_size = 512  # Dimension of the embedding vector.\n",
    "skip_window = 4  # How many words to consider left and right.\n",
    "num_skips = 4  # How many times to reuse an input to generate a label.\n",
    "num_sampled = 64  # Number of negative examples to sample, used to adjust the weights.\n",
    "\n",
    "valid_size = 16  # Random set of words to evaluate similarity on.\n",
    "valid_window = 100  # Only pick dev samples in the head of the distribution.\n",
    "valid_examples = np.random.choice(valid_window, valid_size, replace=False)\n",
    "\n",
    "graph = tf.Graph()\n",
    "with graph.as_default():\n",
    "\n",
    "  with tf.name_scope('inputs'):\n",
    "    train_inputs = tf.placeholder(tf.int32, shape=[batch_size])\n",
    "    train_labels = tf.placeholder(tf.int32, shape=[batch_size, 1])\n",
    "    valid_dataset = tf.constant(valid_examples, dtype=tf.int32)\n",
    "\n",
    "  with tf.device('/cpu:0'):\n",
    "    with tf.name_scope('embeddings'):\n",
    "      embeddings = tf.Variable(\n",
    "          tf.random_uniform([vocabulary_size, embedding_size], -1.0, 1.0))\n",
    "      embed = tf.nn.embedding_lookup(embeddings, train_inputs)\n",
    "\n",
    "    with tf.name_scope('weights'):\n",
    "      nce_weights = tf.Variable(\n",
    "          tf.truncated_normal(\n",
    "              [vocabulary_size, embedding_size],\n",
    "              stddev=1.0 / math.sqrt(embedding_size)))\n",
    "    with tf.name_scope('biases'):\n",
    "      nce_biases = tf.Variable(tf.zeros([vocabulary_size]))\n",
    "\n",
    "  with tf.name_scope('loss'):\n",
    "    loss = tf.reduce_mean(\n",
    "        tf.nn.nce_loss(\n",
    "            weights=nce_weights,\n",
    "            biases=nce_biases,\n",
    "            labels=train_labels,\n",
    "            inputs=embed,\n",
    "            num_sampled=num_sampled,\n",
    "            num_classes=vocabulary_size))\n",
    "\n",
    "  with tf.name_scope('optimizer'):\n",
    "    optimizer = tf.train.GradientDescentOptimizer(.1).minimize(loss)\n",
    "\n",
    "  norm = tf.sqrt(tf.reduce_sum(tf.square(embeddings), 1, keepdims=True))\n",
    "  normalized_embeddings = embeddings / norm\n",
    "  valid_embeddings = tf.nn.embedding_lookup(normalized_embeddings,\n",
    "                                     valid_dataset)\n",
    "  similarity = tf.matmul(\n",
    "      valid_embeddings, normalized_embeddings, transpose_b=True)\n",
    "\n",
    "  init = tf.global_variables_initializer()"
   ]
  },
  {
   "cell_type": "code",
   "execution_count": null,
   "metadata": {
    "collapsed": true,
    "scrolled": true
   },
   "outputs": [],
   "source": [
    "# training.\n",
    "num_steps = 10001\n",
    "with tf.Session(graph=graph) as session:\n",
    "  init.run()\n",
    "  print('Initialized')\n",
    "\n",
    "  average_loss = 0\n",
    "  for step in range(num_steps):\n",
    "    batch_inputs, batch_labels = generate_batch(batch_size, num_skips, skip_window)\n",
    "    feed_dict = {train_inputs: batch_inputs, train_labels: batch_labels}\n",
    "    run_metadata = tf.RunMetadata()\n",
    "\n",
    "    _, loss_val = session.run(\n",
    "        [optimizer, loss],\n",
    "        feed_dict=feed_dict,\n",
    "        run_metadata=run_metadata)\n",
    "    average_loss += loss_val\n",
    "\n",
    "    if step % 2000 == 0:\n",
    "      if step > 0:\n",
    "        average_loss /= 2000\n",
    "      print('Average loss at step ', step, ': ', average_loss)\n",
    "      average_loss = 0\n",
    "    \n",
    "    if step % 20000 == 0:\n",
    "      sim = similarity.eval()\n",
    "      for i in range(valid_size):\n",
    "        valid_word = reverse_dictionary[valid_examples[i]]\n",
    "        top_k = 8 \n",
    "        nearest = (-sim[i, :]).argsort()[1:top_k + 1]\n",
    "        log_str = 'Nearest to %s:' % valid_word\n",
    "        for k in range(top_k):\n",
    "          close_word = reverse_dictionary[nearest[k]]\n",
    "          log_str = '%s %s,' % (log_str, close_word)\n",
    "        print(log_str)\n",
    "  final_embeddings = normalized_embeddings.eval()"
   ]
  },
  {
   "cell_type": "code",
   "execution_count": null,
   "metadata": {
    "collapsed": true,
    "scrolled": true
   },
   "outputs": [],
   "source": [
    "def plot_with_labels(low_dim_embs, labels):\n",
    "  plt.figure(figsize=(16, 16))\n",
    "  for i, label in enumerate(labels):\n",
    "    x, y = low_dim_embs[i, :]\n",
    "    plt.scatter(x, y)\n",
    "    plt.annotate(\n",
    "        label,\n",
    "        xy=(x, y),\n",
    "        xytext=(5, 2),\n",
    "        textcoords='offset points',\n",
    "        ha='right',\n",
    "        va='bottom')\n",
    "\n",
    "\n",
    "tsne = TSNE(perplexity=30, n_components=2, init='pca', n_iter=1000, method='exact')\n",
    "plot_only = 500\n",
    "low_dim_embs = tsne.fit_transform(final_embeddings[:plot_only, :])\n",
    "labels = [reverse_dictionary[i] for i in range(plot_only)]\n",
    "plot_with_labels(low_dim_embs, labels)"
   ]
  },
  {
   "cell_type": "code",
   "execution_count": null,
   "metadata": {
    "collapsed": true
   },
   "outputs": [],
   "source": []
  }
 ],
 "metadata": {
  "anaconda-cloud": {},
  "kernelspec": {
   "display_name": "Python [conda env:py3]",
   "language": "python",
   "name": "conda-env-py3-py"
  },
  "language_info": {
   "codemirror_mode": {
    "name": "ipython",
    "version": 3
   },
   "file_extension": ".py",
   "mimetype": "text/x-python",
   "name": "python",
   "nbconvert_exporter": "python",
   "pygments_lexer": "ipython3",
   "version": "3.5.3"
  }
 },
 "nbformat": 4,
 "nbformat_minor": 2
}
