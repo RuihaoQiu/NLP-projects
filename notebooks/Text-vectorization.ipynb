{
 "cells": [
  {
   "cell_type": "code",
   "execution_count": 1,
   "metadata": {},
   "outputs": [],
   "source": [
    "import pandas as pd\n",
    "from sklearn.feature_extraction.text import CountVectorizer, TfidfVectorizer"
   ]
  },
  {
   "cell_type": "code",
   "execution_count": 3,
   "metadata": {},
   "outputs": [],
   "source": [
    "df = pd.read_excel(\"data/sample.xlsx\")\n",
    "samples = df.title.values"
   ]
  },
  {
   "cell_type": "markdown",
   "metadata": {},
   "source": [
    "Bag of words"
   ]
  },
  {
   "cell_type": "code",
   "execution_count": 4,
   "metadata": {},
   "outputs": [
    {
     "name": "stdout",
     "output_type": "stream",
     "text": [
      "(269, 466)\n"
     ]
    }
   ],
   "source": [
    "vectorizer = CountVectorizer(stop_words=\"english\")\n",
    "X = vectorizer.fit_transform(samples)\n",
    "print(X.shape)"
   ]
  },
  {
   "cell_type": "markdown",
   "metadata": {},
   "source": [
    "N-gram vectorizer"
   ]
  },
  {
   "cell_type": "code",
   "execution_count": 24,
   "metadata": {},
   "outputs": [],
   "source": [
    "vectorizer = CountVectorizer(stop_words=\"english\", ngram_range=(1,2))\n",
    "X = vectorizer.fit_transform(samples)"
   ]
  },
  {
   "cell_type": "code",
   "execution_count": 25,
   "metadata": {},
   "outputs": [
    {
     "data": {
      "text/plain": [
       "(269, 1312)"
      ]
     },
     "execution_count": 25,
     "metadata": {},
     "output_type": "execute_result"
    }
   ],
   "source": [
    "X.toarray().shape"
   ]
  },
  {
   "cell_type": "markdown",
   "metadata": {},
   "source": [
    "Tfidf vectorizer"
   ]
  },
  {
   "cell_type": "code",
   "execution_count": 66,
   "metadata": {},
   "outputs": [],
   "source": [
    "vectorizer = TfidfVectorizer(\n",
    "    stop_words=\"english\", \n",
    "    ngram_range=(1,2), \n",
    "    sublinear_tf=True\n",
    ")\n",
    "X = vectorizer.fit_transform(samples)\n"
   ]
  },
  {
   "cell_type": "code",
   "execution_count": 67,
   "metadata": {},
   "outputs": [
    {
     "data": {
      "text/plain": [
       "(269, 1312)"
      ]
     },
     "execution_count": 67,
     "metadata": {},
     "output_type": "execute_result"
    }
   ],
   "source": [
    "X.toarray().shape"
   ]
  },
  {
   "cell_type": "markdown",
   "metadata": {},
   "source": [
    "Customized vectorizer"
   ]
  },
  {
   "cell_type": "code",
   "execution_count": 8,
   "metadata": {
    "collapsed": true
   },
   "outputs": [
    {
     "data": {
      "text/plain": [
       "array(['Complete Python Bootcamp: Go from zero to hero in Python 3',\n",
       "       'Machine Learning A-Z™: Hands-On Python & R In Data Science',\n",
       "       'Automate the Boring Stuff with Python Programming',\n",
       "       'The Complete Python 3 Course: Beginner to Advanced!',\n",
       "       'Python for Data Science and Machine Learning Bootcamp',\n",
       "       '30 Days of Python | Unlock your Python Potential',\n",
       "       'The Python Mega Course: Build 10 Real World Applications',\n",
       "       'Python for Absolute Beginners',\n",
       "       'Learn Python Programming Masterclass',\n",
       "       'Learning Python for Data Analysis and Visualization',\n",
       "       'Data Analysis with Pandas and Python',\n",
       "       'Machine Learning, Data Science and Deep Learning with Python',\n",
       "       'Python and Django Full Stack Web Developer Bootcamp',\n",
       "       'Python for Beginners with Examples',\n",
       "       'The Python Bible™ | Everything You Need to Program in Python',\n",
       "       'Python eCommerce | Build a Django eCommerce Web Application',\n",
       "       'Complete Guide to TensorFlow for Deep Learning with Python',\n",
       "       'Master Ethical Hacking with Python!',\n",
       "       'Python for Financial Analysis and Algorithmic Trading',\n",
       "       'Python A-Z™: Python For Data Science With Real Exercises!',\n",
       "       'The Modern Python 3 Bootcamp',\n",
       "       'Python for Finance: Investment Fundamentals & Data Analytics',\n",
       "       'Machine Learning and Data Science Hands-on with Python and R',\n",
       "       'Python OOP : Four Pillars of OOP in Python 3 for Beginners',\n",
       "       'REST APIs with Flask and Python', 'Pandas with Python Tutorial',\n",
       "       'Python Programming for Beginners - Learn in 100 Easy Steps',\n",
       "       'Taming Big Data with Apache Spark and Python - Hands On!',\n",
       "       'Spark and Python for Big Data with PySpark',\n",
       "       'Python for Data Structures, Algorithms, and Interviews!',\n",
       "       'Data Science: Deep Learning in Python',\n",
       "       'Learn Python & Ethical Hacking From Scratch',\n",
       "       'Python Bootcamp 2019 Build 15 working Applications and Games',\n",
       "       'Artificial Intelligence: Reinforcement Learning in Python',\n",
       "       'Natural Language Processing with Deep Learning in Python',\n",
       "       'Data Science: Natural Language Processing (NLP) in Python',\n",
       "       'Advanced AI: Deep Reinforcement Learning in Python',\n",
       "       'Video Analytics using OpenCV and Python Shells',\n",
       "       'The Complete Python & PostgreSQL Developer Course',\n",
       "       'Modern Deep Learning in Python',\n",
       "       'Apache Spark Streaming with Python and PySpark',\n",
       "       'Deep Learning Prerequisites: Linear Regression in Python',\n",
       "       'Complete Python Web Course: Build 8 Python Web Apps',\n",
       "       'Deep Learning Prerequisites: Logistic Regression in Python',\n",
       "       'Python 3 Network Programming - Build 5 Network Applications',\n",
       "       'Deep Learning: Convolutional Neural Networks in Python',\n",
       "       'The Complete Python Course | Learn Python by Doing',\n",
       "       'Deep Learning: Recurrent Neural Networks in Python',\n",
       "       'Complete Python Developer in 2020: Zero to Mastery',\n",
       "       'Python for Beginners: Learn Python Programming (Python 3)',\n",
       "       'Django & Python: complete BUNDLE + Django real world project',\n",
       "       'Deep Learning with Python and Keras',\n",
       "       'ZERO to HERO Python 3 FULL STACK MASTERCLASS 45 AI projects',\n",
       "       'Python for Beginners: Complete Python Programming',\n",
       "       'Unsupervised Machine Learning Hidden Markov Models in Python',\n",
       "       'Interactive Python Dashboards with Plotly and Dash',\n",
       "       'Bayesian Machine Learning in Python: A/B Testing',\n",
       "       'Learn Python by Building a Blockchain & Cryptocurrency',\n",
       "       'Cluster Analysis and Unsupervised Machine Learning in Python',\n",
       "       'Selenium WebDriver With Python 3.x - Novice To Ninja',\n",
       "       'Master Computer Vision™ OpenCV4 in Python with Deep Learning',\n",
       "       'The Complete Machine Learning Course with Python',\n",
       "       'Python and Flask Bootcamp: Create Websites using Flask!',\n",
       "       'Unsupervised Deep Learning in Python',\n",
       "       'Django 2.2 & Python | The Ultimate Web Development Bootcamp',\n",
       "       'Complete Python 3 Masterclass Journey',\n",
       "       'The Complete Python Masterclass: Learn Python From Scratch',\n",
       "       '100 Python Exercises: Evaluate and Improve Your Skills',\n",
       "       'Data Science: Supervised Machine Learning in Python',\n",
       "       'Automated Software Testing with Python',\n",
       "       'Python for Computer Vision with OpenCV and Deep Learning',\n",
       "       'Teach Your Kids to Code: Learn Python Programming at Any Age',\n",
       "       'NLP - Natural Language Processing with Python',\n",
       "       'Python 3: Deep Dive (Part 1 - Functional)',\n",
       "       'Python 3 For Offensive PenTest: A Complete Practical Course',\n",
       "       'Complete Data Wrangling & Data Visualisation With Python',\n",
       "       'Python Programming Bootcamp',\n",
       "       'Python Programming for Network Engineers: Cisco, Netmiko ++',\n",
       "       'Ethical Hacking With Python, JavaScript and Kali Linux',\n",
       "       'Scrapy: Powerful Web Scraping & Crawling with Python UPDATED',\n",
       "       'Algorithms and Data Structures in Python',\n",
       "       'Python Game Development™ : Build 11 Total Games',\n",
       "       'GET RICH SLOW - Step by step value investing with Python',\n",
       "       '2019 AWS SageMaker, AI and Machine Learning - With Python',\n",
       "       'Python Django Dev To Deployment',\n",
       "       'Ensemble Machine Learning in Python: Random Forest, AdaBoost',\n",
       "       'Build a Backend REST API with Python & Django - Beginner',\n",
       "       'Python for Network Engineers: Netmiko, NAPALM, pyntc, Telnet',\n",
       "       'Data Processing with Python',\n",
       "       'Discovering Godot: Make Video Games in Python-like GDScript',\n",
       "       'Python 3: Deep Dive (Part 2 - Iteration, Generators)',\n",
       "       'Python for Time Series Data Analysis',\n",
       "       'Python Beyond the Basics - Object-Oriented Programming',\n",
       "       'Data Analysis Course with Pandas : Hands on Pandas, Python',\n",
       "       'Recommender Systems and Deep Learning in Python',\n",
       "       'Python Network Programming for Network Engineers (Python 3)',\n",
       "       'The Complete Python Programming Bootcamp',\n",
       "       'Build a Stock Market Web App With Python and Django',\n",
       "       'Build a Backend REST API with Python & Django - Advanced',\n",
       "       'Build a User Authentication Web App With Python and Django',\n",
       "       'Python From Scratch & Selenium WebDriver From Scratch',\n",
       "       'Data Visualization on the Browser with Python and Bokeh',\n",
       "       'Python Programming for Excel Users - NumPy, Pandas and More!',\n",
       "       'Python for Machine Learning bootcamp',\n",
       "       'Complete Data Science Training with Python for Data Analysis',\n",
       "       'Python + SQL + Tableau: Integrating Python, SQL, and Tableau',\n",
       "       'Python 3 Complete Masterclass - Make Your Job Tasks Easier!',\n",
       "       'Generate and visualize data in Python and MATLAB',\n",
       "       'Python REST APIs with Flask, Docker, MongoDB, and AWS DevOps',\n",
       "       'Python Django Web Development: To-Do App',\n",
       "       'Learn Advanced Python Programming',\n",
       "       'Complete Guide to Protocol Buffers 3 [Java, Golang, Python]',\n",
       "       'Mastering Python - Networking and Security',\n",
       "       'API Testing : REST API Testing using Python for Beginners',\n",
       "       'Introduction to Machine Learning & Deep Learning in Python',\n",
       "       'Python For Maya: Artist Friendly Programming',\n",
       "       'Quantitative Finance & Algorithmic Trading in Python',\n",
       "       'Python 3: Deep Dive (Part 3 - Hash Maps)',\n",
       "       'Web Scraping with Python: BeautifulSoup, Requests & Selenium',\n",
       "       'Hands On Natural Language Processing (NLP) using Python',\n",
       "       'Python For Absolute Beginners - Learn To Code In Python',\n",
       "       'PyTorch for Deep Learning with Python Bootcamp',\n",
       "       'Autonomous Cars: Deep Learning and Computer Vision in Python',\n",
       "       'Complete Pandas Bootcamp in 2020: Master your Data in Python',\n",
       "       'Advanced REST APIs with Flask and Python',\n",
       "       'Master Network Automation with Python for Network Engineers',\n",
       "       'Python para Trading e Inversiones',\n",
       "       'Modern Web Scraping with Python using Scrapy Splash Selenium',\n",
       "       'Curso completo de Estadística descriptiva - RStudio y Python',\n",
       "       'Python 3 Programming: Beginner to Pro Masterclass',\n",
       "       'Python Algo Stock Trading: Automate Your Trading!',\n",
       "       'Signal processing problems, solved in MATLAB and in Python',\n",
       "       'Python para Finanças: Investimentos & Análise de Dados',\n",
       "       'Machine Learning with Python from Scratch',\n",
       "       '2020 Python Regular Expressions (Regex) with Projects',\n",
       "       '[2019] Machine Learning Classification Bootcamp in Python',\n",
       "       'CCA 175 - Spark and Hadoop Developer - Python (pyspark)',\n",
       "       'Machine Learning and AI: Support Vector Machines in Python',\n",
       "       'Credit Risk Modeling in Python 2019',\n",
       "       'Python Programming Generator | Yield - Aided with examples',\n",
       "       'Algorithmic Problems in Python',\n",
       "       'Big Data with Apache Spark PySpark: Hands on PySpark, Python',\n",
       "       'Byte-Sized-Chunks: Twitter Sentiment Analysis (in Python)',\n",
       "       'Python 3: Deep Dive (Part 4 - OOP)',\n",
       "       'Cutting-Edge AI: Deep Reinforcement Learning in Python',\n",
       "       'REPORTLAB PYTHON COMPLETE TUTORIAL|PYTHON PDF PROCESSING',\n",
       "       'Master Math by Coding in Python',\n",
       "       'Algorithmic Trading: Backtest, Optimize & Automate in Python',\n",
       "       'Learn Cryptography Basics in Python and Java',\n",
       "       'OpenCV Complete Dummies Guide to Computer Vision with Python',\n",
       "       'Data Visualization & Analysis In Python: D3.js, HTML & CSS',\n",
       "       'Python OOPS: Object Oriented Programming For Python Beginner',\n",
       "       'Python for Geospatial', 'Python for Statistical Analysis',\n",
       "       'Selenium with Python|Best for beginner | Frameworks -34+ hrs',\n",
       "       'Unit Testing and Test Driven Development in Python',\n",
       "       'Python 3: Project-based Python, Algorithms, Data Structures',\n",
       "       'Design Patterns in Python',\n",
       "       'Complete Python Programming Masterclass Beginner to Advanced',\n",
       "       'Python Tkinter Masterclass - Learn Python GUI Programming',\n",
       "       'Time Series Analysis in Python 2019',\n",
       "       'Optimization with Metaheuristics in Python',\n",
       "       'IOT using NodeMCU(Powered by ESP8266), MicroPython & PyCharm',\n",
       "       'Algorithmic Trading & Quantitative Analysis Using Python',\n",
       "       'Elegant Automation Frameworks with Python and Pytest',\n",
       "       'Elegant Browser Automation with Python and Selenium',\n",
       "       'Data Science and Machine Learning using Python - A Bootcamp',\n",
       "       'Build a Python REST API with the Django Rest Framework',\n",
       "       'Master Python Programming: The Complete 2020 Python Bootcamp',\n",
       "       'Beat the Codility Coding Interview in Python',\n",
       "       'Learn Complete Python In Simple Way',\n",
       "       'Digital Signal Processing  (DSP)  From Ground Up™ in Python',\n",
       "       'Python for Time Series Analysis and Forecasting',\n",
       "       'Cyber Security - Python and Web Applications',\n",
       "       'The Complete Supervised Machine Learning Models in Python',\n",
       "       'Python For Ethical Hacking: Develop Pentesting Tools',\n",
       "       '100 Python Challenges to Boost Your Python Skills',\n",
       "       'Fractal Geometry in Python',\n",
       "       'ArcPy for Python Developers using ArcGIS Pro',\n",
       "       'Selenium Python - Step by Step for Beginners with Framework',\n",
       "       'Coding for kids: Math, Robotics, Scratch, Python Programming',\n",
       "       'Full-Stack React, Python, and GraphQL',\n",
       "       'Programming Numerical Methods in Python',\n",
       "       'Data Structures and Algorithms In Python',\n",
       "       'Develop a Shopping Cart Website with Django 2 and Python 3',\n",
       "       'Learn to code in Python and learn Adobe Photoshop today!',\n",
       "       'Learn Python: The Complete Python Automation Course!',\n",
       "       'Manage Finance Data with Python & Pandas: Unique Masterclass',\n",
       "       'GUI Development with Python and Tkinter',\n",
       "       'U&P AI - Basics of Computer Vision with Python using OpenCV',\n",
       "       'Python A-Z: Learn Python Programming By Building 5 Projects',\n",
       "       'Stock Technical Analysis with Python',\n",
       "       'Python GUI Programming Using PyQt5',\n",
       "       '[2019] MACHINE LEARNING REGRESSION MASTERCLASS IN PYTHON',\n",
       "       'Microsoft Python Certification Exam (98-381): Practice Tests',\n",
       "       'The Complete Python Programmer Bootcamp 2019',\n",
       "       'AWS - Mastering Boto3 & Lambda Functions Using Python',\n",
       "       'The Flask Mega-Tutorial (Python Web Development)',\n",
       "       'Python, Machine Learning and Algorithmic Trading Masterclass',\n",
       "       'Complete Python Scripting for Automation',\n",
       "       'Investment Portfolio Analysis with Python',\n",
       "       'Complete Python Based Image Processing and Computer Vision',\n",
       "       'Python for Trading & Investing',\n",
       "       'AWS  Automation with boto3 of Python and Lambda Functions',\n",
       "       'Python & 金融：打造你的奇幻股市投資旅程',\n",
       "       'Data Science for Beginners: Hands-On Data Science in Python',\n",
       "       'Complete Python for data science and cloud computing',\n",
       "       'Quantitative Trading Analysis with Python',\n",
       "       'Python Digital Image Processing From Ground Up™',\n",
       "       'Modern Natural Language Processing in Python',\n",
       "       'Pairs Trading Analysis with Python',\n",
       "       'Volatility Trading Analysis with Python',\n",
       "       'Python 3 Workout - Solve 250 Coding Exercises!',\n",
       "       'Python Certification Exam Preparation \\u200ePCAP &  \\u200ePCPP',\n",
       "       'Customer Analytics in Python 2019',\n",
       "       'Django 2 Masterclass : Build Web Apps With Python & Django',\n",
       "       'Machine Trading Analysis with Python', 'Álgebra Linear com Python',\n",
       "       'Linear Algebra for Data Science & Machine learning in Python',\n",
       "       'Importing Financial Data with Python from Free Web Sources',\n",
       "       'Full Python Beginner To Developer Guide: Master Python 3 Now',\n",
       "       'Probabilidad y variables aleatorias para ML con R y Python',\n",
       "       'Complete 2-in-1 Python for Business and Finance Bootcamp',\n",
       "       '線形代数の理論とPythonによる実践',\n",
       "       'Public Key Cryptography From Scratch In Python',\n",
       "       'Python in Containers', 'Control Excel with Python & OpenPyXL',\n",
       "       'Advanced Trading Analysis with Python',\n",
       "       'Financial Modeling for Algorithmic Trading using Python',\n",
       "       'Python, JS, & React | Build a Blockchain & Cryptocurrency',\n",
       "       'Practical Data Analysis and Visualization with Python',\n",
       "       'EV3 Python',\n",
       "       '✔ Inversiones y Trading con Python. De 0 a Experto. Año 2019',\n",
       "       'IPython and Jupyter Notebook In Practice: 3-in-1',\n",
       "       'Criando Robôs com Python - Controlando o Instagram',\n",
       "       'Django for Python Developers',\n",
       "       'PyTorch Tutorial - Neural Networks & Deep Learning in Python',\n",
       "       'Python: Do básico à Integral e Derivada',\n",
       "       'Automating QGIS 3.xx with Python',\n",
       "       'Biostatistics Fundamentals using Python',\n",
       "       'Learn Python for Spatial and and GIS Data Analysis',\n",
       "       'Coding Botnet & Backdoor In Python For Ethical Hacking!',\n",
       "       'Decision Trees, Random Forests, AdaBoost & XGBoost in Python',\n",
       "       'Time Series Analysis & Forecasting for Python Hackers',\n",
       "       'Lean Six Sigma Green Belt Online Course with Python',\n",
       "       'Rhinoceros x Python：プログラミングで3Dモデルを構築したい人のためのはじめの一歩から実践まで',\n",
       "       'Learn Python - Data Analysis From Beginner To Advanced',\n",
       "       'Cubic spline interpolation with examples in Python',\n",
       "       'Investment Analysis & Portfolio Management (with Python)',\n",
       "       'Tableau for Data Science with R & Python Integration',\n",
       "       'Hands-On OpenCV 4 with Python',\n",
       "       'Data Mining with Python! Real-Life Data Science Exercises',\n",
       "       'Computer Vision Projects with Python in 4 Hours!',\n",
       "       'Métodos Numéricos en Python. Teoría y Programación',\n",
       "       'Python Quiz - Test your Python knowledge in 1 Day!',\n",
       "       'Fundamental Market Analysis with Python',\n",
       "       'Data Analysis in Python for Lean Six Sigma Professionals',\n",
       "       'Probabilistic Programming with Python and Julia',\n",
       "       'Advanced Portfolio Analysis with Python',\n",
       "       'Crear Herramientas con Python + QtDesign para Maya',\n",
       "       'Complete Backend Development 2020 Bundle - Python Roadmap',\n",
       "       'Data Visualization Recipes in Python',\n",
       "       'Unsupervised Learning for Cryptocurrency Trading in Python',\n",
       "       'IPython Interactive Computing and Visualization Cookbook',\n",
       "       'Python for Engineers', 'Python Data Visualization: 2-in-1',\n",
       "       'Desenvolvendo o Pensamento Computacional com Python',\n",
       "       'Data Analysis 101 With Python',\n",
       "       'Test your Python skills!! (Interview Questions)'], dtype=object)"
      ]
     },
     "execution_count": 8,
     "metadata": {},
     "output_type": "execute_result"
    }
   ],
   "source": [
    "samples"
   ]
  },
  {
   "cell_type": "code",
   "execution_count": 20,
   "metadata": {},
   "outputs": [
    {
     "name": "stdout",
     "output_type": "stream",
     "text": [
      "(269, 5)\n"
     ]
    }
   ],
   "source": [
    "vocab = [\"python\", \"machine learning\", \"pandas\", \"pyspark\", \"sql\"]\n",
    "vectorizer = TfidfVectorizer(\n",
    "    stop_words=\"english\", \n",
    "    ngram_range=(1,2), \n",
    "    sublinear_tf=True,\n",
    "    vocabulary = vocab\n",
    ")\n",
    "X = vectorizer.fit_transform(samples)\n",
    "print(X.shape)"
   ]
  },
  {
   "cell_type": "code",
   "execution_count": 15,
   "metadata": {},
   "outputs": [
    {
     "data": {
      "text/plain": [
       "array([[ 1.        ,  0.        ,  0.        ,  0.        ,  0.        ],\n",
       "       [ 0.27796498,  0.96059121,  0.        ,  0.        ,  0.        ],\n",
       "       [ 1.        ,  0.        ,  0.        ,  0.        ,  0.        ],\n",
       "       ..., \n",
       "       [ 1.        ,  0.        ,  0.        ,  0.        ,  0.        ],\n",
       "       [ 1.        ,  0.        ,  0.        ,  0.        ,  0.        ],\n",
       "       [ 1.        ,  0.        ,  0.        ,  0.        ,  0.        ]])"
      ]
     },
     "execution_count": 15,
     "metadata": {},
     "output_type": "execute_result"
    }
   ],
   "source": [
    "X.toarray()"
   ]
  },
  {
   "cell_type": "markdown",
   "metadata": {},
   "source": [
    "https://scikit-learn.org/stable/modules/feature_extraction.html#text-feature-extraction"
   ]
  }
 ],
 "metadata": {
  "anaconda-cloud": {},
  "kernelspec": {
   "display_name": "Python [default]",
   "language": "python",
   "name": "python3"
  },
  "language_info": {
   "codemirror_mode": {
    "name": "ipython",
    "version": 3
   },
   "file_extension": ".py",
   "mimetype": "text/x-python",
   "name": "python",
   "nbconvert_exporter": "python",
   "pygments_lexer": "ipython3",
   "version": "3.6.6"
  }
 },
 "nbformat": 4,
 "nbformat_minor": 2
}
