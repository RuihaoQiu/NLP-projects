{
 "cells": [
  {
   "cell_type": "code",
   "execution_count": 64,
   "metadata": {},
   "outputs": [],
   "source": [
    "import re\n",
    "import string\n",
    "from nltk.tokenize import word_tokenize\n",
    "from nltk.corpus import stopwords\n",
    "from nltk.stem.porter import PorterStemmer\n",
    "\n",
    "from Trie import Trie"
   ]
  },
  {
   "cell_type": "code",
   "execution_count": 12,
   "metadata": {},
   "outputs": [],
   "source": [
    "filename = 'data/text_example.txt'\n",
    "with open(filename, 'rt') as handler:\n",
    "    text = handler.read()\n",
    "    \n",
    "stop_words = stopwords.words('english')\n",
    "punc = string.punctuation"
   ]
  },
  {
   "cell_type": "markdown",
   "metadata": {},
   "source": [
    "Remove special pattern"
   ]
  },
  {
   "cell_type": "code",
   "execution_count": 3,
   "metadata": {},
   "outputs": [],
   "source": []
  },
  {
   "cell_type": "code",
   "execution_count": 67,
   "metadata": {},
   "outputs": [
    {
     "name": "stdout",
     "output_type": "stream",
     "text": [
      "Applications: \n",
      " \n",
      "\n",
      "email: \n",
      "Kennziffer: IIS-\n",
      "Bewerbungsfrist:\n"
     ]
    }
   ],
   "source": [
    "def clean_special_patterns(text):\n",
    "    \"\"\"Remove special patterns - email, url, date etc.\"\"\"\n",
    "    email_regex = re.compile(r\"[\\w.-]+@[\\w.-]+\")\n",
    "    url_regex = re.compile(r\"(http|www)[^\\s]+\")\n",
    "    date_regex = re.compile(r\"[\\d]{2,4}[ -/:]*[\\d]{2,4}([ -/:]*[\\d]{2,4})?\") # a way to match date\n",
    "    ## remove\n",
    "    text = url_regex.sub(\"\", text)\n",
    "    text = email_regex.sub(\"\", text)\n",
    "    text = date_regex.sub(\"\", text)\n",
    "    return text\n",
    "\n",
    "s = \"\"\"Applications: \n",
    "www.aa.frdfaunefehofer.de/defe/referfefenzenefe/afeda-cenfeter.html \n",
    "http://www.ifefis.fe.com\n",
    "email: fowjfoj@fwjofj.djfow\n",
    "Kennziffer: IIS-2020-12-23\n",
    "Bewerbungsfrist:\n",
    "\"\"\"\n",
    "print(clean_special_patterns(s).strip)"
   ]
  },
  {
   "cell_type": "code",
   "execution_count": 52,
   "metadata": {},
   "outputs": [],
   "source": [
    "def make_regex(input_list):\n",
    "    \"\"\"Build regex from trie structure.\n",
    "    \"\"\"\n",
    "    t = Trie()\n",
    "    for w in input_list:\n",
    "        t.add(w)\n",
    "    regex = re.compile(r\"\\b\" + t.pattern() + r\"\\b\", re.IGNORECASE)\n",
    "    return regex"
   ]
  },
  {
   "cell_type": "code",
   "execution_count": 70,
   "metadata": {},
   "outputs": [],
   "source": [
    "def clean_stopwords(text):\n",
    "    stop_regex = make_regex(stop_words)\n",
    "    text = stop_regex.sub(\"\", text)\n",
    "    return text\n",
    "    \n",
    "def clean_punct(text):\n",
    "    punc_regex = re.compile('[%s]'%re.escape(string.punctuation))\n",
    "    text = punc_regex.sub(\"\", text)\n",
    "    return text"
   ]
  },
  {
   "cell_type": "markdown",
   "metadata": {},
   "source": [
    "Tokenize"
   ]
  },
  {
   "cell_type": "code",
   "execution_count": 23,
   "metadata": {},
   "outputs": [],
   "source": [
    "tokens = word_tokenize(text)"
   ]
  },
  {
   "cell_type": "markdown",
   "metadata": {},
   "source": [
    "Remove punctions"
   ]
  },
  {
   "cell_type": "code",
   "execution_count": 32,
   "metadata": {},
   "outputs": [],
   "source": [
    "words = [word.lower() for word in tokens if word.isalpha()]"
   ]
  },
  {
   "cell_type": "markdown",
   "metadata": {},
   "source": [
    "Remove stop words"
   ]
  },
  {
   "cell_type": "code",
   "execution_count": 41,
   "metadata": {},
   "outputs": [],
   "source": [
    "stop_words = stopwords.words('english')\n",
    "words = [word for word in words if not word in stop_words]"
   ]
  },
  {
   "cell_type": "markdown",
   "metadata": {},
   "source": [
    "An alternative way to remove punctions and stopwords can make a Trie regex of them, then remove them from the whole text, no need to tokenize them. [Check it here]."
   ]
  },
  {
   "cell_type": "markdown",
   "metadata": {},
   "source": [
    "Steming"
   ]
  },
  {
   "cell_type": "code",
   "execution_count": 35,
   "metadata": {},
   "outputs": [],
   "source": [
    "porter = PorterStemmer()\n",
    "stemmed_words = [porter.stem(word) for word in words]"
   ]
  },
  {
   "cell_type": "markdown",
   "metadata": {},
   "source": [
    "Text cleaning pipeline"
   ]
  },
  {
   "cell_type": "code",
   "execution_count": 40,
   "metadata": {},
   "outputs": [],
   "source": [
    "def clean_text(text):\n",
    "    \"\"\"clean text by\n",
    "    clean_special_patterns: email, date, url, etc.\n",
    "    remove punctions, stop words\n",
    "    stem words\n",
    "    \n",
    "    output\n",
    "    --------\n",
    "    list: stemmed words\n",
    "    \"\"\"\n",
    "    s = clean_special_patterns(text)\n",
    "    tokens = word_tokenize(text)\n",
    "    words = [word.lower() for word in tokens if word.isalpha()]\n",
    "    words = [word for word in words if not word in stop_words]\n",
    "    stemmed_words = [porter.stem(word) for word in words]\n",
    "    return stemmed_words"
   ]
  },
  {
   "cell_type": "code",
   "execution_count": null,
   "metadata": {},
   "outputs": [],
   "source": []
  }
 ],
 "metadata": {
  "anaconda-cloud": {},
  "kernelspec": {
   "display_name": "Python [default]",
   "language": "python",
   "name": "python3"
  },
  "language_info": {
   "codemirror_mode": {
    "name": "ipython",
    "version": 3
   },
   "file_extension": ".py",
   "mimetype": "text/x-python",
   "name": "python",
   "nbconvert_exporter": "python",
   "pygments_lexer": "ipython3",
   "version": "3.6.6"
  }
 },
 "nbformat": 4,
 "nbformat_minor": 2
}
