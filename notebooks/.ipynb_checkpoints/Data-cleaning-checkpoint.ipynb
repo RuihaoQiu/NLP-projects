{
 "cells": [
  {
   "cell_type": "code",
   "execution_count": 11,
   "metadata": {},
   "outputs": [],
   "source": [
    "import re\n",
    "from nltk.tokenize import word_tokenize\n",
    "from nltk.corpus import stopwords\n",
    "from nltk.stem.porter import PorterStemmer"
   ]
  },
  {
   "cell_type": "code",
   "execution_count": 12,
   "metadata": {},
   "outputs": [],
   "source": [
    "filename = 'data/text_example.txt'\n",
    "with open(filename, 'rt') as handler:\n",
    "    text = handler.read()"
   ]
  },
  {
   "cell_type": "markdown",
   "metadata": {},
   "source": [
    "Remove special pattern"
   ]
  },
  {
   "cell_type": "code",
   "execution_count": 3,
   "metadata": {},
   "outputs": [],
   "source": [
    "## some regex samples\n",
    "email_regex = re.compile(r\"[\\w.-]+@[\\w.-]+\")\n",
    "url_regex = re.compile(r\"(http|www)[^\\s]+\")\n",
    "date_regex = re.compile(r\"[\\d]{2,4}[ -/:]*[\\d]{2,4}([ -/:]*[\\d]{2,4})?\") # a way to match date"
   ]
  },
  {
   "cell_type": "code",
   "execution_count": 5,
   "metadata": {},
   "outputs": [
    {
     "data": {
      "text/plain": [
       "'Applications: \\n\\n\\nemail: \\nKennziffer: IIS-\\nBewerbungsfrist:\\n'"
      ]
     },
     "execution_count": 5,
     "metadata": {},
     "output_type": "execute_result"
    }
   ],
   "source": [
    "def clean_special_patterns(s):\n",
    "    s = url_regex.sub(\"\", s)\n",
    "    s = email_regex.sub(\"\", s)\n",
    "    s = date_regex.sub(\"\", s)\n",
    "    return s\n",
    "\n",
    "s = \"\"\"Applications: \n",
    "www.aa.frdfaunefehofer.de/defe/referfefenzenefe/afeda-cenfeter.html\n",
    "http://www.ifefis.fe.com\n",
    "email: fowjfoj@fwjofj.djfow\n",
    "Kennziffer: IIS-2020-12-23\n",
    "Bewerbungsfrist:\n",
    "\"\"\"\n",
    "clean_special_patterns(s)"
   ]
  },
  {
   "cell_type": "markdown",
   "metadata": {},
   "source": [
    "Tokenize"
   ]
  },
  {
   "cell_type": "code",
   "execution_count": 23,
   "metadata": {},
   "outputs": [],
   "source": [
    "tokens = word_tokenize(text)"
   ]
  },
  {
   "cell_type": "markdown",
   "metadata": {},
   "source": [
    "Remove punctions"
   ]
  },
  {
   "cell_type": "code",
   "execution_count": 32,
   "metadata": {},
   "outputs": [],
   "source": [
    "words = [word.lower() for word in tokens if word.isalpha()]"
   ]
  },
  {
   "cell_type": "markdown",
   "metadata": {},
   "source": [
    "Remove stop words"
   ]
  },
  {
   "cell_type": "code",
   "execution_count": 41,
   "metadata": {},
   "outputs": [],
   "source": [
    "stop_words = stopwords.words('english')\n",
    "words = [word for word in words if not word in stop_words]"
   ]
  },
  {
   "cell_type": "markdown",
   "metadata": {},
   "source": [
    "An alternative way to remove punctions and stopwords can make a Trie regex of them, then remove them from the whole text, no need to tokenize them. [Check it here]."
   ]
  },
  {
   "cell_type": "markdown",
   "metadata": {},
   "source": [
    "Steming"
   ]
  },
  {
   "cell_type": "code",
   "execution_count": 35,
   "metadata": {},
   "outputs": [],
   "source": [
    "porter = PorterStemmer()\n",
    "stemmed_words = [porter.stem(word) for word in words]"
   ]
  },
  {
   "cell_type": "markdown",
   "metadata": {},
   "source": [
    "Text cleaning pipeline"
   ]
  },
  {
   "cell_type": "code",
   "execution_count": 40,
   "metadata": {},
   "outputs": [],
   "source": [
    "def clean_text(text):\n",
    "    \"\"\"clean text by\n",
    "    clean_special_patterns: email, date, url, etc.\n",
    "    remove punctions, stop words\n",
    "    stem words\n",
    "    \n",
    "    output\n",
    "    --------\n",
    "    list: stemmed words\n",
    "    \"\"\"\n",
    "    s = clean_special_patterns(text)\n",
    "    tokens = word_tokenize(text)\n",
    "    words = [word.lower() for word in tokens if word.isalpha()]\n",
    "    words = [word for word in words if not word in stop_words]\n",
    "    stemmed_words = [porter.stem(word) for word in words]\n",
    "    return stemmed_words"
   ]
  },
  {
   "cell_type": "code",
   "execution_count": null,
   "metadata": {},
   "outputs": [],
   "source": []
  }
 ],
 "metadata": {
  "anaconda-cloud": {},
  "kernelspec": {
   "display_name": "Python [default]",
   "language": "python",
   "name": "python3"
  },
  "language_info": {
   "codemirror_mode": {
    "name": "ipython",
    "version": 3
   },
   "file_extension": ".py",
   "mimetype": "text/x-python",
   "name": "python",
   "nbconvert_exporter": "python",
   "pygments_lexer": "ipython3",
   "version": "3.6.6"
  }
 },
 "nbformat": 4,
 "nbformat_minor": 2
}
