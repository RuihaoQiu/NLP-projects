{
 "cells": [
  {
   "cell_type": "markdown",
   "metadata": {},
   "source": [
    "## Feature engineering for job segmentation"
   ]
  },
  {
   "cell_type": "code",
   "execution_count": 30,
   "metadata": {},
   "outputs": [],
   "source": [
    "import pandas as pd\n",
    "import re\n",
    "from sklearn.feature_extraction.text import CountVectorizer, TfidfVectorizer\n",
    "from sklearn.decomposition import TruncatedSVD\n",
    "from nltk.corpus import stopwords\n",
    "from string import punctuation"
   ]
  },
  {
   "cell_type": "code",
   "execution_count": 41,
   "metadata": {},
   "outputs": [
    {
     "name": "stderr",
     "output_type": "stream",
     "text": [
      "[nltk_data] Downloading package averaged_perceptron_tagger to\n",
      "[nltk_data]     /Users/qiuruihao/nltk_data...\n",
      "[nltk_data]   Unzipping taggers/averaged_perceptron_tagger.zip.\n"
     ]
    },
    {
     "data": {
      "text/plain": [
       "True"
      ]
     },
     "execution_count": 41,
     "metadata": {},
     "output_type": "execute_result"
    }
   ],
   "source": [
    "import nltk\n",
    "nltk.download('averaged_perceptron_tagger')"
   ]
  },
  {
   "cell_type": "markdown",
   "metadata": {},
   "source": [
    "### Load data"
   ]
  },
  {
   "cell_type": "code",
   "execution_count": 31,
   "metadata": {},
   "outputs": [],
   "source": [
    "df_train = pd.read_csv(\"../data/train_data.csv\")\n",
    "df_test = pd.read_csv(\"../data/test_data.csv\")\n",
    "\n",
    "stop_words = stopwords.words('english')"
   ]
  },
  {
   "cell_type": "code",
   "execution_count": 109,
   "metadata": {},
   "outputs": [],
   "source": [
    "def load_data():\n",
    "    x_train = df_train[\"content\"]\n",
    "    y_train = df_train[\"label\"]\n",
    "\n",
    "    x_test = df_test[\"content\"]\n",
    "    y_test = df_test[\"label\"]\n",
    "    return x_train, y_train, x_test, y_test"
   ]
  },
  {
   "cell_type": "code",
   "execution_count": 110,
   "metadata": {},
   "outputs": [],
   "source": [
    "x_train, y_train, x_test, y_test = load_data()"
   ]
  },
  {
   "cell_type": "code",
   "execution_count": null,
   "metadata": {},
   "outputs": [],
   "source": []
  },
  {
   "cell_type": "markdown",
   "metadata": {},
   "source": [
    "### Clean text"
   ]
  },
  {
   "cell_type": "code",
   "execution_count": 111,
   "metadata": {},
   "outputs": [],
   "source": [
    "email_regex = re.compile(r\"[\\w.-]+@[\\w.-]+\")\n",
    "url_regex = re.compile(r\"(http|www)[^\\s]+\")\n",
    "date_regex = re.compile(r\"[\\d]{2,4}[ -/:]*[\\d]{2,4}([ -/:]*[\\d]{2,4})?\") # a way to match date\n",
    "\n",
    "def clean_special_patterns(text):\n",
    "    \"\"\"Remove special patterns - email, url, date etc.\"\"\"\n",
    "    text = url_regex.sub(\"\", text)\n",
    "    text = email_regex.sub(\"\", text)\n",
    "    text = date_regex.sub(\"\", text)\n",
    "    return text"
   ]
  },
  {
   "cell_type": "code",
   "execution_count": 112,
   "metadata": {},
   "outputs": [],
   "source": [
    "train_corpus = x_train.apply(clean_special_patterns)\n",
    "test_corpus = x_test.apply(clean_special_patterns)"
   ]
  },
  {
   "cell_type": "code",
   "execution_count": null,
   "metadata": {},
   "outputs": [],
   "source": []
  },
  {
   "cell_type": "markdown",
   "metadata": {},
   "source": [
    "### Vectorization"
   ]
  },
  {
   "cell_type": "code",
   "execution_count": 113,
   "metadata": {},
   "outputs": [],
   "source": [
    "vectorizer = TfidfVectorizer(\n",
    "    stop_words=\"english\",\n",
    "    ngram_range=(1,2),\n",
    "    sublinear_tf=True\n",
    ")\n",
    "Vec = vectorizer.fit(train_corpus)"
   ]
  },
  {
   "cell_type": "code",
   "execution_count": 114,
   "metadata": {},
   "outputs": [],
   "source": [
    "X_train = Vec.transform(train_corpus)\n",
    "X_test = Vec.transform(test_corpus)"
   ]
  },
  {
   "cell_type": "code",
   "execution_count": 116,
   "metadata": {},
   "outputs": [
    {
     "data": {
      "text/plain": [
       "((2103, 90384), (902, 90384))"
      ]
     },
     "execution_count": 116,
     "metadata": {},
     "output_type": "execute_result"
    }
   ],
   "source": [
    "X_train.shape, X_test.shape"
   ]
  },
  {
   "cell_type": "markdown",
   "metadata": {},
   "source": [
    "### Dimension reduction"
   ]
  },
  {
   "cell_type": "code",
   "execution_count": 117,
   "metadata": {},
   "outputs": [],
   "source": [
    "n_size = 50\n",
    "svd = TruncatedSVD(\n",
    "  n_components=n_size,\n",
    "  n_iter=10,\n",
    "  random_state=42\n",
    "  )\n",
    "\n",
    "svd_fit = svd.fit(X_train)\n",
    "X_train = svd_fit.transform(X_train)\n",
    "X_test = svd_fit.transform(X_test)"
   ]
  },
  {
   "cell_type": "code",
   "execution_count": 121,
   "metadata": {},
   "outputs": [],
   "source": [
    "feature_name = [\"svd_\"+str(i) for i in range(n_size)]\n",
    "df_svd_train = pd.DataFrame(X_train, columns=feature_name)\n",
    "df_svd_test = pd.DataFrame(X_test, columns=feature_name)"
   ]
  },
  {
   "cell_type": "code",
   "execution_count": null,
   "metadata": {},
   "outputs": [],
   "source": []
  },
  {
   "cell_type": "markdown",
   "metadata": {},
   "source": [
    "### Creat features\n",
    "- Text-based features"
   ]
  },
  {
   "cell_type": "code",
   "execution_count": 85,
   "metadata": {},
   "outputs": [],
   "source": [
    "def count_words(text):\n",
    "    return len(str(text).split())\n",
    "\n",
    "def count_uniquewords(text):\n",
    "    return len(set(str(text).split()))\n",
    "\n",
    "def count_chars(text):\n",
    "    return len(str(text))\n",
    "\n",
    "def word_density(text):\n",
    "    return count_chars(text) / (count_words(text) + 1)\n",
    "\n",
    "def count_stopwords(text):\n",
    "    stopwords = [word for word in str(text).split() if word in stop_words]\n",
    "    return len(stopwords)\n",
    "\n",
    "def count_puncts(text):\n",
    "    puncts = re.findall('[' + punctuation + ']', str(text))\n",
    "    return len(puncts)\n",
    "\n",
    "def count_upperwords(text):\n",
    "    upperwords = re.findall(r\"\\b[A-Z0-9]+\\b\", str(text))\n",
    "    return len(upperwords)\n",
    "\n",
    "def count_firstwords(text):\n",
    "    \"\"\"count first word of sentence\"\"\"\n",
    "    firstwords = re.findall(r\"\\b[A-Z][a-z]+\\b\", str(text))\n",
    "    return len(firstwords)"
   ]
  },
  {
   "cell_type": "code",
   "execution_count": 99,
   "metadata": {},
   "outputs": [],
   "source": [
    "def make_features(text_series):\n",
    "    df_features = pd.DataFrame()\n",
    "\n",
    "    df_features[\"word_count\"] = text_series.apply(count_words)\n",
    "    df_features[\"uniqueword_count\"] = text_series.apply(count_uniquewords)\n",
    "    df_features[\"char_count\"] = text_series.apply(count_chars)\n",
    "    df_features[\"word_density\"] = text_series.apply(word_density)\n",
    "    df_features[\"stopword_count\"] = text_series.apply(count_stopwords)\n",
    "    df_features[\"punct_count\"] = text_series.apply(count_puncts)\n",
    "    df_features[\"upperword_count\"] = text_series.apply(count_upperwords)\n",
    "    df_features[\"firstword_count\"] = text_series.apply(count_firstwords)\n",
    "    return df_features"
   ]
  },
  {
   "cell_type": "code",
   "execution_count": 100,
   "metadata": {},
   "outputs": [],
   "source": [
    "df_text_train = make_features(train_corpus)\n",
    "df_text_test = make_features(test_corpus)"
   ]
  },
  {
   "cell_type": "markdown",
   "metadata": {},
   "source": [
    "- part of speech tagging"
   ]
  },
  {
   "cell_type": "code",
   "execution_count": 38,
   "metadata": {},
   "outputs": [],
   "source": [
    "from nltk import pos_tag\n",
    "\n",
    "pos_dic = {\n",
    "    \"NN\" : \"noun\", \"NNS\" : \"noun\", \"NNP\": \"noun\", \"NNPS\" : \"noun\",\n",
    "    \"PRP\" : \"pron\", \"PRP$\" : \"pron\", \"WP\" : \"pron\", \"WP$\" : \"pron\",\n",
    "    \"VB\" : \"verb\", \"VBD\" : \"verb\", \"VBG\" : \"verb\", \"VBN\" : \"verb\", \"VBP\" : \"verb\", \"VBZ\": \"verb\",\n",
    "    \"JJ\" : \"adj\", \"JJR\" : \"adj\", \"JJS\" : \"adj\",\n",
    "    \"RB\"  : \"adv\", \"RBR\" : \"adv\", \"RBS\" : \"adv\", \"WRB\" : \"adj\"\n",
    "}\n",
    "\n",
    "def count_tag(text):\n",
    "    pos_counts = {\n",
    "        \"noun\": 0, \"pron\": 0, \"verb\": 0, \"adj\": 0, \"adv\": 0\n",
    "    }\n",
    "    for w, p in pos_tag(str(text).split()):\n",
    "        try:\n",
    "            tag = pos_dic[p]\n",
    "            pos_counts[tag] = pos_counts[tag] + 1\n",
    "        except KeyError:\n",
    "            pass\n",
    "    return pos_counts"
   ]
  },
  {
   "cell_type": "code",
   "execution_count": 102,
   "metadata": {},
   "outputs": [],
   "source": [
    "pos_dict_train = train_corpus.apply(count_tag)\n",
    "df_pos_train = pd.DataFrame(list(pos_dict_train))\n",
    "\n",
    "pos_dict_test = test_corpus.apply(count_tag)\n",
    "df_pos_test = pd.DataFrame(list(pos_dict_test))"
   ]
  },
  {
   "cell_type": "code",
   "execution_count": 103,
   "metadata": {},
   "outputs": [],
   "source": [
    "df_features_train = pd.concat([df_text_train, df_pos_train], axis=1)\n",
    "df_features_test = pd.concat([df_text_test, df_pos_test], axis=1)"
   ]
  },
  {
   "cell_type": "markdown",
   "metadata": {},
   "source": [
    "### merge all features and output"
   ]
  },
  {
   "cell_type": "code",
   "execution_count": 124,
   "metadata": {},
   "outputs": [],
   "source": [
    "df_train_out = pd.concat([df_svd_train, df_features_train], axis=1)\n",
    "df_test_out = pd.concat([df_svd_test, df_features_test], axis=1)\n",
    "\n",
    "df_train_out[\"label\"] = y_train\n",
    "df_test_out[\"label\"] = y_test"
   ]
  },
  {
   "cell_type": "code",
   "execution_count": 129,
   "metadata": {},
   "outputs": [],
   "source": [
    "df_train_out.to_csv(\"train_data.csv\")\n",
    "df_test_out.to_csv(\"test_data.csv\")"
   ]
  },
  {
   "cell_type": "code",
   "execution_count": null,
   "metadata": {},
   "outputs": [],
   "source": []
  },
  {
   "cell_type": "code",
   "execution_count": null,
   "metadata": {},
   "outputs": [],
   "source": []
  },
  {
   "cell_type": "code",
   "execution_count": null,
   "metadata": {},
   "outputs": [],
   "source": []
  },
  {
   "cell_type": "markdown",
   "metadata": {},
   "source": [
    "### More about feature engineer"
   ]
  },
  {
   "cell_type": "code",
   "execution_count": 189,
   "metadata": {},
   "outputs": [],
   "source": [
    "from nltk.tag import StanfordNERTagger\n",
    "\n",
    "stanford_dir = \"/home/ruihaoqiu/stanford-ner-2018-10-16/\"\n",
    "jarfile = stanford_dir + 'stanford-ner.jar'\n",
    "modelfile = stanford_dir + 'classifiers/english.all.3class.distsim.crf.ser.gz'\n",
    "\n",
    "st = StanfordNERTagger(model_filename=modelfile, path_to_jar=jarfile)"
   ]
  },
  {
   "cell_type": "code",
   "execution_count": 190,
   "metadata": {},
   "outputs": [],
   "source": [
    "def count_ner(text):\n",
    "    ner_counts = dict()\n",
    "    ners = st.tag(str(text).split())\n",
    "    print(ners)\n",
    "    for _, p in ners:\n",
    "        if p in ner_counts:\n",
    "            ner_counts[p] = ner_counts[p] + 1\n",
    "        else:\n",
    "            ner_counts[p] = 1\n",
    "    return ner_counts"
   ]
  },
  {
   "cell_type": "code",
   "execution_count": 196,
   "metadata": {},
   "outputs": [],
   "source": [
    "text = \"Christian is living in Berlin and working at BMW and google, but Amazon is a nice company\""
   ]
  },
  {
   "cell_type": "code",
   "execution_count": 199,
   "metadata": {},
   "outputs": [
    {
     "name": "stdout",
     "output_type": "stream",
     "text": [
      "[('In', 'O'), ('cooperation', 'O'), ('with', 'O'), ('other', 'O'), ('central', 'O'), ('headquarter', 'O'), ('teams', 'O'), ('you', 'O'), ('will', 'O'), ('provide', 'O'), ('general', 'O'), ('administrative', 'O'), ('support', 'O'), ('for', 'O'), ('Communication', 'O'), ('and', 'O'), ('Deployment', 'O'), ('of', 'O'), ('Global', 'ORGANIZATION'), ('Digital', 'ORGANIZATION'), ('Marketing', 'ORGANIZATION'), ('Online', 'ORGANIZATION'), ('Campaigns', 'ORGANIZATION'), ('and', 'O'), ('Activities', 'O'), ('(as', 'O'), ('part', 'O'), ('of', 'O'), ('Global', 'O'), ('Brand', 'O'), ('Marketing).', 'O'), ('Be', 'O'), ('part', 'O'), ('of', 'O'), ('shaping', 'O'), ('the', 'O'), ('marketing', 'O'), ('future', 'O'), ('for', 'O'), ('Jägermeister', 'O'), ('in', 'O'), ('leading', 'O'), ('digital', 'O'), ('channels', 'O'), ('such', 'O'), ('as', 'O'), ('Instagram,', 'O'), ('YouTube,', 'O'), ('Facebook,', 'O'), ('our', 'O'), ('owned', 'O'), ('Websites', 'O'), ('and', 'O'), ('many', 'O'), ('more.', 'O'), ('The', 'O'), ('following', 'O'), ('tasks', 'O'), ('are', 'O'), ('waiting', 'O'), ('for', 'O'), ('you:', 'O'), ('Manage', 'O'), ('and', 'O'), ('lead', 'O'), ('correspondence', 'O'), ('with', 'O'), ('and', 'O'), ('support', 'O'), ('of', 'O'), ('foreign', 'O'), ('partners', 'O'), ('and', 'O'), ('their', 'O'), ('digital', 'O'), ('agencies', 'O'), ('worldwide', 'O'), ('Handling', 'O'), ('of', 'O'), ('multinational', 'O'), ('content', 'O'), ('distribution', 'O'), ('Preparation', 'O'), ('of', 'O'), ('project', 'O'), ('briefings,', 'O'), ('status', 'O'), ('presentations', 'O'), ('and', 'O'), ('follow-ups', 'O'), ('of', 'O'), ('budget', 'O'), ('and', 'O'), ('exchange', 'O'), ('meetings', 'O'), ('Control', 'O'), ('of', 'O'), ('and', 'O'), ('participation', 'O'), ('in', 'O'), ('projects,', 'O'), ('monitoring', 'O'), ('the', 'O'), ('progress', 'O'), ('as', 'O'), ('well', 'O'), ('as', 'O'), ('ensure', 'O'), ('a', 'O'), ('successful', 'O'), ('completion', 'O'), ('Coordinate', 'O'), ('tasks', 'O'), ('as', 'O'), ('an', 'O'), ('interface', 'O'), ('between', 'O'), ('foreign', 'O'), ('partners,', 'O'), ('agencies', 'O'), ('and', 'O'), ('internal', 'O'), ('departments', 'O'), ('Cross', 'ORGANIZATION'), ('check', 'O'), ('partners’', 'O'), ('online', 'O'), ('marketing', 'O'), ('activities', 'O'), ('Validate,', 'O'), ('check', 'O'), ('and', 'O'), ('process', 'O'), ('owned', 'O'), ('Global', 'ORGANIZATION'), ('Digital', 'ORGANIZATION'), ('Marketing', 'ORGANIZATION'), ('activities', 'O'), ('(QA)', 'O'), ('and', 'O'), ('adapt', 'O'), ('to', 'O'), ('local', 'O'), ('needs', 'O'), ('Creation', 'O'), ('of', 'O'), ('executive', 'O'), ('summaries', 'O'), ('Planning,', 'O'), ('organization', 'O'), ('and', 'O'), ('implementation', 'O'), ('of', 'O'), ('partner', 'O'), ('and', 'O'), ('customer', 'O'), ('visits', 'O'), ('in', 'O'), ('Germany', 'LOCATION')]\n",
      "[('Oversee', 'O'), ('the', 'O'), ('planning,', 'O'), ('creation,', 'O'), ('and', 'O'), ('execution', 'O'), ('of', 'O'), ('Campaign', 'O'), ('ads', 'O'), ('for', 'O'), ('Facebook', 'ORGANIZATION'), ('and', 'O'), ('Instagram', 'O'), ('Sales', 'O'), ('ads.', 'O'), ('Work', 'O'), ('closely', 'O'), ('with', 'O'), ('the', 'O'), ('BrandDesignContent', 'O'), ('team', 'O'), ('to', 'O'), ('create', 'O'), ('assets', 'O'), ('and', 'O'), ('execute', 'O'), ('campaigns', 'O'), ('on', 'O'), ('Facebook', 'ORGANIZATION'), ('and', 'O'), ('Instagram.', 'O'), ('Collect', 'O'), ('and', 'O'), ('analyze', 'O'), ('data,', 'O'), ('identify', 'O'), ('trends', 'O'), ('and', 'O'), ('insights', 'O'), ('in', 'O'), ('order', 'O'), ('to', 'O'), ('achieve', 'O'), ('maximum', 'O'), ('revenue', 'O'), ('&amp;', 'O'), ('ROI', 'O'), ('on', 'O'), ('our', 'O'), ('campaigns', 'O'), ('Track,', 'O'), ('report', 'O'), ('and', 'O'), ('analyze', 'O'), ('website', 'O'), ('analytic', 'O'), ('initiatives', 'O'), ('and', 'O'), ('campaigns', 'O'), ('Perform', 'O'), ('ongoing', 'O'), ('paid', 'O'), ('audience', 'O'), ('discovery,', 'O'), ('ad', 'O'), ('optimization', 'O'), ('and', 'O'), ('bidding', 'O'), ('optimization', 'O'), ('Be', 'O'), ('responsible', 'O'), ('for', 'O'), ('Creative', 'O'), ('Assets', 'O'), ('across', 'O'), ('all', 'O'), ('Markets', 'O'), ('Support', 'O'), ('a', 'O'), ('culture', 'O'), ('of', 'O'), ('knowledge', 'O'), ('sharing', 'O'), ('and', 'O'), ('software', 'O'), ('best', 'O'), ('practice', 'O')]\n",
      "[('Oversee', 'O'), ('DE', 'O'), ('safety', 'O'), ('performance', 'O'), ('metrics', 'O'), ('reporting', 'O'), ('and', 'O'), ('communication', 'O'), ('Assist', 'O'), ('general', 'O'), ('management', 'O'), ('in', 'O'), ('communication,', 'O'), ('training', 'O'), ('and', 'O'), ('execution', 'O'), ('of', 'O'), ('the', 'O'), ('Safety', 'ORGANIZATION'), ('&amp;', 'ORGANIZATION'), ('Environmental', 'ORGANIZATION'), ('Programs', 'ORGANIZATION'), ('throughout', 'O'), ('the', 'O'), ('German', 'O'), ('FC’s', 'O'), ('Ensure', 'O'), ('compliance', 'O'), ('to', 'O'), ('German', 'O'), ('law', 'O'), ('as', 'O'), ('it', 'O'), ('applies', 'O'), ('to', 'O'), ('Life', 'O'), ('Safety', 'O'), ('for', 'O'), ('all', 'O'), ('FC’s', 'O'), ('Review', 'O'), ('the', 'O'), ('DE', 'O'), ('Safety', 'O'), ('Policies', 'O'), ('and', 'O'), ('revise', 'O'), ('as', 'O'), ('needed', 'O'), ('based', 'O'), ('on', 'O'), ('known', 'O'), ('risks', 'O'), ('and', 'O'), ('improvement', 'O'), ('opportunities', 'O'), ('identified', 'O'), ('through', 'O'), ('safety', 'O'), ('best', 'O'), ('practices', 'O'), ('Perform', 'O'), ('regular', 'O'), ('gap', 'O'), ('analysis', 'O'), ('to', 'O'), ('best', 'O'), ('justify', 'O'), ('funds', 'O'), ('for', 'O'), ('site', 'O'), ('safety', 'O'), ('improvements', 'O'), ('and', 'O'), ('react', 'O'), ('to', 'O'), ('Associate', 'O'), ('feedback', 'O'), ('Ensure', 'O'), ('compliance', 'O'), ('to', 'O'), ('Safety', 'O'), ('programs', 'O'), ('such', 'O'), ('as', 'O'), ('Lockout', 'O'), ('Takeout,', 'O'), ('Fall', 'O'), ('Protection,', 'O'), ('Fire', 'O'), ('Prevention,', 'O'), ('Emergency', 'O'), ('Procedures', 'O'), ('and', 'O'), ('Evacuation', 'O'), ('and', 'O'), ('other', 'O'), ('such', 'O'), ('programs', 'O'), ('for', 'O'), ('each', 'O'), ('FC', 'ORGANIZATION'), ('Develop', 'ORGANIZATION'), ('and', 'O'), ('implement', 'O'), ('training', 'O'), ('programs', 'O'), ('to', 'O'), ('meet', 'O'), ('the', 'O'), ('needs', 'O'), ('of', 'O'), ('Managers', 'ORGANIZATION'), ('and', 'ORGANIZATION'), ('Associates', 'ORGANIZATION'), ('in', 'O'), ('regards', 'O'), ('to', 'O'), ('critical', 'O'), ('safety', 'O'), ('issues', 'O'), ('Develop', 'O'), ('and', 'O'), ('maintain', 'O'), ('ergonomics', 'O'), ('programs', 'O'), ('where', 'O'), ('needed', 'O'), ('Analyze', 'O'), ('accident', 'O'), ('data', 'O'), ('and', 'O'), ('build', 'O'), ('prevention', 'O'), ('programs', 'O'), ('to', 'O'), ('impact', 'O'), ('accident', 'O'), ('trends', 'O'), ('Build', 'O'), ('management', 'O'), ('and', 'O'), ('employee', 'O'), ('commitment', 'O'), ('for', 'O'), ('a', 'O'), ('Safety', 'O'), ('program', 'O'), ('through', 'O'), ('influence', 'O'), ('not', 'O'), ('authority', 'O'), ('Review', 'O'), ('Standard', 'O'), ('Operating', 'O'), ('Procedure', 'O'), ('changes', 'O'), ('and', 'O'), ('make', 'O'), ('Safety', 'O'), ('recommendations', 'O'), ('Conduct', 'O'), ('Job', 'O'), ('Hazard', 'O'), ('Analysis', 'O'), ('and', 'O'), ('Job', 'O'), ('Safety', 'O'), ('Analysis', 'O'), ('Interact', 'O'), ('with', 'O'), ('Workers', 'O'), ('Compensation', 'O'), ('third-party', 'O'), ('administrators', 'O'), ('in', 'O'), ('carrying', 'O'), ('out', 'O'), ('claims', 'O'), ('management', 'O'), ('Develop', 'O'), ('a', 'O'), ('positive', 'O'), ('working', 'O'), ('relationship', 'O'), ('with', 'O'), ('local', 'O'), ('Fire', 'O'), ('Department', 'O'), ('and', 'O'), ('other', 'O'), ('local', 'O'), ('authorities', 'O'), ('as', 'O'), ('needed', 'O'), ('Manage', 'O'), ('consistent', 'O'), ('and', 'O'), ('disciplined', 'O'), ('incident', 'O'), ('investigation', 'O'), ('and', 'O'), ('reporting', 'O'), ('Weekly', 'O'), ('metrics', 'O'), ('reporting', 'O'), ('to', 'O'), ('management', 'O'), ('teams', 'O'), ('Applying', 'O'), ('Lean', 'O'), ('tools', 'O'), ('to', 'O'), ('Safety:', 'O'), ('error-proof', 'O'), ('processes,', 'O'), ('analyze', 'O'), ('Safety', 'O'), ('trends', 'O'), ('and', 'O'), ('create', 'O'), ('proactive', 'O'), ('plans', 'O'), ('to', 'O'), ('address', 'O'), ('key', 'O'), ('risks,', 'O'), ('use', 'O'), ('Pareto', 'O'), ('analysis', 'O'), ('and', 'O'), ('other', 'O'), ('tools', 'O'), ('to', 'O'), ('monitor', 'O'), ('and', 'O'), ('drive', 'O'), ('high-effectiveness', 'O'), ('Safety', 'O'), ('programs', 'O')]\n"
     ]
    },
    {
     "name": "stdout",
     "output_type": "stream",
     "text": [
      "[('Assisting', 'O'), ('with', 'O'), ('the', 'O'), ('delivery', 'O'), ('of', 'O'), ('safety', 'O'), ('performance', 'O'), ('and', 'O'), ('monitoring,', 'O'), ('in', 'O'), ('line', 'O'), ('with', 'O'), ('personnel,', 'O'), ('team', 'O'), ('and', 'O'), ('functional', 'O'), ('goals', 'O'), ('and', 'O'), ('objectives', 'O'), ('Facilitating', 'O'), ('andor', 'O'), ('arranging', 'O'), ('training', 'O'), ('programs', 'O'), ('on', 'O'), ('critical', 'O'), ('EHS', 'O'), ('issues', 'O'), ('Supporting', 'O'), ('the', 'O'), ('implementation', 'O'), ('of', 'O'), ('EHS', 'O'), ('programs', 'O'), ('within', 'O'), ('Operations,', 'O'), ('while', 'O'), ('delivering', 'O'), ('key', 'O'), ('risk', 'O'), ('assessment', 'O'), ('activities', 'O'), ('Driving', 'O'), ('compliance', 'O'), ('with', 'O'), ('local', 'O'), ('and', 'O'), ('EU', 'ORGANIZATION'), ('legislation', 'O'), ('Ensuring', 'O'), ('that', 'O'), ('EHS', 'ORGANIZATION'), ('systems', 'O'), ('are', 'O'), ('kept', 'O'), ('accurate', 'O'), ('at', 'O'), ('all', 'O'), ('times,', 'O'), ('with', 'O'), ('completed', 'O'), ('incident', 'O'), ('reports,', 'O'), ('alongside', 'O'), ('all', 'O'), ('supporting', 'O'), ('documentation', 'O'), ('Assisting', 'O'), ('the', 'O'), ('EHS', 'ORGANIZATION'), ('Manager', 'O'), ('with', 'O'), ('the', 'O'), ('construction', 'O'), ('of', 'O'), ('incident', 'O'), ('prevention', 'O'), ('programs', 'O'), ('Contributing', 'O'), ('to', 'O'), ('requests', 'O'), ('for', 'O'), ('improvement', 'O'), ('of', 'O'), ('on-site', 'O'), ('safety', 'O'), ('and', 'O'), ('positively', 'O'), ('impact', 'O'), ('accident', 'O'), ('trends', 'O'), ('Preparing', 'O'), ('responses', 'O'), ('to', 'O'), ('insurers', 'O'), ('or', 'O'), ('solicitors', 'O'), ('in', 'O'), ('response', 'O'), ('to', 'O'), ('any', 'O'), ('personal', 'O'), ('injury', 'O'), ('claims', 'O'), ('Participating', 'O'), ('in', 'O'), ('the', 'O'), ('EHS', 'O'), ('Safety', 'O'), ('Audit', 'O'), ('Programmes', 'O'), ('Assisting', 'O'), ('with', 'O'), ('the', 'O'), ('coordination', 'O'), ('and', 'O'), ('training', 'O'), ('of', 'O'), ('new', 'O'), ('Health', 'O'), ('and', 'O'), ('Safety', 'O'), ('team', 'O'), ('members', 'O'), ('Acting', 'O'), ('as', 'O'), ('a', 'O'), ('proxy', 'O'), ('for', 'O'), ('the', 'O'), ('EHS', 'ORGANIZATION'), ('Manager,', 'O'), ('as', 'O'), ('and', 'O'), ('when', 'O'), ('required', 'O'), ('Arranging,', 'O'), ('facilitating', 'O'), ('and', 'O'), ('contributing', 'O'), ('to', 'O'), ('site', 'O'), ('Safety', 'ORGANIZATION'), ('Steering', 'ORGANIZATION'), ('Committee', 'ORGANIZATION'), ('meetings', 'O'), ('Arranging', 'O'), ('and', 'O'), ('conducting', 'O'), ('basic', 'O'), ('surveys', 'O'), ('and', 'O'), ('checks', 'O'), ('in', 'O'), ('the', 'O'), ('Fulfilment', 'O'), ('Centre', 'O'), ('environment,', 'O'), ('looking', 'O'), ('into', 'O'), ('facility', 'O'), ('processes,', 'O'), ('Health', 'O'), ('and', 'O'), ('Safety', 'O'), ('supplies', 'O'), ('as', 'O'), ('well', 'O'), ('as', 'O'), ('employee', 'O'), ('behaviours.', 'O')]\n",
      "[('Eaton‘s', 'O'), ('Electrical', 'O'), ('Division', 'O'), ('Headquarter', 'O'), ('in', 'O'), ('Bonn', 'LOCATION'), ('has', 'O'), ('an', 'O'), ('opening', 'O'), ('for', 'O'), ('a:', 'O'), ('Regional', 'O'), ('Sales', 'O'), ('Controller', 'O'), ('-', 'O'), ('West', 'O'), ('(mfd)', 'O'), ('-', 'O'), ('Location:', 'O'), ('Bonn,', 'O'), ('Germany', 'LOCATION'), ('Would', 'O'), ('you', 'O'), ('like', 'O'), ('to', 'O'), ('make', 'O'), ('a', 'O'), ('difference', 'O'), ('to', 'O'), ('the', 'O'), ('environment?', 'O'), ('Do', 'O'), ('you', 'O'), ('want', 'O'), ('to', 'O'), ('work', 'O'), ('for', 'O'), ('a', 'O'), ('global', 'O'), ('and', 'O'), ('ethical', 'O'), ('company?', 'O'), ('Join', 'O'), ('us', 'O'), ('and', 'O'), ('help', 'O'), ('us', 'O'), ('provide', 'O'), ('energy-efficient', 'O'), ('solutions', 'O'), ('that', 'O'), ('make', 'O'), ('a', 'O'), ('real', 'O'), ('impact.', 'O'), ('We', 'O'), ('make', 'O'), ('what', 'O'), ('matters', 'O'), ('work.', 'O'), ('Find', 'O'), ('out', 'O'), ('more', 'O'), ('watching', 'O'), ('this', 'O'), ('video', 'O'), ('.', 'O'), ('As', 'O'), ('the', 'O'), ('Regional', 'O'), ('Sales', 'O'), ('Controller', 'O'), ('-', 'O'), ('West', 'O'), ('Region', 'O'), ('(based', 'O'), ('in', 'O'), ('the', 'O'), ('Headquarter', 'O'), ('of', 'O'), ('the', 'O'), ('German', 'O'), ('Sales', 'O'), ('Organization', 'O'), ('in', 'O'), ('Bonn,', 'O'), ('Germany),', 'O'), ('you', 'O'), ('will', 'O'), ('work', 'O'), ('within', 'O'), ('the', 'O'), ('West', 'ORGANIZATION'), ('Finance', 'ORGANIZATION'), ('Team', 'ORGANIZATION'), ('and', 'O'), ('will', 'O'), ('report', 'O'), ('to', 'O'), ('the', 'O'), ('Regional', 'O'), ('Sales', 'O'), ('Vice', 'O'), ('President', 'O'), ('–', 'O'), ('West.', 'O'), ('Your', 'O'), ('main', 'O'), ('duties:', 'O'), ('Support', 'O'), ('the', 'O'), ('regional', 'O'), ('finance', 'O'), ('and', 'O'), ('region', 'O'), ('management', 'O'), ('in', 'O'), ('all', 'O'), ('financial', 'O'), ('and', 'O'), ('operational', 'O'), ('aspects', 'O'), ('of', 'O'), ('the', 'O'), ('business.', 'O'), ('Work', 'O'), ('with', 'O'), ('region', 'O'), ('leader', 'O'), ('in', 'O'), ('growing', 'O'), ('the', 'O'), ('business', 'O'), ('profitably', 'O'), ('and', 'O'), ('help', 'O'), ('to', 'O'), ('determine', 'O'), ('and', 'O'), ('analyze', 'O'), ('new', 'O'), ('opportunities', 'O'), ('for', 'O'), ('growth.', 'O'), ('Create,', 'O'), ('promote', 'O'), ('and', 'O'), ('sustain', 'O'), ('a', 'O'), ('high-performance', 'O'), ('culture.', 'O'), ('Continuously', 'O'), ('raise', 'O'), ('the', 'O'), ('performance', 'O'), ('bar', 'O'), ('for', 'O'), ('the', 'O'), ('finance', 'O'), ('organization', 'O'), ('in', 'O'), ('the', 'O'), ('region.', 'O'), ('Actively', 'O'), ('upgrade', 'O'), ('the', 'O'), ('organization', 'O'), ('through', 'O'), ('the', 'O'), ('infusion', 'O'), ('of', 'O'), ('top', 'O'), ('talent,', 'O'), ('through', 'O'), ('both', 'O'), ('the', 'O'), ('selection', 'O'), ('of', 'O'), ('new', 'O'), ('employees', 'O'), ('and', 'O'), ('the', 'O'), ('development', 'O'), ('of', 'O'), ('current', 'O'), ('employees.', 'O'), ('Lead', 'O'), ('Organizational', 'O'), ('Capability', 'O'), ('Assessment', 'O'), ('process', 'O'), ('for', 'O'), ('country', 'O'), ('finance', 'O'), ('team.', 'O'), ('Coach', 'O'), ('and', 'O'), ('advise', 'O'), ('finance', 'O'), ('team', 'O'), ('members', 'O'), ('for', 'O'), ('future', 'O'), ('advancement.', 'O'), ('Align', 'O'), ('performance', 'O'), ('ratings', 'O'), ('and', 'O'), ('feedback', 'O'), ('with', 'O'), ('operations', 'O'), ('and', 'O'), ('functional', 'O'), ('leaders.', 'O'), ('Support', 'O'), ('and', 'O'), ('manage', 'O'), ('the', 'O'), ('strategic', 'O'), ('plan', 'O'), ('for', 'O'), ('the', 'O'), ('region,', 'O'), ('annual', 'O'), ('profit', 'O'), ('plan', 'O'), ('and', 'O'), ('monthly', 'O'), ('rolling', 'O'), ('forecast.', 'O'), ('Direct', 'O'), ('the', 'O'), ('efforts', 'O'), ('and', 'O'), ('review', 'O'), ('physical', 'O'), ('inventory', 'O'), ('processes.', 'O'), ('Review', 'O'), ('the', 'O'), ('results', 'O'), ('and', 'O'), ('work', 'O'), ('with', 'O'), ('country', 'O'), ('leadership', 'O'), ('in', 'O'), ('recommending', 'O'), ('and', 'O'), ('driving', 'O'), ('actions', 'O'), ('for', 'O'), ('improvement.', 'O'), ('Coordinate', 'O'), ('financial', 'O'), ('reporting', 'O'), ('and', 'O'), ('accounting', 'O'), ('within', 'O'), ('the', 'O'), ('business.', 'O'), ('Coordinate', 'O'), ('plans,', 'O'), ('objectives', 'O'), ('and', 'O'), ('commitments', 'O'), ('within', 'O'), ('finance', 'O'), ('and', 'O'), ('operational', 'O'), ('functions.', 'O'), ('Ensure', 'O'), ('division', 'O'), ('is', 'O'), ('in', 'O'), ('compliance', 'O'), ('with', 'O'), ('US', 'LOCATION'), ('GAAP', 'ORGANIZATION'), ('and', 'O'), ('Sarbanes-Oxley', 'O'), ('requirements.', 'O'), ('Oversee', 'O'), ('the', 'O'), ('accuracy,', 'O'), ('correctness', 'O'), ('and', 'O'), ('timeliness', 'O'), ('of', 'O'), ('financial', 'O'), ('transactions', 'O'), ('affecting', 'O'), ('the', 'O'), ('general', 'O'), ('ledger', 'O'), ('accounting', 'O'), ('system(s).', 'O'), ('Develop', 'O'), ('and', 'O'), ('manage', 'O'), ('key', 'O'), ('monthly', 'O'), ('financial', 'O'), ('processes', 'O'), ('to', 'O'), ('include', 'O'), ('month-end', 'O'), ('closing', 'O'), ('and', 'O'), ('forecasting.', 'O'), ('Responsible', 'O'), ('for', 'O'), ('balance', 'O'), ('sheet', 'O'), ('integrity', 'O'), ('–', 'O'), ('ensure', 'O'), ('balance', 'O'), ('sheet', 'O'), ('reconciliations', 'O'), ('are', 'O'), ('completed', 'O'), ('and', 'O'), ('proper', 'O'), ('reviews', 'O'), ('occur.', 'O'), ('Review', 'O'), ('and', 'O'), ('assess', 'O'), ('the', 'O'), ('competency', 'O'), ('of', 'O'), ('financial', 'O'), ('systems', 'O'), ('and', 'O'), ('procedures', 'O'), ('to', 'O'), ('comply', 'O'), ('with', 'O'), ('US', 'ORGANIZATION'), ('GAAP', 'ORGANIZATION'), ('and', 'O'), ('corporate', 'O'), ('policiesprocedures', 'O'), ('and', 'O'), ('ensure', 'O'), ('the', 'O'), ('integrity', 'O'), ('of', 'O'), ('the', 'O'), ('financial', 'O'), ('records', 'O'), ('for', 'O'), ('the', 'O'), ('business.', 'O'), ('Ensure', 'O'), ('that', 'O'), ('ethical', 'O'), ('business', 'O'), ('conduct', 'O'), ('and', 'O'), ('compliance', 'O'), ('are', 'O'), ('understood', 'O'), ('and', 'O'), ('supported', 'O'), ('throughout', 'O'), ('the', 'O'), ('region.', 'O'), ('Organize', 'O'), ('and', 'O'), ('deliver', 'O'), ('appropriate', 'O'), ('management', 'O'), ('reports', 'O'), ('to', 'O'), ('country', 'O'), ('and', 'O'), ('regional', 'O'), ('management.', 'O'), ('Prepare', 'O'), ('meaningful', 'O'), ('variance', 'O'), ('analysis', 'O'), ('commentary', 'O'), ('for', 'O'), ('management', 'O'), ('and', 'O'), ('publish', 'O'), ('accurate', 'O'), ('and', 'O'), ('timely', 'O'), ('financial', 'O'), ('reporting', 'O'), ('packages.', 'O'), ('Coordinate,', 'O'), ('interpret', 'O'), ('and', 'O'), ('respond', 'O'), ('to', 'O'), ('ad', 'O'), ('hoc', 'O'), ('financial', 'O'), ('requests', 'O'), ('within', 'O'), ('the', 'O'), ('region.', 'O'), ('Demonstrate', 'O'), ('ability', 'O'), ('to', 'O'), ('drive', 'O'), ('process', 'O'), ('improvements:', 'O'), ('detecting', 'O'), ('the', 'O'), ('need', 'O'), ('for', 'O'), ('change,', 'O'), ('proactively', 'O'), ('gathering', 'O'), ('requirements,', 'O'), ('design', 'O'), ('and', 'O'), ('develop', 'O'), ('processes,', 'O'), ('implement', 'O'), ('changes,', 'O'), ('and', 'O'), ('stabilize', 'O'), ('process', 'O'), ('changes', 'O'), ('to', 'O'), ('deliver', 'O'), ('on', 'O'), ('stakeholders’', 'O'), ('critical', 'O'), ('requirements.', 'O')]\n"
     ]
    },
    {
     "name": "stdout",
     "output_type": "stream",
     "text": [
      "[('Professional', 'O'), ('Requirements', 'O'), ('5+', 'O'), ('years', 'O'), ('of', 'O'), ('experience', 'O'), ('as', 'O'), ('automotive', 'O'), ('management', 'O'), ('consultant', 'O'), ('First-hand', 'O'), ('knowledge', 'O'), ('of', 'O'), ('auditing', 'O'), ('organizations,', 'O'), ('maturity', 'O'), ('models,', 'O'), ('and', 'O'), ('change', 'O'), ('management', 'O'), ('Know-how', 'O'), ('in', 'O'), ('information', 'O'), ('security', 'O'), ('(e.g.', 'O'), ('ISOIEC', 'O'), ('x),', 'O'), ('cyber', 'O'), ('security', 'O'), ('(e.g.', 'O'), ('ISOSAE', 'O'), ('CD', 'O'), (',', 'O'), ('SAE', 'O'), ('J),', 'O'), ('or', 'O'), ('safety', 'O'), ('(e.g.', 'O'), ('ISO', 'O'), (')', 'O'), ('Outstanding', 'O'), ('professional', 'O'), ('presence', 'O'), ('with', 'O'), ('excellent', 'O'), ('communication', 'O'), ('and', 'O'), ('presentation', 'O'), ('skills', 'O'), ('in', 'O'), ('German', 'O'), ('&amp;', 'O'), ('English', 'O'), ('Recognized', 'O'), ('by', 'O'), ('clients', 'O'), ('and', 'O'), ('peers', 'O'), ('as', 'O'), ('collaborative,', 'O'), ('detail-oriented,', 'O'), ('analytical,', 'O'), ('and', 'O'), ('perseverant', 'O'), ('Personal', 'O'), ('Requirements', 'O'), ('You', 'O'), ('are', 'O'), ('an', 'O'), ('experienced', 'O'), ('and', 'O'), ('motivated', 'O'), ('professional', 'O'), ('with', 'O'), ('a', 'O'), ('proven', 'O'), ('track', 'O'), ('record', 'O'), ('of', 'O'), ('getting', 'O'), ('the', 'O'), ('job', 'O'), ('done.', 'O'), ('You', 'O'), ('are', 'O'), ('ready', 'O'), ('to', 'O'), ('jump', 'O'), ('into', 'O'), ('any', 'O'), ('customer', 'O'), ('problem', 'O'), ('and', 'O'), ('find', 'O'), ('a', 'O'), ('best-in-class', 'O'), ('solution.', 'O'), ('You', 'O'), ('have', 'O'), ('a', 'O'), ('passion', 'O'), ('for', 'O'), ('cyber', 'O'), ('security,', 'O'), ('but', 'O'), ('see', 'O'), ('the', 'O'), ('bigger', 'O'), ('picture', 'O'), ('and', 'O'), ('treat', 'O'), ('the', 'O'), ('impossible', 'O'), ('as', 'O'), ('an', 'O'), ('invitation', 'O'), ('to', 'O'), ('try.', 'O'), ('You', 'O'), ('thrive', 'O'), ('in', 'O'), ('the', 'O'), ('high', 'O'), ('stakes', 'O'), ('world', 'O'), ('of', 'O'), ('senior', 'O'), ('executives', 'O'), ('and', 'O'), ('global', 'O'), ('technical', 'O'), ('leaders.', 'O'), ('You', 'O'), ('love', 'O'), ('to', 'O'), ('build', 'O'), ('your', 'O'), ('network,', 'O'), ('share', 'O'), ('your', 'O'), ('knowledge,', 'O'), ('and', 'O'), ('let', 'O'), ('clients', 'O'), ('and', 'O'), ('colleagues', 'O'), ('shine.', 'O'), ('You', 'O'), ('like', 'O'), ('to', 'O'), ('travel', 'O'), ('&amp;', 'O'), ('work', 'O'), ('hard,', 'O'), ('but', 'O'), ('also', 'O'), ('understand', 'O'), ('how', 'O'), ('to', 'O'), ('keep', 'O'), ('things', 'O'), ('in', 'O'), ('balance', 'O'), ('&amp;', 'O'), ('have', 'O'), ('a', 'O'), ('good', 'O'), ('time.', 'O')]\n",
      "[('See', 'O'), ('Job', 'O'), ('Description', 'O')]\n",
      "[('The', 'O'), ('company', 'O'), ('offers', 'O'), ('a', 'O'), ('competitive', 'O'), ('salary,', 'O'), ('combined', 'O'), ('with', 'O'), ('free', 'O'), ('drinks', 'O'), ('and', 'O'), ('daily', 'O'), ('lunch', 'O'), ('in', 'O'), ('a', 'O'), ('modern', 'O'), ('working', 'O'), ('environment', 'O'), ('with', 'O'), ('a', 'O'), ('low', 'O'), ('level', 'O'), ('of', 'O'), ('noise', 'O'), ('in', 'O'), ('the', 'O'), ('center', 'O'), ('of', 'O'), ('Berlin.', 'O')]\n",
      "[('Possibility', 'O'), ('to', 'O'), ('work', 'O'), ('in', 'O'), ('an', 'O'), ('international,', 'O'), ('multicultural', 'O'), ('environment', 'O'), ('Strong', 'O'), ('team-oriented', 'O'), ('and', 'O'), ('friendly', 'O'), ('work', 'O'), ('culture', 'O'), ('Flexible', 'O'), ('working', 'O'), ('hours', 'O'), ('model', 'O'), ('Internal', 'O'), ('training', 'O'), ('program', 'O'), ('„ADVA', 'O'), ('University“', 'O'), ('Fitness-,', 'O'), ('travel', 'O'), ('cost-', 'O'), ('and', 'O'), ('kindergarten', 'O'), ('allowance', 'O'), ('as', 'O'), ('well', 'O'), ('as', 'O'), ('drinks', 'O'), ('and', 'O'), ('fruits', 'O'), ('for', 'O'), ('free', 'O'), ('Employee', 'O'), ('discounts', 'O'), ('e.', 'O'), ('g.', 'O'), ('for', 'O'), ('events', 'O'), ('and', 'O'), ('branded', 'O'), ('products', 'O'), ('Awarding', 'O'), ('for', 'O'), ('implementing', 'O'), ('new', 'O'), ('ideas', 'O'), ('via', 'O'), ('the', 'O'), ('internal', 'O'), ('„Global', 'O'), ('Idea', 'O'), ('Bank”', 'O')]\n",
      "[('**Referenzcode:**', 'O'), ('SS', 'O'), ('**Gesellschaft:**', 'O'), ('TÜV', 'O'), ('Rheinland', 'O'), ('Cert', 'O'), ('Die', 'O'), ('Begeisterung', 'O'), ('für', 'O'), ('zukunftsweisende', 'O'), ('Lösungen', 'O'), ('teilen', 'O'), ('wir', 'O'), ('mit', 'O'), ('über', 'O'), ('Menschen', 'O'), ('in', 'O'), ('69', 'O'), ('Ländern.', 'O'), ('Bei', 'O'), ('TÜV', 'O'), ('Rheinland', 'O'), ('kann', 'O'), ('man', 'O'), ('sein', 'O'), ('Wissen', 'O'), ('eigenverantwortlich', 'O'), ('einbringen', 'O'), ('und', 'O'), ('sich', 'O'), ('dabei', 'O'), ('persönlich', 'O'), ('immer', 'O'), ('weiter', 'O'), ('entwickeln.', 'O'), ('Wir', 'O'), ('sind', 'O'), ('ein', 'O'), ('Team', 'O'), ('aus', 'O'), ('hochqualifizierten', 'O'), ('Experten,', 'O'), ('die', 'O'), ('sich', 'O'), ('verantwortungsvollen', 'O'), ('Herausforderungen', 'O'), ('stellen,', 'O'), ('um', 'O'), ('das', 'O'), ('Leben', 'PERSON'), ('mit', 'O'), ('wertvollen', 'O'), ('Leistungen', 'LOCATION'), ('zu', 'O'), ('bereichern.', 'O'), ('Und', 'O'), ('wir', 'O'), ('alle', 'O'), ('lieben,', 'O'), ('was', 'O'), ('wir', 'O'), ('tun.', 'O'), ('Wenn', 'O'), ('auch', 'O'), ('Sie', 'O'), ('Ihre', 'O'), ('Talente', 'O'), ('sinnstiftend', 'O'), ('einbringen', 'O'), ('möchten,', 'O'), ('kommen', 'O'), ('Sie', 'O'), ('zu', 'O'), ('TÜV', 'O'), ('Rheinland.', 'O'), ('Nutzen', 'O'), ('wir', 'O'), ('diese', 'O'), ('vielfältigen', 'O'), ('Möglichkeiten', 'O'), ('und', 'O'), ('machen', 'O'), ('wir', 'O'), ('uns', 'O'), ('gemeinsam', 'O'), ('auf', 'O'), ('zu', 'O'), ('neuen', 'O'), ('Zielen.', 'O')]\n"
     ]
    }
   ],
   "source": [
    "ner_out = []\n",
    "for doc in corpus[:10]:\n",
    "    ner_out.append(count_ner(doc))"
   ]
  },
  {
   "cell_type": "code",
   "execution_count": 200,
   "metadata": {},
   "outputs": [
    {
     "data": {
      "text/plain": [
       "[{'O': 149, 'ORGANIZATION': 9, 'LOCATION': 1},\n",
       " {'O': 85, 'ORGANIZATION': 2},\n",
       " {'O': 231, 'ORGANIZATION': 9},\n",
       " {'O': 164, 'ORGANIZATION': 7},\n",
       " {'O': 428, 'LOCATION': 3, 'ORGANIZATION': 6},\n",
       " {'O': 168},\n",
       " {'O': 3},\n",
       " {'O': 29},\n",
       " {'O': 57},\n",
       " {'O': 87, 'PERSON': 1, 'LOCATION': 1}]"
      ]
     },
     "execution_count": 200,
     "metadata": {},
     "output_type": "execute_result"
    }
   ],
   "source": [
    "ner_out"
   ]
  },
  {
   "cell_type": "code",
   "execution_count": null,
   "metadata": {},
   "outputs": [],
   "source": []
  },
  {
   "cell_type": "code",
   "execution_count": 47,
   "metadata": {},
   "outputs": [],
   "source": []
  }
 ],
 "metadata": {
  "anaconda-cloud": {},
  "kernelspec": {
   "display_name": "Python [default]",
   "language": "python",
   "name": "python3"
  },
  "language_info": {
   "codemirror_mode": {
    "name": "ipython",
    "version": 3
   },
   "file_extension": ".py",
   "mimetype": "text/x-python",
   "name": "python",
   "nbconvert_exporter": "python",
   "pygments_lexer": "ipython3",
   "version": "3.6.6"
  }
 },
 "nbformat": 4,
 "nbformat_minor": 2
}
