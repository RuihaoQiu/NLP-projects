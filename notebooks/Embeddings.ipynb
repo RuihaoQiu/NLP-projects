{
 "cells": [
  {
   "cell_type": "markdown",
   "metadata": {},
   "source": [
    "Embeddings"
   ]
  },
  {
   "cell_type": "code",
   "execution_count": 1,
   "metadata": {},
   "outputs": [],
   "source": [
    "import re\n",
    "\n",
    "from nltk.tokenize import word_tokenize\n",
    "from gensim.models import Word2Vec\n",
    "from gensim.models.doc2vec import Doc2Vec, TaggedDocument\n",
    "\n",
    "from TextCleaner import clean_text"
   ]
  },
  {
   "cell_type": "code",
   "execution_count": 5,
   "metadata": {},
   "outputs": [],
   "source": [
    "import logging\n",
    "logging.basicConfig(format='%(asctime)s : %(levelname)s : %(message)s', level=logging.INFO)"
   ]
  },
  {
   "cell_type": "code",
   "execution_count": 2,
   "metadata": {},
   "outputs": [
    {
     "data": {
      "text/plain": [
       "72292"
      ]
     },
     "execution_count": 2,
     "metadata": {},
     "output_type": "execute_result"
    }
   ],
   "source": [
    "import pandas as pd\n",
    "df = pd.read_csv(\"/Users/qiuruihao/Desktop/Top30.csv\")\n",
    "docs = df.Description\n",
    "len(docs)"
   ]
  },
  {
   "cell_type": "markdown",
   "metadata": {},
   "source": [
    "Word embedding"
   ]
  },
  {
   "cell_type": "code",
   "execution_count": 4,
   "metadata": {},
   "outputs": [
    {
     "name": "stdout",
     "output_type": "stream",
     "text": [
      "CPU times: user 2min 28s, sys: 1.23 s, total: 2min 29s\n",
      "Wall time: 2min 30s\n"
     ]
    }
   ],
   "source": [
    "%%time\n",
    "tokenss = []\n",
    "for doc in docs:\n",
    "    tokenss.append(clean_text(doc))"
   ]
  },
  {
   "cell_type": "code",
   "execution_count": 6,
   "metadata": {},
   "outputs": [
    {
     "name": "stderr",
     "output_type": "stream",
     "text": [
      "2020-02-22 17:04:05,106 : INFO : collecting all words and their counts\n",
      "2020-02-22 17:04:05,125 : INFO : PROGRESS: at sentence #0, processed 0 words, keeping 0 word types\n",
      "2020-02-22 17:04:05,818 : INFO : PROGRESS: at sentence #10000, processed 2362546 words, keeping 18043 word types\n",
      "2020-02-22 17:04:06,556 : INFO : PROGRESS: at sentence #20000, processed 4776113 words, keeping 23704 word types\n",
      "2020-02-22 17:04:07,236 : INFO : PROGRESS: at sentence #30000, processed 7150602 words, keeping 27701 word types\n",
      "2020-02-22 17:04:08,140 : INFO : PROGRESS: at sentence #40000, processed 9540178 words, keeping 30861 word types\n",
      "2020-02-22 17:04:09,002 : INFO : PROGRESS: at sentence #50000, processed 11972779 words, keeping 33788 word types\n",
      "2020-02-22 17:04:09,639 : INFO : PROGRESS: at sentence #60000, processed 14329450 words, keeping 36521 word types\n",
      "2020-02-22 17:04:10,262 : INFO : PROGRESS: at sentence #70000, processed 16673508 words, keeping 39119 word types\n",
      "2020-02-22 17:04:10,381 : INFO : collected 40454 word types from a corpus of 17097416 raw words and 72292 sentences\n",
      "2020-02-22 17:04:10,382 : INFO : Loading a fresh vocabulary\n",
      "2020-02-22 17:04:10,458 : INFO : min_count=5 retains 16997 unique words (42% of original 40454, drops 23457)\n",
      "2020-02-22 17:04:10,459 : INFO : min_count=5 leaves 17056983 word corpus (99% of original 17097416, drops 40433)\n",
      "2020-02-22 17:04:10,527 : INFO : deleting the raw counts dictionary of 40454 items\n",
      "2020-02-22 17:04:10,532 : INFO : sample=0.001 downsamples 37 most-common words\n",
      "2020-02-22 17:04:10,533 : INFO : downsampling leaves estimated 12575427 word corpus (73.7% of prior 17056983)\n",
      "2020-02-22 17:04:10,677 : INFO : estimated required memory for 16997 words and 500 dimensions: 76486500 bytes\n",
      "2020-02-22 17:04:10,679 : INFO : resetting layer weights\n",
      "2020-02-22 17:04:11,054 : INFO : training model with 4 workers on 16997 vocabulary and 500 features, using sg=0 hs=0 sample=0.001 negative=5 window=4\n",
      "2020-02-22 17:04:12,070 : INFO : EPOCH 1 - PROGRESS: at 4.17% examples, 573040 words/s, in_qsize 7, out_qsize 0\n",
      "2020-02-22 17:04:13,085 : INFO : EPOCH 1 - PROGRESS: at 6.95% examples, 437261 words/s, in_qsize 6, out_qsize 1\n",
      "2020-02-22 17:04:14,106 : INFO : EPOCH 1 - PROGRESS: at 11.49% examples, 490907 words/s, in_qsize 7, out_qsize 0\n",
      "2020-02-22 17:04:15,133 : INFO : EPOCH 1 - PROGRESS: at 15.41% examples, 481449 words/s, in_qsize 6, out_qsize 1\n",
      "2020-02-22 17:04:16,133 : INFO : EPOCH 1 - PROGRESS: at 19.33% examples, 488197 words/s, in_qsize 7, out_qsize 0\n",
      "2020-02-22 17:04:17,139 : INFO : EPOCH 1 - PROGRESS: at 24.29% examples, 512192 words/s, in_qsize 8, out_qsize 0\n",
      "2020-02-22 17:04:18,142 : INFO : EPOCH 1 - PROGRESS: at 29.20% examples, 525679 words/s, in_qsize 7, out_qsize 0\n",
      "2020-02-22 17:04:19,149 : INFO : EPOCH 1 - PROGRESS: at 34.24% examples, 538576 words/s, in_qsize 6, out_qsize 1\n",
      "2020-02-22 17:04:20,173 : INFO : EPOCH 1 - PROGRESS: at 36.84% examples, 515208 words/s, in_qsize 8, out_qsize 0\n",
      "2020-02-22 17:04:21,177 : INFO : EPOCH 1 - PROGRESS: at 39.60% examples, 499235 words/s, in_qsize 6, out_qsize 1\n",
      "2020-02-22 17:04:22,183 : INFO : EPOCH 1 - PROGRESS: at 42.73% examples, 490512 words/s, in_qsize 7, out_qsize 0\n",
      "2020-02-22 17:04:23,221 : INFO : EPOCH 1 - PROGRESS: at 45.35% examples, 473780 words/s, in_qsize 8, out_qsize 1\n",
      "2020-02-22 17:04:24,224 : INFO : EPOCH 1 - PROGRESS: at 49.68% examples, 480198 words/s, in_qsize 7, out_qsize 0\n",
      "2020-02-22 17:04:25,228 : INFO : EPOCH 1 - PROGRESS: at 54.51% examples, 490842 words/s, in_qsize 7, out_qsize 0\n",
      "2020-02-22 17:04:26,234 : INFO : EPOCH 1 - PROGRESS: at 59.29% examples, 497854 words/s, in_qsize 6, out_qsize 0\n",
      "2020-02-22 17:04:27,241 : INFO : EPOCH 1 - PROGRESS: at 64.21% examples, 505951 words/s, in_qsize 7, out_qsize 0\n",
      "2020-02-22 17:04:28,252 : INFO : EPOCH 1 - PROGRESS: at 69.33% examples, 514576 words/s, in_qsize 8, out_qsize 0\n",
      "2020-02-22 17:04:29,261 : INFO : EPOCH 1 - PROGRESS: at 74.20% examples, 518501 words/s, in_qsize 7, out_qsize 0\n",
      "2020-02-22 17:04:30,275 : INFO : EPOCH 1 - PROGRESS: at 76.64% examples, 507882 words/s, in_qsize 7, out_qsize 0\n",
      "2020-02-22 17:04:31,347 : INFO : EPOCH 1 - PROGRESS: at 79.99% examples, 501547 words/s, in_qsize 7, out_qsize 0\n",
      "2020-02-22 17:04:32,390 : INFO : EPOCH 1 - PROGRESS: at 83.73% examples, 498263 words/s, in_qsize 8, out_qsize 0\n",
      "2020-02-22 17:04:33,397 : INFO : EPOCH 1 - PROGRESS: at 86.51% examples, 491491 words/s, in_qsize 7, out_qsize 0\n",
      "2020-02-22 17:04:34,412 : INFO : EPOCH 1 - PROGRESS: at 91.44% examples, 496373 words/s, in_qsize 6, out_qsize 1\n",
      "2020-02-22 17:04:35,423 : INFO : EPOCH 1 - PROGRESS: at 95.57% examples, 496771 words/s, in_qsize 7, out_qsize 0\n",
      "2020-02-22 17:04:36,194 : INFO : worker thread finished; awaiting finish of 3 more threads\n",
      "2020-02-22 17:04:36,199 : INFO : worker thread finished; awaiting finish of 2 more threads\n",
      "2020-02-22 17:04:36,212 : INFO : worker thread finished; awaiting finish of 1 more threads\n",
      "2020-02-22 17:04:36,223 : INFO : worker thread finished; awaiting finish of 0 more threads\n",
      "2020-02-22 17:04:36,224 : INFO : EPOCH - 1 : training on 17097416 raw words (12574829 effective words) took 25.2s, 499847 effective words/s\n",
      "2020-02-22 17:04:37,243 : INFO : EPOCH 2 - PROGRESS: at 4.98% examples, 641867 words/s, in_qsize 7, out_qsize 0\n",
      "2020-02-22 17:04:38,256 : INFO : EPOCH 2 - PROGRESS: at 9.69% examples, 637907 words/s, in_qsize 7, out_qsize 0\n",
      "2020-02-22 17:04:39,267 : INFO : EPOCH 2 - PROGRESS: at 15.27% examples, 631065 words/s, in_qsize 7, out_qsize 0\n",
      "2020-02-22 17:04:40,267 : INFO : EPOCH 2 - PROGRESS: at 20.00% examples, 630841 words/s, in_qsize 7, out_qsize 0\n",
      "2020-02-22 17:04:41,269 : INFO : EPOCH 2 - PROGRESS: at 22.83% examples, 580997 words/s, in_qsize 7, out_qsize 0\n",
      "2020-02-22 17:04:42,274 : INFO : EPOCH 2 - PROGRESS: at 26.33% examples, 554161 words/s, in_qsize 7, out_qsize 0\n",
      "2020-02-22 17:04:43,287 : INFO : EPOCH 2 - PROGRESS: at 30.65% examples, 552743 words/s, in_qsize 7, out_qsize 0\n",
      "2020-02-22 17:04:44,290 : INFO : EPOCH 2 - PROGRESS: at 35.37% examples, 556399 words/s, in_qsize 8, out_qsize 0\n",
      "2020-02-22 17:04:45,296 : INFO : EPOCH 2 - PROGRESS: at 40.23% examples, 566436 words/s, in_qsize 6, out_qsize 1\n",
      "2020-02-22 17:04:46,303 : INFO : EPOCH 2 - PROGRESS: at 45.41% examples, 572648 words/s, in_qsize 8, out_qsize 0\n",
      "2020-02-22 17:04:47,326 : INFO : EPOCH 2 - PROGRESS: at 50.13% examples, 577148 words/s, in_qsize 7, out_qsize 0\n",
      "2020-02-22 17:04:48,341 : INFO : EPOCH 2 - PROGRESS: at 54.17% examples, 570575 words/s, in_qsize 5, out_qsize 2\n",
      "2020-02-22 17:04:49,359 : INFO : EPOCH 2 - PROGRESS: at 58.22% examples, 565742 words/s, in_qsize 7, out_qsize 0\n",
      "2020-02-22 17:04:50,363 : INFO : EPOCH 2 - PROGRESS: at 62.72% examples, 564714 words/s, in_qsize 7, out_qsize 0\n",
      "2020-02-22 17:04:51,387 : INFO : EPOCH 2 - PROGRESS: at 66.07% examples, 554466 words/s, in_qsize 7, out_qsize 0\n",
      "2020-02-22 17:04:52,387 : INFO : EPOCH 2 - PROGRESS: at 68.79% examples, 542875 words/s, in_qsize 8, out_qsize 0\n",
      "2020-02-22 17:04:53,388 : INFO : EPOCH 2 - PROGRESS: at 71.74% examples, 531830 words/s, in_qsize 6, out_qsize 2\n",
      "2020-02-22 17:04:54,390 : INFO : EPOCH 2 - PROGRESS: at 75.85% examples, 531990 words/s, in_qsize 7, out_qsize 0\n",
      "2020-02-22 17:04:55,393 : INFO : EPOCH 2 - PROGRESS: at 80.93% examples, 536546 words/s, in_qsize 7, out_qsize 0\n",
      "2020-02-22 17:04:56,394 : INFO : EPOCH 2 - PROGRESS: at 86.01% examples, 541447 words/s, in_qsize 8, out_qsize 0\n",
      "2020-02-22 17:04:57,406 : INFO : EPOCH 2 - PROGRESS: at 91.36% examples, 546734 words/s, in_qsize 7, out_qsize 0\n",
      "2020-02-22 17:04:58,426 : INFO : EPOCH 2 - PROGRESS: at 96.61% examples, 550297 words/s, in_qsize 7, out_qsize 0\n",
      "2020-02-22 17:04:58,968 : INFO : worker thread finished; awaiting finish of 3 more threads\n",
      "2020-02-22 17:04:58,975 : INFO : worker thread finished; awaiting finish of 2 more threads\n",
      "2020-02-22 17:04:58,986 : INFO : worker thread finished; awaiting finish of 1 more threads\n",
      "2020-02-22 17:04:58,996 : INFO : worker thread finished; awaiting finish of 0 more threads\n",
      "2020-02-22 17:04:58,997 : INFO : EPOCH - 2 : training on 17097416 raw words (12576604 effective words) took 22.8s, 552467 effective words/s\n",
      "2020-02-22 17:05:00,004 : INFO : EPOCH 3 - PROGRESS: at 5.04% examples, 655406 words/s, in_qsize 7, out_qsize 0\n"
     ]
    },
    {
     "name": "stderr",
     "output_type": "stream",
     "text": [
      "2020-02-22 17:05:01,012 : INFO : EPOCH 3 - PROGRESS: at 9.95% examples, 661292 words/s, in_qsize 7, out_qsize 0\n",
      "2020-02-22 17:05:02,015 : INFO : EPOCH 3 - PROGRESS: at 15.48% examples, 658075 words/s, in_qsize 7, out_qsize 0\n",
      "2020-02-22 17:05:03,017 : INFO : EPOCH 3 - PROGRESS: at 20.71% examples, 657751 words/s, in_qsize 7, out_qsize 0\n",
      "2020-02-22 17:05:04,027 : INFO : EPOCH 3 - PROGRESS: at 25.71% examples, 649548 words/s, in_qsize 7, out_qsize 0\n",
      "2020-02-22 17:05:05,049 : INFO : EPOCH 3 - PROGRESS: at 30.96% examples, 650525 words/s, in_qsize 7, out_qsize 0\n",
      "2020-02-22 17:05:06,053 : INFO : EPOCH 3 - PROGRESS: at 36.12% examples, 653343 words/s, in_qsize 7, out_qsize 0\n",
      "2020-02-22 17:05:07,054 : INFO : EPOCH 3 - PROGRESS: at 41.32% examples, 653133 words/s, in_qsize 7, out_qsize 0\n",
      "2020-02-22 17:05:08,066 : INFO : EPOCH 3 - PROGRESS: at 46.53% examples, 654431 words/s, in_qsize 7, out_qsize 0\n",
      "2020-02-22 17:05:09,070 : INFO : EPOCH 3 - PROGRESS: at 51.69% examples, 654630 words/s, in_qsize 7, out_qsize 0\n",
      "2020-02-22 17:05:10,071 : INFO : EPOCH 3 - PROGRESS: at 56.85% examples, 655521 words/s, in_qsize 7, out_qsize 0\n",
      "2020-02-22 17:05:11,077 : INFO : EPOCH 3 - PROGRESS: at 62.09% examples, 654273 words/s, in_qsize 7, out_qsize 0\n",
      "2020-02-22 17:05:12,085 : INFO : EPOCH 3 - PROGRESS: at 67.25% examples, 654379 words/s, in_qsize 7, out_qsize 0\n",
      "2020-02-22 17:05:13,096 : INFO : EPOCH 3 - PROGRESS: at 72.36% examples, 654308 words/s, in_qsize 7, out_qsize 0\n",
      "2020-02-22 17:05:14,104 : INFO : EPOCH 3 - PROGRESS: at 77.27% examples, 650703 words/s, in_qsize 7, out_qsize 0\n",
      "2020-02-22 17:05:15,120 : INFO : EPOCH 3 - PROGRESS: at 82.27% examples, 648849 words/s, in_qsize 7, out_qsize 0\n",
      "2020-02-22 17:05:16,130 : INFO : EPOCH 3 - PROGRESS: at 87.36% examples, 648058 words/s, in_qsize 6, out_qsize 1\n",
      "2020-02-22 17:05:17,191 : INFO : EPOCH 3 - PROGRESS: at 91.96% examples, 640479 words/s, in_qsize 7, out_qsize 0\n",
      "2020-02-22 17:05:18,206 : INFO : EPOCH 3 - PROGRESS: at 95.26% examples, 627500 words/s, in_qsize 7, out_qsize 0\n",
      "2020-02-22 17:05:19,211 : INFO : EPOCH 3 - PROGRESS: at 99.82% examples, 620288 words/s, in_qsize 5, out_qsize 0\n",
      "2020-02-22 17:05:19,231 : INFO : worker thread finished; awaiting finish of 3 more threads\n",
      "2020-02-22 17:05:19,243 : INFO : worker thread finished; awaiting finish of 2 more threads\n",
      "2020-02-22 17:05:19,251 : INFO : worker thread finished; awaiting finish of 1 more threads\n",
      "2020-02-22 17:05:19,261 : INFO : worker thread finished; awaiting finish of 0 more threads\n",
      "2020-02-22 17:05:19,262 : INFO : EPOCH - 3 : training on 17097416 raw words (12574197 effective words) took 20.3s, 620684 effective words/s\n",
      "2020-02-22 17:05:20,277 : INFO : EPOCH 4 - PROGRESS: at 4.33% examples, 579360 words/s, in_qsize 5, out_qsize 2\n",
      "2020-02-22 17:05:21,298 : INFO : EPOCH 4 - PROGRESS: at 9.23% examples, 605415 words/s, in_qsize 7, out_qsize 0\n",
      "2020-02-22 17:05:22,316 : INFO : EPOCH 4 - PROGRESS: at 14.81% examples, 611870 words/s, in_qsize 7, out_qsize 0\n",
      "2020-02-22 17:05:23,338 : INFO : EPOCH 4 - PROGRESS: at 19.73% examples, 618569 words/s, in_qsize 7, out_qsize 0\n",
      "2020-02-22 17:05:24,339 : INFO : EPOCH 4 - PROGRESS: at 22.98% examples, 581867 words/s, in_qsize 7, out_qsize 0\n",
      "2020-02-22 17:05:25,344 : INFO : EPOCH 4 - PROGRESS: at 26.65% examples, 556134 words/s, in_qsize 8, out_qsize 0\n",
      "2020-02-22 17:05:26,348 : INFO : EPOCH 4 - PROGRESS: at 31.08% examples, 557819 words/s, in_qsize 6, out_qsize 1\n",
      "2020-02-22 17:05:27,361 : INFO : EPOCH 4 - PROGRESS: at 35.63% examples, 559129 words/s, in_qsize 7, out_qsize 0\n",
      "2020-02-22 17:05:28,374 : INFO : EPOCH 4 - PROGRESS: at 39.89% examples, 558782 words/s, in_qsize 7, out_qsize 0\n",
      "2020-02-22 17:05:29,375 : INFO : EPOCH 4 - PROGRESS: at 44.84% examples, 564951 words/s, in_qsize 7, out_qsize 0\n",
      "2020-02-22 17:05:30,384 : INFO : EPOCH 4 - PROGRESS: at 49.78% examples, 571506 words/s, in_qsize 7, out_qsize 0\n",
      "2020-02-22 17:05:31,389 : INFO : EPOCH 4 - PROGRESS: at 54.95% examples, 577803 words/s, in_qsize 6, out_qsize 1\n",
      "2020-02-22 17:05:32,390 : INFO : EPOCH 4 - PROGRESS: at 59.91% examples, 583345 words/s, in_qsize 7, out_qsize 0\n",
      "2020-02-22 17:05:33,419 : INFO : EPOCH 4 - PROGRESS: at 65.34% examples, 587939 words/s, in_qsize 7, out_qsize 0\n",
      "2020-02-22 17:05:34,425 : INFO : EPOCH 4 - PROGRESS: at 69.97% examples, 588704 words/s, in_qsize 7, out_qsize 0\n",
      "2020-02-22 17:05:35,434 : INFO : EPOCH 4 - PROGRESS: at 75.38% examples, 592723 words/s, in_qsize 7, out_qsize 0\n",
      "2020-02-22 17:05:36,434 : INFO : EPOCH 4 - PROGRESS: at 80.53% examples, 596143 words/s, in_qsize 7, out_qsize 0\n",
      "2020-02-22 17:05:37,449 : INFO : EPOCH 4 - PROGRESS: at 85.81% examples, 599375 words/s, in_qsize 7, out_qsize 0\n",
      "2020-02-22 17:05:38,467 : INFO : EPOCH 4 - PROGRESS: at 91.23% examples, 601961 words/s, in_qsize 7, out_qsize 0\n",
      "2020-02-22 17:05:39,486 : INFO : EPOCH 4 - PROGRESS: at 96.48% examples, 603691 words/s, in_qsize 7, out_qsize 0\n",
      "2020-02-22 17:05:40,042 : INFO : worker thread finished; awaiting finish of 3 more threads\n",
      "2020-02-22 17:05:40,053 : INFO : worker thread finished; awaiting finish of 2 more threads\n",
      "2020-02-22 17:05:40,064 : INFO : worker thread finished; awaiting finish of 1 more threads\n",
      "2020-02-22 17:05:40,071 : INFO : worker thread finished; awaiting finish of 0 more threads\n",
      "2020-02-22 17:05:40,072 : INFO : EPOCH - 4 : training on 17097416 raw words (12577043 effective words) took 20.8s, 604600 effective words/s\n",
      "2020-02-22 17:05:41,091 : INFO : EPOCH 5 - PROGRESS: at 5.12% examples, 656454 words/s, in_qsize 7, out_qsize 0\n",
      "2020-02-22 17:05:42,092 : INFO : EPOCH 5 - PROGRESS: at 9.95% examples, 660417 words/s, in_qsize 7, out_qsize 0\n",
      "2020-02-22 17:05:43,097 : INFO : EPOCH 5 - PROGRESS: at 15.48% examples, 656945 words/s, in_qsize 7, out_qsize 0\n",
      "2020-02-22 17:05:44,103 : INFO : EPOCH 5 - PROGRESS: at 20.65% examples, 654523 words/s, in_qsize 7, out_qsize 0\n",
      "2020-02-22 17:05:45,110 : INFO : EPOCH 5 - PROGRESS: at 25.42% examples, 643046 words/s, in_qsize 6, out_qsize 1\n",
      "2020-02-22 17:05:46,133 : INFO : EPOCH 5 - PROGRESS: at 30.48% examples, 640500 words/s, in_qsize 7, out_qsize 0\n",
      "2020-02-22 17:05:47,138 : INFO : EPOCH 5 - PROGRESS: at 35.69% examples, 643436 words/s, in_qsize 7, out_qsize 0\n",
      "2020-02-22 17:05:48,139 : INFO : EPOCH 5 - PROGRESS: at 40.74% examples, 644540 words/s, in_qsize 7, out_qsize 0\n",
      "2020-02-22 17:05:49,140 : INFO : EPOCH 5 - PROGRESS: at 46.10% examples, 646866 words/s, in_qsize 7, out_qsize 0\n",
      "2020-02-22 17:05:50,149 : INFO : EPOCH 5 - PROGRESS: at 51.05% examples, 646674 words/s, in_qsize 7, out_qsize 0\n",
      "2020-02-22 17:05:51,150 : INFO : EPOCH 5 - PROGRESS: at 56.04% examples, 646511 words/s, in_qsize 7, out_qsize 0\n",
      "2020-02-22 17:05:52,159 : INFO : EPOCH 5 - PROGRESS: at 60.98% examples, 643534 words/s, in_qsize 7, out_qsize 0\n",
      "2020-02-22 17:05:53,161 : INFO : EPOCH 5 - PROGRESS: at 66.11% examples, 643183 words/s, in_qsize 7, out_qsize 0\n",
      "2020-02-22 17:05:54,170 : INFO : EPOCH 5 - PROGRESS: at 70.85% examples, 639492 words/s, in_qsize 7, out_qsize 0\n",
      "2020-02-22 17:05:55,183 : INFO : EPOCH 5 - PROGRESS: at 74.93% examples, 630664 words/s, in_qsize 6, out_qsize 1\n",
      "2020-02-22 17:05:56,197 : INFO : EPOCH 5 - PROGRESS: at 79.52% examples, 627894 words/s, in_qsize 7, out_qsize 0\n",
      "2020-02-22 17:05:57,212 : INFO : EPOCH 5 - PROGRESS: at 84.50% examples, 627295 words/s, in_qsize 7, out_qsize 0\n",
      "2020-02-22 17:05:58,221 : INFO : EPOCH 5 - PROGRESS: at 89.29% examples, 623710 words/s, in_qsize 7, out_qsize 0\n",
      "2020-02-22 17:05:59,232 : INFO : EPOCH 5 - PROGRESS: at 94.28% examples, 623024 words/s, in_qsize 7, out_qsize 0\n",
      "2020-02-22 17:06:00,246 : INFO : EPOCH 5 - PROGRESS: at 99.62% examples, 619317 words/s, in_qsize 7, out_qsize 0\n",
      "2020-02-22 17:06:00,356 : INFO : worker thread finished; awaiting finish of 3 more threads\n",
      "2020-02-22 17:06:00,358 : INFO : worker thread finished; awaiting finish of 2 more threads\n",
      "2020-02-22 17:06:00,366 : INFO : worker thread finished; awaiting finish of 1 more threads\n",
      "2020-02-22 17:06:00,385 : INFO : worker thread finished; awaiting finish of 0 more threads\n",
      "2020-02-22 17:06:00,386 : INFO : EPOCH - 5 : training on 17097416 raw words (12575621 effective words) took 20.3s, 619327 effective words/s\n",
      "2020-02-22 17:06:00,386 : INFO : training on a 85487080 raw words (62878294 effective words) took 109.3s, 575171 effective words/s\n"
     ]
    },
    {
     "name": "stdout",
     "output_type": "stream",
     "text": [
      "CPU times: user 6min 14s, sys: 4.47 s, total: 6min 18s\n",
      "Wall time: 1min 55s\n"
     ]
    }
   ],
   "source": [
    "%%time\n",
    "model = Word2Vec(\n",
    "    tokenss,     # list of tokens\n",
    "    size=500,    # vector length\n",
    "    window=4,    # maximum distance between the current and predicted word\n",
    "    min_count=5, # ignores words with frequency lower than 5\n",
    "    workers=4    # number of threads\n",
    ")"
   ]
  },
  {
   "cell_type": "code",
   "execution_count": 7,
   "metadata": {
    "collapsed": true
   },
   "outputs": [
    {
     "name": "stderr",
     "output_type": "stream",
     "text": [
      "2020-02-22 17:07:58,248 : INFO : precomputing L2-norms of word weight vectors\n"
     ]
    },
    {
     "name": "stdout",
     "output_type": "stream",
     "text": [
      "python :\n",
      " [('rdbms', 0.8215682506561279), ('perl', 0.8211899399757385), ('tomcat', 0.8167069554328918), ('weblogic', 0.8105891942977905), ('jms', 0.8051434755325317)]\n",
      "javascript :\n",
      " [('struts', 0.8272807002067566), ('xml', 0.8139920234680176), ('jquery', 0.8123090863227844), ('html', 0.8114718198776245), ('xslt', 0.794143795967102)]\n",
      "powerbi :\n",
      " [('obiee', 0.6827813982963562), ('tableau', 0.6598259210586548), ('visualization', 0.6336531639099121), ('query', 0.6239848136901855), ('iri', 0.6232795119285583)]\n",
      "excel :\n",
      " [('ms', 0.666321873664856), ('powerpoint', 0.6542035341262817), ('macros', 0.6245964765548706), ('vlookups', 0.6167137622833252), ('microsoft', 0.6154444217681885)]\n",
      "git :\n",
      " [('svn', 0.7295184135437012), ('weblogic', 0.6927921772003174), ('tomcat', 0.6880820989608765), ('subversion', 0.6861574053764343), ('jms', 0.6797549724578857)]\n"
     ]
    }
   ],
   "source": [
    "test_list = [\"python\", \"javascript\", \"powerbi\", \"excel\", \"git\"]\n",
    "\n",
    "for word in test_list:\n",
    "    print(word, \":\\n\", model.wv.most_similar(word, topn=5))"
   ]
  },
  {
   "cell_type": "code",
   "execution_count": null,
   "metadata": {},
   "outputs": [],
   "source": []
  },
  {
   "cell_type": "markdown",
   "metadata": {},
   "source": [
    "Document embedding"
   ]
  },
  {
   "cell_type": "code",
   "execution_count": 9,
   "metadata": {},
   "outputs": [],
   "source": [
    "documents = [TaggedDocument(tokens, [i]) for i, tokens in enumerate(tokenss)]"
   ]
  },
  {
   "cell_type": "code",
   "execution_count": 10,
   "metadata": {},
   "outputs": [],
   "source": [
    "model = Doc2Vec(vector_size=500, window=4, min_count=5, workers=4)"
   ]
  },
  {
   "cell_type": "code",
   "execution_count": 11,
   "metadata": {},
   "outputs": [
    {
     "name": "stderr",
     "output_type": "stream",
     "text": [
      "2020-02-22 17:18:52,634 : INFO : collecting all words and their counts\n",
      "2020-02-22 17:18:52,635 : INFO : PROGRESS: at example #0, processed 0 words (0/s), 0 word types, 0 tags\n",
      "2020-02-22 17:18:53,112 : INFO : PROGRESS: at example #10000, processed 2362546 words (4966107/s), 18043 word types, 10000 tags\n",
      "2020-02-22 17:18:53,556 : INFO : PROGRESS: at example #20000, processed 4776113 words (5443941/s), 23704 word types, 20000 tags\n",
      "2020-02-22 17:18:54,061 : INFO : PROGRESS: at example #30000, processed 7150602 words (4718141/s), 27701 word types, 30000 tags\n",
      "2020-02-22 17:18:54,519 : INFO : PROGRESS: at example #40000, processed 9540178 words (5219649/s), 30861 word types, 40000 tags\n",
      "2020-02-22 17:18:54,957 : INFO : PROGRESS: at example #50000, processed 11972779 words (5574466/s), 33788 word types, 50000 tags\n",
      "2020-02-22 17:18:55,363 : INFO : PROGRESS: at example #60000, processed 14329450 words (5812384/s), 36521 word types, 60000 tags\n",
      "2020-02-22 17:18:55,765 : INFO : PROGRESS: at example #70000, processed 16673508 words (5844491/s), 39119 word types, 70000 tags\n",
      "2020-02-22 17:18:55,856 : INFO : collected 40454 word types and 72292 unique tags from a corpus of 72292 examples and 17097416 words\n",
      "2020-02-22 17:18:55,857 : INFO : Loading a fresh vocabulary\n",
      "2020-02-22 17:18:56,224 : INFO : min_count=5 retains 16997 unique words (42% of original 40454, drops 23457)\n",
      "2020-02-22 17:18:56,225 : INFO : min_count=5 leaves 17056983 word corpus (99% of original 17097416, drops 40433)\n",
      "2020-02-22 17:18:56,295 : INFO : deleting the raw counts dictionary of 40454 items\n",
      "2020-02-22 17:18:56,297 : INFO : sample=0.001 downsamples 37 most-common words\n",
      "2020-02-22 17:18:56,298 : INFO : downsampling leaves estimated 12575427 word corpus (73.7% of prior 17056983)\n",
      "2020-02-22 17:18:56,386 : INFO : estimated required memory for 16997 words and 500 dimensions: 221070500 bytes\n",
      "2020-02-22 17:18:56,387 : INFO : resetting layer weights\n"
     ]
    }
   ],
   "source": [
    "model.build_vocab(documents)"
   ]
  },
  {
   "cell_type": "code",
   "execution_count": 15,
   "metadata": {},
   "outputs": [
    {
     "data": {
      "text/plain": [
       "50"
      ]
     },
     "execution_count": 15,
     "metadata": {},
     "output_type": "execute_result"
    }
   ],
   "source": [
    "model.wv.vocab[\"python\"].count"
   ]
  },
  {
   "cell_type": "code",
   "execution_count": 16,
   "metadata": {},
   "outputs": [
    {
     "name": "stderr",
     "output_type": "stream",
     "text": [
      "2020-02-22 17:28:35,881 : INFO : training model with 4 workers on 16997 vocabulary and 500 features, using sg=0 hs=0 sample=0.001 negative=5 window=4\n",
      "2020-02-22 17:28:36,894 : INFO : EPOCH 1 - PROGRESS: at 2.74% examples, 404899 words/s, in_qsize 7, out_qsize 0\n",
      "2020-02-22 17:28:37,909 : INFO : EPOCH 1 - PROGRESS: at 6.56% examples, 415285 words/s, in_qsize 8, out_qsize 0\n",
      "2020-02-22 17:28:38,920 : INFO : EPOCH 1 - PROGRESS: at 9.90% examples, 439096 words/s, in_qsize 7, out_qsize 0\n",
      "2020-02-22 17:28:39,923 : INFO : EPOCH 1 - PROGRESS: at 14.09% examples, 445986 words/s, in_qsize 7, out_qsize 0\n",
      "2020-02-22 17:28:40,930 : INFO : EPOCH 1 - PROGRESS: at 17.87% examples, 461267 words/s, in_qsize 7, out_qsize 0\n",
      "2020-02-22 17:28:41,951 : INFO : EPOCH 1 - PROGRESS: at 21.47% examples, 452057 words/s, in_qsize 7, out_qsize 0\n",
      "2020-02-22 17:28:42,972 : INFO : EPOCH 1 - PROGRESS: at 25.01% examples, 454397 words/s, in_qsize 8, out_qsize 0\n",
      "2020-02-22 17:28:44,009 : INFO : EPOCH 1 - PROGRESS: at 27.66% examples, 436885 words/s, in_qsize 7, out_qsize 0\n",
      "2020-02-22 17:28:45,014 : INFO : EPOCH 1 - PROGRESS: at 30.09% examples, 422138 words/s, in_qsize 7, out_qsize 0\n",
      "2020-02-22 17:28:46,015 : INFO : EPOCH 1 - PROGRESS: at 33.03% examples, 418783 words/s, in_qsize 8, out_qsize 0\n",
      "2020-02-22 17:28:47,037 : INFO : EPOCH 1 - PROGRESS: at 37.02% examples, 425663 words/s, in_qsize 8, out_qsize 0\n",
      "2020-02-22 17:28:48,054 : INFO : EPOCH 1 - PROGRESS: at 38.88% examples, 408579 words/s, in_qsize 7, out_qsize 0\n",
      "2020-02-22 17:28:49,072 : INFO : EPOCH 1 - PROGRESS: at 41.06% examples, 399206 words/s, in_qsize 7, out_qsize 0\n",
      "2020-02-22 17:28:50,077 : INFO : EPOCH 1 - PROGRESS: at 42.48% examples, 384106 words/s, in_qsize 8, out_qsize 0\n",
      "2020-02-22 17:28:51,084 : INFO : EPOCH 1 - PROGRESS: at 45.73% examples, 384114 words/s, in_qsize 8, out_qsize 0\n",
      "2020-02-22 17:28:52,087 : INFO : EPOCH 1 - PROGRESS: at 47.59% examples, 376643 words/s, in_qsize 7, out_qsize 0\n",
      "2020-02-22 17:28:53,103 : INFO : EPOCH 1 - PROGRESS: at 50.91% examples, 379561 words/s, in_qsize 7, out_qsize 0\n",
      "2020-02-22 17:28:54,116 : INFO : EPOCH 1 - PROGRESS: at 55.06% examples, 387155 words/s, in_qsize 7, out_qsize 0\n",
      "2020-02-22 17:28:55,140 : INFO : EPOCH 1 - PROGRESS: at 58.89% examples, 391782 words/s, in_qsize 7, out_qsize 0\n",
      "2020-02-22 17:28:56,154 : INFO : EPOCH 1 - PROGRESS: at 62.91% examples, 398263 words/s, in_qsize 7, out_qsize 0\n",
      "2020-02-22 17:28:57,162 : INFO : EPOCH 1 - PROGRESS: at 66.97% examples, 403397 words/s, in_qsize 8, out_qsize 0\n",
      "2020-02-22 17:28:58,172 : INFO : EPOCH 1 - PROGRESS: at 71.31% examples, 409647 words/s, in_qsize 7, out_qsize 0\n",
      "2020-02-22 17:28:59,175 : INFO : EPOCH 1 - PROGRESS: at 75.60% examples, 414717 words/s, in_qsize 7, out_qsize 0\n",
      "2020-02-22 17:29:00,196 : INFO : EPOCH 1 - PROGRESS: at 79.40% examples, 418152 words/s, in_qsize 7, out_qsize 0\n",
      "2020-02-22 17:29:01,227 : INFO : EPOCH 1 - PROGRESS: at 82.33% examples, 415538 words/s, in_qsize 8, out_qsize 0\n",
      "2020-02-22 17:29:02,276 : INFO : EPOCH 1 - PROGRESS: at 84.32% examples, 408568 words/s, in_qsize 7, out_qsize 0\n",
      "2020-02-22 17:29:03,282 : INFO : EPOCH 1 - PROGRESS: at 86.87% examples, 405218 words/s, in_qsize 8, out_qsize 0\n",
      "2020-02-22 17:29:04,299 : INFO : EPOCH 1 - PROGRESS: at 89.32% examples, 401046 words/s, in_qsize 7, out_qsize 0\n",
      "2020-02-22 17:29:05,320 : INFO : EPOCH 1 - PROGRESS: at 92.90% examples, 401651 words/s, in_qsize 8, out_qsize 0\n",
      "2020-02-22 17:29:06,343 : INFO : EPOCH 1 - PROGRESS: at 95.47% examples, 399211 words/s, in_qsize 8, out_qsize 0\n",
      "2020-02-22 17:29:07,349 : INFO : EPOCH 1 - PROGRESS: at 99.23% examples, 398746 words/s, in_qsize 8, out_qsize 0\n",
      "2020-02-22 17:29:07,595 : INFO : worker thread finished; awaiting finish of 3 more threads\n",
      "2020-02-22 17:29:07,601 : INFO : worker thread finished; awaiting finish of 2 more threads\n",
      "2020-02-22 17:29:07,607 : INFO : worker thread finished; awaiting finish of 1 more threads\n",
      "2020-02-22 17:29:07,633 : INFO : worker thread finished; awaiting finish of 0 more threads\n",
      "2020-02-22 17:29:07,634 : INFO : EPOCH - 1 : training on 17097416 raw words (12648008 effective words) took 31.7s, 398499 effective words/s\n",
      "2020-02-22 17:29:08,644 : INFO : EPOCH 2 - PROGRESS: at 3.50% examples, 490263 words/s, in_qsize 7, out_qsize 0\n",
      "2020-02-22 17:29:09,674 : INFO : EPOCH 2 - PROGRESS: at 6.89% examples, 433377 words/s, in_qsize 7, out_qsize 0\n",
      "2020-02-22 17:29:10,679 : INFO : EPOCH 2 - PROGRESS: at 10.43% examples, 452122 words/s, in_qsize 7, out_qsize 0\n",
      "2020-02-22 17:29:11,683 : INFO : EPOCH 2 - PROGRESS: at 14.36% examples, 452206 words/s, in_qsize 8, out_qsize 0\n",
      "2020-02-22 17:29:12,685 : INFO : EPOCH 2 - PROGRESS: at 16.26% examples, 421199 words/s, in_qsize 7, out_qsize 0\n",
      "2020-02-22 17:29:13,687 : INFO : EPOCH 2 - PROGRESS: at 19.09% examples, 409054 words/s, in_qsize 8, out_qsize 0\n",
      "2020-02-22 17:29:14,709 : INFO : EPOCH 2 - PROGRESS: at 23.37% examples, 427643 words/s, in_qsize 7, out_qsize 0\n",
      "2020-02-22 17:29:15,717 : INFO : EPOCH 2 - PROGRESS: at 26.72% examples, 421702 words/s, in_qsize 7, out_qsize 0\n",
      "2020-02-22 17:29:16,731 : INFO : EPOCH 2 - PROGRESS: at 29.92% examples, 421469 words/s, in_qsize 7, out_qsize 0\n",
      "2020-02-22 17:29:17,734 : INFO : EPOCH 2 - PROGRESS: at 33.36% examples, 424051 words/s, in_qsize 8, out_qsize 0\n",
      "2020-02-22 17:29:18,739 : INFO : EPOCH 2 - PROGRESS: at 36.59% examples, 423240 words/s, in_qsize 7, out_qsize 0\n",
      "2020-02-22 17:29:19,773 : INFO : EPOCH 2 - PROGRESS: at 39.89% examples, 421718 words/s, in_qsize 7, out_qsize 0\n",
      "2020-02-22 17:29:20,780 : INFO : EPOCH 2 - PROGRESS: at 43.52% examples, 424562 words/s, in_qsize 7, out_qsize 0\n",
      "2020-02-22 17:29:21,784 : INFO : EPOCH 2 - PROGRESS: at 47.36% examples, 429166 words/s, in_qsize 7, out_qsize 0\n",
      "2020-02-22 17:29:22,805 : INFO : EPOCH 2 - PROGRESS: at 50.94% examples, 431502 words/s, in_qsize 8, out_qsize 0\n",
      "2020-02-22 17:29:23,867 : INFO : EPOCH 2 - PROGRESS: at 54.18% examples, 428167 words/s, in_qsize 6, out_qsize 1\n",
      "2020-02-22 17:29:24,877 : INFO : EPOCH 2 - PROGRESS: at 57.69% examples, 429325 words/s, in_qsize 7, out_qsize 0\n",
      "2020-02-22 17:29:25,879 : INFO : EPOCH 2 - PROGRESS: at 60.25% examples, 424082 words/s, in_qsize 7, out_qsize 0\n",
      "2020-02-22 17:29:26,885 : INFO : EPOCH 2 - PROGRESS: at 63.63% examples, 424117 words/s, in_qsize 8, out_qsize 0\n",
      "2020-02-22 17:29:27,896 : INFO : EPOCH 2 - PROGRESS: at 67.08% examples, 424439 words/s, in_qsize 7, out_qsize 0\n",
      "2020-02-22 17:29:28,908 : INFO : EPOCH 2 - PROGRESS: at 70.83% examples, 426193 words/s, in_qsize 7, out_qsize 0\n",
      "2020-02-22 17:29:29,915 : INFO : EPOCH 2 - PROGRESS: at 74.93% examples, 430147 words/s, in_qsize 8, out_qsize 0\n",
      "2020-02-22 17:29:30,919 : INFO : EPOCH 2 - PROGRESS: at 78.75% examples, 432347 words/s, in_qsize 7, out_qsize 0\n",
      "2020-02-22 17:29:31,943 : INFO : EPOCH 2 - PROGRESS: at 82.39% examples, 433592 words/s, in_qsize 7, out_qsize 0\n",
      "2020-02-22 17:29:32,951 : INFO : EPOCH 2 - PROGRESS: at 85.01% examples, 429489 words/s, in_qsize 8, out_qsize 0\n",
      "2020-02-22 17:29:33,971 : INFO : EPOCH 2 - PROGRESS: at 89.14% examples, 431694 words/s, in_qsize 7, out_qsize 0\n",
      "2020-02-22 17:29:34,990 : INFO : EPOCH 2 - PROGRESS: at 93.60% examples, 436029 words/s, in_qsize 7, out_qsize 0\n",
      "2020-02-22 17:29:36,015 : INFO : EPOCH 2 - PROGRESS: at 98.15% examples, 439511 words/s, in_qsize 7, out_qsize 0\n",
      "2020-02-22 17:29:36,481 : INFO : worker thread finished; awaiting finish of 3 more threads\n",
      "2020-02-22 17:29:36,509 : INFO : worker thread finished; awaiting finish of 2 more threads\n",
      "2020-02-22 17:29:36,512 : INFO : worker thread finished; awaiting finish of 1 more threads\n",
      "2020-02-22 17:29:36,528 : INFO : worker thread finished; awaiting finish of 0 more threads\n",
      "2020-02-22 17:29:36,529 : INFO : EPOCH - 2 : training on 17097416 raw words (12647893 effective words) took 28.9s, 437889 effective words/s\n",
      "2020-02-22 17:29:37,535 : INFO : EPOCH 3 - PROGRESS: at 3.42% examples, 481092 words/s, in_qsize 7, out_qsize 0\n",
      "2020-02-22 17:29:38,536 : INFO : EPOCH 3 - PROGRESS: at 7.09% examples, 450014 words/s, in_qsize 7, out_qsize 0\n",
      "2020-02-22 17:29:39,565 : INFO : EPOCH 3 - PROGRESS: at 10.87% examples, 471955 words/s, in_qsize 7, out_qsize 0\n",
      "2020-02-22 17:29:40,569 : INFO : EPOCH 3 - PROGRESS: at 14.43% examples, 454169 words/s, in_qsize 7, out_qsize 0\n"
     ]
    },
    {
     "name": "stderr",
     "output_type": "stream",
     "text": [
      "2020-02-22 17:29:41,574 : INFO : EPOCH 3 - PROGRESS: at 17.71% examples, 457967 words/s, in_qsize 7, out_qsize 0\n",
      "2020-02-22 17:29:42,582 : INFO : EPOCH 3 - PROGRESS: at 21.91% examples, 460950 words/s, in_qsize 7, out_qsize 0\n",
      "2020-02-22 17:29:43,600 : INFO : EPOCH 3 - PROGRESS: at 25.34% examples, 459406 words/s, in_qsize 7, out_qsize 0\n",
      "2020-02-22 17:29:44,603 : INFO : EPOCH 3 - PROGRESS: at 28.79% examples, 457629 words/s, in_qsize 7, out_qsize 0\n",
      "2020-02-22 17:29:45,613 : INFO : EPOCH 3 - PROGRESS: at 32.37% examples, 458395 words/s, in_qsize 7, out_qsize 0\n",
      "2020-02-22 17:29:46,614 : INFO : EPOCH 3 - PROGRESS: at 36.90% examples, 468857 words/s, in_qsize 7, out_qsize 0\n",
      "2020-02-22 17:29:47,626 : INFO : EPOCH 3 - PROGRESS: at 40.98% examples, 473666 words/s, in_qsize 7, out_qsize 0\n",
      "2020-02-22 17:29:48,655 : INFO : EPOCH 3 - PROGRESS: at 45.18% examples, 476559 words/s, in_qsize 6, out_qsize 1\n",
      "2020-02-22 17:29:49,655 : INFO : EPOCH 3 - PROGRESS: at 49.63% examples, 483821 words/s, in_qsize 7, out_qsize 0\n",
      "2020-02-22 17:29:50,686 : INFO : EPOCH 3 - PROGRESS: at 52.64% examples, 476471 words/s, in_qsize 8, out_qsize 0\n",
      "2020-02-22 17:29:51,701 : INFO : EPOCH 3 - PROGRESS: at 55.05% examples, 465173 words/s, in_qsize 7, out_qsize 0\n",
      "2020-02-22 17:29:52,705 : INFO : EPOCH 3 - PROGRESS: at 58.18% examples, 461405 words/s, in_qsize 7, out_qsize 0\n",
      "2020-02-22 17:29:53,706 : INFO : EPOCH 3 - PROGRESS: at 61.06% examples, 455743 words/s, in_qsize 7, out_qsize 0\n",
      "2020-02-22 17:29:54,709 : INFO : EPOCH 3 - PROGRESS: at 63.79% examples, 449822 words/s, in_qsize 7, out_qsize 0\n",
      "2020-02-22 17:29:55,721 : INFO : EPOCH 3 - PROGRESS: at 66.94% examples, 447249 words/s, in_qsize 7, out_qsize 0\n",
      "2020-02-22 17:29:56,767 : INFO : EPOCH 3 - PROGRESS: at 70.03% examples, 443719 words/s, in_qsize 7, out_qsize 0\n",
      "2020-02-22 17:29:57,781 : INFO : EPOCH 3 - PROGRESS: at 74.42% examples, 447866 words/s, in_qsize 7, out_qsize 0\n",
      "2020-02-22 17:29:58,800 : INFO : EPOCH 3 - PROGRESS: at 78.04% examples, 448181 words/s, in_qsize 8, out_qsize 0\n",
      "2020-02-22 17:29:59,804 : INFO : EPOCH 3 - PROGRESS: at 81.00% examples, 444584 words/s, in_qsize 7, out_qsize 0\n",
      "2020-02-22 17:30:00,810 : INFO : EPOCH 3 - PROGRESS: at 84.29% examples, 443991 words/s, in_qsize 8, out_qsize 0\n",
      "2020-02-22 17:30:01,830 : INFO : EPOCH 3 - PROGRESS: at 87.92% examples, 443798 words/s, in_qsize 8, out_qsize 0\n",
      "2020-02-22 17:30:02,832 : INFO : EPOCH 3 - PROGRESS: at 91.03% examples, 440903 words/s, in_qsize 7, out_qsize 0\n",
      "2020-02-22 17:30:03,841 : INFO : EPOCH 3 - PROGRESS: at 94.12% examples, 438927 words/s, in_qsize 7, out_qsize 0\n",
      "2020-02-22 17:30:04,849 : INFO : EPOCH 3 - PROGRESS: at 97.73% examples, 438840 words/s, in_qsize 8, out_qsize 0\n",
      "2020-02-22 17:30:05,276 : INFO : worker thread finished; awaiting finish of 3 more threads\n",
      "2020-02-22 17:30:05,288 : INFO : worker thread finished; awaiting finish of 2 more threads\n",
      "2020-02-22 17:30:05,299 : INFO : worker thread finished; awaiting finish of 1 more threads\n",
      "2020-02-22 17:30:05,311 : INFO : worker thread finished; awaiting finish of 0 more threads\n",
      "2020-02-22 17:30:05,312 : INFO : EPOCH - 3 : training on 17097416 raw words (12648308 effective words) took 28.8s, 439526 effective words/s\n",
      "2020-02-22 17:30:06,331 : INFO : EPOCH 4 - PROGRESS: at 4.17% examples, 570489 words/s, in_qsize 8, out_qsize 0\n",
      "2020-02-22 17:30:07,350 : INFO : EPOCH 4 - PROGRESS: at 7.93% examples, 493053 words/s, in_qsize 7, out_qsize 0\n",
      "2020-02-22 17:30:08,352 : INFO : EPOCH 4 - PROGRESS: at 10.99% examples, 477195 words/s, in_qsize 7, out_qsize 0\n",
      "2020-02-22 17:30:09,355 : INFO : EPOCH 4 - PROGRESS: at 15.20% examples, 475081 words/s, in_qsize 7, out_qsize 0\n",
      "2020-02-22 17:30:10,358 : INFO : EPOCH 4 - PROGRESS: at 17.87% examples, 460869 words/s, in_qsize 7, out_qsize 0\n",
      "2020-02-22 17:30:11,373 : INFO : EPOCH 4 - PROGRESS: at 21.23% examples, 448485 words/s, in_qsize 7, out_qsize 0\n",
      "2020-02-22 17:30:12,383 : INFO : EPOCH 4 - PROGRESS: at 24.73% examples, 450898 words/s, in_qsize 7, out_qsize 0\n",
      "2020-02-22 17:30:13,404 : INFO : EPOCH 4 - PROGRESS: at 28.21% examples, 447978 words/s, in_qsize 7, out_qsize 0\n",
      "2020-02-22 17:30:14,405 : INFO : EPOCH 4 - PROGRESS: at 31.76% examples, 448091 words/s, in_qsize 7, out_qsize 0\n",
      "2020-02-22 17:30:15,411 : INFO : EPOCH 4 - PROGRESS: at 34.73% examples, 440099 words/s, in_qsize 7, out_qsize 0\n",
      "2020-02-22 17:30:16,425 : INFO : EPOCH 4 - PROGRESS: at 38.94% examples, 447976 words/s, in_qsize 7, out_qsize 0\n",
      "2020-02-22 17:30:17,437 : INFO : EPOCH 4 - PROGRESS: at 43.44% examples, 459553 words/s, in_qsize 7, out_qsize 0\n",
      "2020-02-22 17:30:18,445 : INFO : EPOCH 4 - PROGRESS: at 47.80% examples, 466268 words/s, in_qsize 7, out_qsize 0\n",
      "2020-02-22 17:30:19,446 : INFO : EPOCH 4 - PROGRESS: at 52.14% examples, 473099 words/s, in_qsize 7, out_qsize 0\n",
      "2020-02-22 17:30:20,466 : INFO : EPOCH 4 - PROGRESS: at 55.49% examples, 468987 words/s, in_qsize 7, out_qsize 0\n",
      "2020-02-22 17:30:21,469 : INFO : EPOCH 4 - PROGRESS: at 59.14% examples, 468523 words/s, in_qsize 7, out_qsize 0\n",
      "2020-02-22 17:30:22,472 : INFO : EPOCH 4 - PROGRESS: at 62.91% examples, 470334 words/s, in_qsize 8, out_qsize 0\n",
      "2020-02-22 17:30:23,481 : INFO : EPOCH 4 - PROGRESS: at 66.85% examples, 471422 words/s, in_qsize 7, out_qsize 0\n",
      "2020-02-22 17:30:24,482 : INFO : EPOCH 4 - PROGRESS: at 71.06% examples, 474617 words/s, in_qsize 7, out_qsize 0\n",
      "2020-02-22 17:30:25,493 : INFO : EPOCH 4 - PROGRESS: at 75.66% examples, 478935 words/s, in_qsize 7, out_qsize 0\n",
      "2020-02-22 17:30:26,498 : INFO : EPOCH 4 - PROGRESS: at 79.91% examples, 482644 words/s, in_qsize 8, out_qsize 0\n",
      "2020-02-22 17:30:27,505 : INFO : EPOCH 4 - PROGRESS: at 84.27% examples, 485502 words/s, in_qsize 7, out_qsize 0\n",
      "2020-02-22 17:30:28,523 : INFO : EPOCH 4 - PROGRESS: at 87.89% examples, 483742 words/s, in_qsize 7, out_qsize 0\n",
      "2020-02-22 17:30:29,529 : INFO : EPOCH 4 - PROGRESS: at 91.61% examples, 482349 words/s, in_qsize 8, out_qsize 0\n",
      "2020-02-22 17:30:30,534 : INFO : EPOCH 4 - PROGRESS: at 95.83% examples, 483815 words/s, in_qsize 7, out_qsize 0\n",
      "2020-02-22 17:30:31,356 : INFO : worker thread finished; awaiting finish of 3 more threads\n",
      "2020-02-22 17:30:31,374 : INFO : worker thread finished; awaiting finish of 2 more threads\n",
      "2020-02-22 17:30:31,380 : INFO : worker thread finished; awaiting finish of 1 more threads\n",
      "2020-02-22 17:30:31,393 : INFO : worker thread finished; awaiting finish of 0 more threads\n",
      "2020-02-22 17:30:31,394 : INFO : EPOCH - 4 : training on 17097416 raw words (12647950 effective words) took 26.1s, 485057 effective words/s\n",
      "2020-02-22 17:30:32,418 : INFO : EPOCH 5 - PROGRESS: at 4.04% examples, 554274 words/s, in_qsize 7, out_qsize 0\n",
      "2020-02-22 17:30:33,422 : INFO : EPOCH 5 - PROGRESS: at 8.46% examples, 556387 words/s, in_qsize 7, out_qsize 0\n",
      "2020-02-22 17:30:34,438 : INFO : EPOCH 5 - PROGRESS: at 12.05% examples, 511596 words/s, in_qsize 7, out_qsize 0\n",
      "2020-02-22 17:30:35,445 : INFO : EPOCH 5 - PROGRESS: at 15.20% examples, 474568 words/s, in_qsize 7, out_qsize 0\n",
      "2020-02-22 17:30:36,468 : INFO : EPOCH 5 - PROGRESS: at 17.01% examples, 439674 words/s, in_qsize 7, out_qsize 0\n",
      "2020-02-22 17:30:37,492 : INFO : EPOCH 5 - PROGRESS: at 20.82% examples, 438499 words/s, in_qsize 7, out_qsize 0\n",
      "2020-02-22 17:30:38,518 : INFO : EPOCH 5 - PROGRESS: at 23.89% examples, 434508 words/s, in_qsize 8, out_qsize 0\n",
      "2020-02-22 17:30:39,527 : INFO : EPOCH 5 - PROGRESS: at 27.20% examples, 425962 words/s, in_qsize 8, out_qsize 0\n",
      "2020-02-22 17:30:40,542 : INFO : EPOCH 5 - PROGRESS: at 29.31% examples, 411065 words/s, in_qsize 8, out_qsize 0\n",
      "2020-02-22 17:30:41,543 : INFO : EPOCH 5 - PROGRESS: at 32.48% examples, 411927 words/s, in_qsize 8, out_qsize 0\n",
      "2020-02-22 17:30:42,544 : INFO : EPOCH 5 - PROGRESS: at 36.41% examples, 419454 words/s, in_qsize 7, out_qsize 0\n",
      "2020-02-22 17:30:43,554 : INFO : EPOCH 5 - PROGRESS: at 39.89% examples, 420950 words/s, in_qsize 8, out_qsize 0\n",
      "2020-02-22 17:30:44,562 : INFO : EPOCH 5 - PROGRESS: at 43.26% examples, 422128 words/s, in_qsize 8, out_qsize 0\n",
      "2020-02-22 17:30:45,577 : INFO : EPOCH 5 - PROGRESS: at 46.20% examples, 417708 words/s, in_qsize 7, out_qsize 0\n",
      "2020-02-22 17:30:46,593 : INFO : EPOCH 5 - PROGRESS: at 49.36% examples, 415589 words/s, in_qsize 7, out_qsize 0\n"
     ]
    },
    {
     "name": "stderr",
     "output_type": "stream",
     "text": [
      "2020-02-22 17:30:47,598 : INFO : EPOCH 5 - PROGRESS: at 51.53% examples, 408444 words/s, in_qsize 8, out_qsize 0\n",
      "2020-02-22 17:30:48,604 : INFO : EPOCH 5 - PROGRESS: at 55.43% examples, 412654 words/s, in_qsize 8, out_qsize 0\n",
      "2020-02-22 17:30:49,608 : INFO : EPOCH 5 - PROGRESS: at 58.89% examples, 414197 words/s, in_qsize 8, out_qsize 0\n",
      "2020-02-22 17:30:50,609 : INFO : EPOCH 5 - PROGRESS: at 62.56% examples, 416420 words/s, in_qsize 7, out_qsize 0\n",
      "2020-02-22 17:30:51,614 : INFO : EPOCH 5 - PROGRESS: at 66.09% examples, 418421 words/s, in_qsize 7, out_qsize 0\n",
      "2020-02-22 17:30:52,630 : INFO : EPOCH 5 - PROGRESS: at 69.87% examples, 421961 words/s, in_qsize 7, out_qsize 0\n",
      "2020-02-22 17:30:53,631 : INFO : EPOCH 5 - PROGRESS: at 73.48% examples, 423588 words/s, in_qsize 8, out_qsize 0\n",
      "2020-02-22 17:30:54,646 : INFO : EPOCH 5 - PROGRESS: at 77.01% examples, 424356 words/s, in_qsize 7, out_qsize 0\n",
      "2020-02-22 17:30:55,657 : INFO : EPOCH 5 - PROGRESS: at 79.85% examples, 421222 words/s, in_qsize 7, out_qsize 0\n",
      "2020-02-22 17:30:56,665 : INFO : EPOCH 5 - PROGRESS: at 83.96% examples, 424353 words/s, in_qsize 7, out_qsize 0\n",
      "2020-02-22 17:30:57,674 : INFO : EPOCH 5 - PROGRESS: at 87.81% examples, 427084 words/s, in_qsize 7, out_qsize 0\n",
      "2020-02-22 17:30:58,678 : INFO : EPOCH 5 - PROGRESS: at 91.95% examples, 429626 words/s, in_qsize 7, out_qsize 0\n",
      "2020-02-22 17:30:59,709 : INFO : EPOCH 5 - PROGRESS: at 96.11% examples, 432163 words/s, in_qsize 7, out_qsize 0\n",
      "2020-02-22 17:31:00,643 : INFO : worker thread finished; awaiting finish of 3 more threads\n",
      "2020-02-22 17:31:00,647 : INFO : worker thread finished; awaiting finish of 2 more threads\n",
      "2020-02-22 17:31:00,665 : INFO : worker thread finished; awaiting finish of 1 more threads\n",
      "2020-02-22 17:31:00,679 : INFO : worker thread finished; awaiting finish of 0 more threads\n",
      "2020-02-22 17:31:00,680 : INFO : EPOCH - 5 : training on 17097416 raw words (12649535 effective words) took 29.3s, 432074 effective words/s\n",
      "2020-02-22 17:31:00,681 : INFO : training on a 85487080 raw words (63241694 effective words) took 144.8s, 436800 effective words/s\n"
     ]
    }
   ],
   "source": [
    "model.train(documents, \n",
    "            total_examples=model.corpus_count, \n",
    "            epochs=model.epochs)"
   ]
  },
  {
   "cell_type": "code",
   "execution_count": 17,
   "metadata": {},
   "outputs": [
    {
     "name": "stderr",
     "output_type": "stream",
     "text": [
      "2020-02-22 17:31:24,386 : INFO : precomputing L2-norms of doc weight vectors\n"
     ]
    },
    {
     "name": "stdout",
     "output_type": "stream",
     "text": [
      "TaggedDocument(['br', 'r', 'span', 'strong', 'opportunity', 'strong', 'br', 'r', 'br', 'r', 'span', 'r', 'p', 'schweitzer', 'engineering', 'laboratories', 'sel', 'seeks', 'professional', 'innovative', 'detailed', 'individual', 'customer', 'service', 'representative', 'position', 'located', 'dothan', 'alabama', 'looking', 'opportunity', 'bring', 'skills', 'technically', 'fast', 'paced', 'customer', 'service', 'oriented', 'environment', 'position', 'br', 'r', 'br', 'r', 'span', 'style', 'text', 'decoration', 'underline', 'dothan', 'alabama', 'span', 'rapidly', 'growing', 'city', 'thriving', 'community', 'built', 'around', 'landmarks', 'past', 'dothan', 'become', 'melting', 'pot', 'friendly', 'atmosphere', 'southern', 'hospitality', 'p', 'r', 'span', 'br', 'r', 'strong', 'customer', 'service', 'representative', 'strong', 'span', 'r', 'p', 'strong', 'span', 'style', 'text', 'decoration', 'underline', 'br', 'rresponsibilities', 'br', 'r', 'br', 'r', 'span', 'strong', 'p', 'r', 'ul', 'r', 'li', 'support', 'sales', 'marketing', 'activities', 'maintaining', 'regular', 'contact', 'representatives', 'distributors', 'customers', 'li', 'r', 'li', 'support', 'field', 'office', 'staff', 'li', 'r', 'li', 'collect', 'analyze', 'report', 'customer', 'feedback', 'products', 'services', 'li', 'r', 'li', 'prepare', 'bids', 'quotations', 'enter', 'track', 'orders', 'monitor', 'past', 'due', 'accounts', 'li', 'r', 'li', 'promote', 'product', 'sales', 'track', 'progress', 'toward', 'sales', 'goals', 'li', 'r', 'li', 'measure', 'ensure', 'customer', 'satisfaction', 'li', 'r', 'li', 'plan', 'organize', 'customer', 'visits', 'conferences', 'seminars', 'training', 'marketing', 'sales', 'activities', 'li', 'r', 'li', 'follow', 'improve', 'customer', 'service', 'area', 'processes', 'li', 'r', 'ul', 'r', 'p', 'strong', 'span', 'style', 'text', 'decoration', 'underline', 'br', 'r', 'span', 'strong', 'nbsp', 'p'], [5])\n",
      "TaggedDocument(['br', 'r', 'strong', 'span', 'opportunity', 'span', 'strong', 'br', 'r', 'br', 'r', 'p', 'schweitzer', 'engineering', 'laboratories', 'sel', 'seeks', 'professional', 'innovative', 'detailed', 'individual', 'customer', 'service', 'representative', 'looking', 'opportunity', 'interact', 'diverse', 'internal', 'external', 'customers', 'provide', 'superior', 'services', 'solutions', 'position', 'br', 'r', 'br', 'rlocated', 'fair', 'oaks', 'ranch', 'tx', 'p', 'r', 'span', 'customer', 'service', 'representative', 'span', 'br', 'r', 'br', 'r', 'p', 'strong', 'span', 'style', 'text', 'decoration', 'underline', 'responsibilities', 'span', 'strong', 'p', 'r', 'br', 'r', 'ul', 'r', 'li', 'support', 'sales', 'marketing', 'activities', 'maintaining', 'regular', 'contact', 'representatives', 'distributors', 'customers', 'li', 'r', 'li', 'support', 'field', 'office', 'staff', 'li', 'r', 'li', 'collect', 'analyze', 'report', 'customer', 'feedback', 'products', 'services', 'li', 'r', 'li', 'prepare', 'bids', 'quotations', 'enter', 'track', 'orders', 'monitor', 'past', 'due', 'accounts', 'li', 'r', 'li', 'promote', 'product', 'sales', 'track', 'progress', 'toward', 'sales', 'goals', 'li', 'r', 'li', 'measure', 'ensure', 'customer', 'satisfaction', 'li', 'r', 'li', 'plan', 'organize', 'customer', 'visits', 'conferences', 'seminars', 'training', 'marketing', 'sales', 'activities', 'li', 'r', 'li', 'follow', 'improve', 'customer', 'service', 'area', 'processes', 'li', 'r', 'ul'], [54483])\n",
      "TaggedDocument(['br', 'r', 'span', 'strong', 'opportunity', 'strong', 'br', 'r', 'br', 'r', 'span', 'r', 'p', 'schweitzer', 'engineering', 'laboratories', 'sel', 'seeks', 'professional', 'innovative', 'detailed', 'individual', 'customer', 'service', 'representative', 'position', 'located', 'dothan', 'alabama', 'looking', 'opportunity', 'bring', 'skills', 'technically', 'fast', 'paced', 'customer', 'service', 'oriented', 'environment', 'position', 'br', 'r', 'br', 'r', 'span', 'style', 'text', 'decoration', 'underline', 'dothan', 'alabama', 'span', 'rapidly', 'growing', 'city', 'thriving', 'community', 'built', 'around', 'landmarks', 'past', 'dothan', 'become', 'melting', 'pot', 'friendly', 'atmosphere', 'southern', 'hospitality', 'p', 'r', 'span', 'br', 'r', 'strong', 'customer', 'service', 'representative', 'strong', 'span', 'r', 'p', 'strong', 'span', 'style', 'text', 'decoration', 'underline', 'br', 'rresponsibilities', 'br', 'r', 'br', 'r', 'span', 'strong', 'p', 'r', 'ul', 'r', 'li', 'support', 'sales', 'marketing', 'activities', 'maintaining', 'regular', 'contact', 'representatives', 'distributors', 'customers', 'li', 'r', 'li', 'support', 'field', 'office', 'staff', 'li', 'r', 'li', 'collect', 'analyze', 'report', 'customer', 'feedback', 'products', 'services', 'li', 'r', 'li', 'prepare', 'bids', 'quotations', 'enter', 'track', 'orders', 'monitor', 'past', 'due', 'accounts', 'li', 'r', 'li', 'promote', 'product', 'sales', 'track', 'progress', 'toward', 'sales', 'goals', 'li', 'r', 'li', 'measure', 'ensure', 'customer', 'satisfaction', 'li', 'r', 'li', 'plan', 'organize', 'customer', 'visits', 'conferences', 'seminars', 'training', 'marketing', 'sales', 'activities', 'li', 'r', 'li', 'follow', 'improve', 'customer', 'service', 'area', 'processes', 'li', 'r', 'ul', 'r', 'p', 'strong', 'span', 'style', 'text', 'decoration', 'underline', 'br', 'r', 'span', 'strong', 'nbsp', 'p'], [5])\n",
      "TaggedDocument(['br', 'r', 'strong', 'span', 'opportunity', 'span', 'strong', 'br', 'r', 'br', 'r', 'p', 'schweitzer', 'engineering', 'laboratories', 'sel', 'seeks', 'professional', 'innovative', 'detailed', 'individual', 'customer', 'service', 'representative', 'looking', 'opportunity', 'interact', 'diverse', 'internal', 'external', 'customers', 'provide', 'superior', 'services', 'solutions', 'position', 'br', 'r', 'br', 'rlocated', 'fair', 'oaks', 'ranch', 'tx', 'p', 'r', 'br', 'r', 'span', 'strong', 'customer', 'service', 'representative', 'strong', 'span', 'br', 'r', 'br', 'r', 'p', 'strong', 'span', 'style', 'text', 'decoration', 'underline', 'responsibilities', 'span', 'strong', 'p', 'r', 'br', 'r', 'ul', 'r', 'li', 'support', 'sales', 'marketing', 'activities', 'maintaining', 'regular', 'contact', 'representatives', 'distributors', 'customers', 'li', 'r', 'li', 'support', 'field', 'office', 'staff', 'li', 'r', 'li', 'collect', 'analyze', 'report', 'customer', 'feedback', 'products', 'services', 'li', 'r', 'li', 'prepare', 'bids', 'quotations', 'enter', 'track', 'orders', 'monitor', 'past', 'due', 'accounts', 'li', 'r', 'li', 'promote', 'product', 'sales', 'track', 'progress', 'toward', 'sales', 'goals', 'li', 'r', 'li', 'measure', 'ensure', 'customer', 'satisfaction', 'li', 'r', 'li', 'plan', 'organize', 'customer', 'visits', 'conferences', 'seminars', 'training', 'marketing', 'sales', 'activities', 'li', 'r', 'li', 'follow', 'improve', 'customer', 'service', 'area', 'processes', 'li', 'r', 'ul'], [51944])\n",
      "TaggedDocument(['p', 'b', 'span', 'rsi', 'home', 'products', 'inc', 'span', 'b', 'span', 'america', 'leading', 'manufacturer', 'bathroom', 'kitchen', 'cabinets', 'immediate', 'sales', 'representative', 'position', 'service', 'promote', 'product', 'lines', 'world', 'largest', 'home', 'improvement', 'retailer', 'position', 'covers', 'following', 'territory', 'b', 'manchester', 'nh', 'b', 'span', 'p', 'r', 'p', 'span', 'span', 'p', 'r', 'p', 'span', 'position', 'b', 'sales', 'representative', 'b', 'plays', 'critical', 'role', 'building', 'brand', 'awareness', 'customer', 'loyalty', 'increasing', 'sales', 'customer', 'value', 'outstanding', 'service', 'successful', 'individuals', 'responsible', 'increasing', 'market', 'share', 'within', 'given', 'geographic', 'territory', 'product', 'knowledge', 'training', 'identification', 'creative', 'merchandising', 'opportunities', 'maintain', 'stock', 'inventory', 'positions', 'effectively', 'assist', 'support', 'identified', 'service', 'group', 'members', 'ensure', 'exceptional', 'store', 'execution', 'presentation', 'displays', 'products', 'span', 'p', 'r', 'p', 'span', 'span', 'p', 'r', 'p', 'span', 'individual', 'must', 'self', 'motivated', 'goal', 'oriented', 'passion', 'achieve', 'sales', 'marketing', 'merchandising', 'objectives', 'knowledge', 'retail', 'home', 'improvement', 'industry', 'bathroom', 'cabinetry', 'business', 'beneficial', 'required', 'span', 'p'], [30904])\n",
      "TaggedDocument(['p', 'growing', 'manufacturer', 'seeking', 'inside', 'sales', 'rep', 'handle', 'speciality', 'markets', 'identify', 'implement', 'executive', 'manage', 'sales', 'strategies', 'acquire', 'new', 'business', 'company', 'offer', 'training', 'products', 'friendly', 'office', 'environment', 'competitive', 'salary', 'benefit', 'package', 'p', 'r', 'p', 'responsibilities', 'position', 'include', 'limited', 'p', 'r', 'p', 'identifying', 'qualifying', 'closing', 'new', 'specialty', 'market', 'business', 'p', 'r', 'p', 'build', 'customer', 'relationships', 'interpreting', 'understanding', 'customer', 'requirements', 'secure', 'orders', 'br', 'rtimely', 'follow', 'prospective', 'clients', 'br', 'rrecordkeeping', 'sales', 'activities', 'p', 'r', 'p', 'nbsp', 'p'], [5140])\n"
     ]
    }
   ],
   "source": [
    "i = 5\n",
    "inferred_vector = model.infer_vector(docs[i].split())\n",
    "sims = model.docvecs.most_similar([inferred_vector], topn=5)\n",
    "top_5 = [docid for docid, sim in sims]\n",
    "\n",
    "print(documents[i])\n",
    "for i in top_5:\n",
    "    print(documents[i])"
   ]
  },
  {
   "cell_type": "code",
   "execution_count": null,
   "metadata": {},
   "outputs": [],
   "source": [
    "print('Document ({}): «{}»\\n'.format(doc_id, ' '.join(train_corpus[doc_id].words)))\n",
    "print(u'SIMILAR/DISSIMILAR DOCS PER MODEL %s:\\n' % model)\n",
    "for label, index in [('MOST', 0), ('SECOND-MOST', 1), ('MEDIAN', len(sims)//2), ('LEAST', len(sims) - 1)]:\n",
    "    print(u'%s %s: «%s»\\n' % (label, sims[index], ' '.join(train_corpus[sims[index][0]].words)))"
   ]
  },
  {
   "cell_type": "code",
   "execution_count": null,
   "metadata": {},
   "outputs": [],
   "source": []
  }
 ],
 "metadata": {
  "anaconda-cloud": {},
  "kernelspec": {
   "display_name": "Python [default]",
   "language": "python",
   "name": "python3"
  },
  "language_info": {
   "codemirror_mode": {
    "name": "ipython",
    "version": 3
   },
   "file_extension": ".py",
   "mimetype": "text/x-python",
   "name": "python",
   "nbconvert_exporter": "python",
   "pygments_lexer": "ipython3",
   "version": "3.6.6"
  }
 },
 "nbformat": 4,
 "nbformat_minor": 2
}
